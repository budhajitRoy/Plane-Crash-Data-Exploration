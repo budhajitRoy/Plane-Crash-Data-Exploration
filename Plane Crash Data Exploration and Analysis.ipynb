{
 "cells": [
  {
   "cell_type": "markdown",
   "metadata": {},
   "source": [
    "## Plane Crash Data Exploration and Analysis\n",
    "\n",
    "#### Budhajit Roy Chanamthabam"
   ]
  },
  {
   "cell_type": "code",
   "execution_count": 1,
   "metadata": {},
   "outputs": [],
   "source": [
    "# import necessary libraries\n",
    "#https://www.kaggle.com/budhajit/plane-crash-information-dataset\n",
    "\n",
    "import pandas as pd\n",
    "import numpy as np\n",
    "import matplotlib.pyplot as plt\n",
    "import seaborn as sns\n",
    "import requests\n",
    "import json\n",
    "from bs4 import BeautifulSoup\n",
    "import warnings\n",
    "import re\n",
    "import datetime\n",
    "warnings.filterwarnings('ignore')"
   ]
  },
  {
   "cell_type": "code",
   "execution_count": 2,
   "metadata": {},
   "outputs": [],
   "source": [
    "def set_data(year, dates):\n",
    "    date = []\n",
    "    time = []\n",
    "    location = []\n",
    "    operator = []\n",
    "    flight_number = []\n",
    "    route = []\n",
    "    aircraft_type = []\n",
    "    registration = []\n",
    "    cn_ln = []\n",
    "    aboard = []\n",
    "    fatalities = []\n",
    "    ground = []\n",
    "    summary = []\n",
    "    final_data = {}\n",
    "\n",
    "    for i in range(len(dates)):\n",
    "        url1 = \"http://www.planecrashinfo.com/\"+str(year)+\"/\"+str(year)+\"-\"+str(i+1)+\".htm\"\n",
    "        #print(url)\n",
    "        r1 = requests.get(url1)\n",
    "        htm_doc = r1.text  \n",
    "\n",
    "        soup1 = BeautifulSoup(htm_doc)\n",
    "        td_tags = soup1.find_all('td')\n",
    "\n",
    "        test = []\n",
    "        for items in td_tags:\n",
    "            test.append(items.text)\n",
    "\n",
    "        # add the data details to their corresponding lists\n",
    "        date.append(test[3])\n",
    "        time.append(test[5])\n",
    "        location.append(test[7])\n",
    "        operator.append(test[9])\n",
    "        flight_number.append(test[11])\n",
    "        route.append(test[13])\n",
    "        aircraft_type.append(test[15])\n",
    "        registration.append(test[17])\n",
    "        cn_ln.append(test[19])\n",
    "        aboard.append(test[21])\n",
    "        fatalities.append(test[23])\n",
    "        ground.append(test[25])\n",
    "        summary.append(test[27])\n",
    "        \n",
    "    final_data['date'] = date\n",
    "    final_data['time'] = time\n",
    "    final_data['location'] = location\n",
    "    final_data['operator'] = operator\n",
    "    final_data['flight_number'] = flight_number\n",
    "    final_data['route'] = route\n",
    "    final_data['aircraft_type'] = aircraft_type\n",
    "    final_data['registration'] = registration\n",
    "    final_data['cn_ln'] = cn_ln\n",
    "    final_data['aboard'] = aboard\n",
    "    final_data['fatalities'] = fatalities\n",
    "    final_data['ground'] = ground\n",
    "    final_data['summary'] = summary\n",
    "    \n",
    "    return final_data"
   ]
  },
  {
   "cell_type": "code",
   "execution_count": 4,
   "metadata": {},
   "outputs": [],
   "source": [
    "# setting up the data for each year and creating the dataframe\n",
    "\n",
    "for year in range(1920,2020):    \n",
    "    url = \"http://www.planecrashinfo.com/\"+str(year)+\"/\"+str(year)+\".htm\"\n",
    "    r = requests.get(url)\n",
    "    html_doc = r.text\n",
    "    soup = BeautifulSoup(html_doc)\n",
    "    a_tags = soup.find_all('a')\n",
    "    dates = []\n",
    "    for link in a_tags:\n",
    "        #print(link.text) # this returns the text\n",
    "        dates.append(link.text)\n",
    "        #print(link.get('href')) # this returns the link\n",
    "    dates = dates[:-1]\n",
    "    year_df = set_data(year,dates)\n",
    "    if year!= 1920:\n",
    "        temp_df = pd.DataFrame(year_df)\n",
    "        final_df = pd.concat([final_df,temp_df])\n",
    "    else:\n",
    "        final_df = pd.DataFrame(year_df)\n",
    "    "
   ]
  },
  {
   "cell_type": "code",
   "execution_count": 5,
   "metadata": {},
   "outputs": [
    {
     "data": {
      "text/plain": [
       "(5242, 13)"
      ]
     },
     "execution_count": 5,
     "metadata": {},
     "output_type": "execute_result"
    }
   ],
   "source": [
    "final_df.shape"
   ]
  },
  {
   "cell_type": "code",
   "execution_count": 7,
   "metadata": {},
   "outputs": [
    {
     "name": "stdout",
     "output_type": "stream",
     "text": [
      "<class 'pandas.core.frame.DataFrame'>\n",
      "Int64Index: 5242 entries, 0 to 0\n",
      "Data columns (total 13 columns):\n",
      "date             5242 non-null object\n",
      "time             5242 non-null object\n",
      "location         5242 non-null object\n",
      "operator         5242 non-null object\n",
      "flight_number    5242 non-null object\n",
      "route            5242 non-null object\n",
      "aircraft_type    5242 non-null object\n",
      "registration     5242 non-null object\n",
      "cn_ln            5242 non-null object\n",
      "aboard           5242 non-null object\n",
      "fatalities       5242 non-null object\n",
      "ground           5242 non-null object\n",
      "summary          5242 non-null object\n",
      "dtypes: object(13)\n",
      "memory usage: 573.3+ KB\n"
     ]
    }
   ],
   "source": [
    "final_df.info()"
   ]
  },
  {
   "cell_type": "code",
   "execution_count": 8,
   "metadata": {},
   "outputs": [
    {
     "data": {
      "text/html": [
       "<div>\n",
       "<style scoped>\n",
       "    .dataframe tbody tr th:only-of-type {\n",
       "        vertical-align: middle;\n",
       "    }\n",
       "\n",
       "    .dataframe tbody tr th {\n",
       "        vertical-align: top;\n",
       "    }\n",
       "\n",
       "    .dataframe thead th {\n",
       "        text-align: right;\n",
       "    }\n",
       "</style>\n",
       "<table border=\"1\" class=\"dataframe\">\n",
       "  <thead>\n",
       "    <tr style=\"text-align: right;\">\n",
       "      <th></th>\n",
       "      <th>date</th>\n",
       "      <th>time</th>\n",
       "      <th>location</th>\n",
       "      <th>operator</th>\n",
       "      <th>flight_number</th>\n",
       "      <th>route</th>\n",
       "      <th>aircraft_type</th>\n",
       "      <th>registration</th>\n",
       "      <th>cn_ln</th>\n",
       "      <th>aboard</th>\n",
       "      <th>fatalities</th>\n",
       "      <th>ground</th>\n",
       "      <th>summary</th>\n",
       "    </tr>\n",
       "  </thead>\n",
       "  <tbody>\n",
       "    <tr>\n",
       "      <th>0</th>\n",
       "      <td>September 17, 1908</td>\n",
       "      <td>17:18</td>\n",
       "      <td>Fort Myer, Virginia</td>\n",
       "      <td>Military - U.S. Army</td>\n",
       "      <td>?</td>\n",
       "      <td>Demonstration</td>\n",
       "      <td>Wright Flyer III</td>\n",
       "      <td>?</td>\n",
       "      <td>1</td>\n",
       "      <td>2   (passengers:1  crew:1)</td>\n",
       "      <td>1   (passengers:1  crew:0)</td>\n",
       "      <td>0</td>\n",
       "      <td>During a demonstration flight, a U.S. Army fly...</td>\n",
       "    </tr>\n",
       "    <tr>\n",
       "      <th>1</th>\n",
       "      <td>September 07, 1909</td>\n",
       "      <td>?</td>\n",
       "      <td>Juvisy-sur-Orge, France</td>\n",
       "      <td>?</td>\n",
       "      <td>?</td>\n",
       "      <td>Air show</td>\n",
       "      <td>Wright Byplane</td>\n",
       "      <td>SC1</td>\n",
       "      <td>?</td>\n",
       "      <td>1   (passengers:0  crew:1)</td>\n",
       "      <td>1   (passengers:0  crew:0)</td>\n",
       "      <td>0</td>\n",
       "      <td>Eugene Lefebvre was the first pilot to ever be...</td>\n",
       "    </tr>\n",
       "    <tr>\n",
       "      <th>2</th>\n",
       "      <td>July 12, 1912</td>\n",
       "      <td>06:30</td>\n",
       "      <td>Atlantic City, New Jersey</td>\n",
       "      <td>Military - U.S. Navy</td>\n",
       "      <td>?</td>\n",
       "      <td>Test flight</td>\n",
       "      <td>Dirigible</td>\n",
       "      <td>?</td>\n",
       "      <td>?</td>\n",
       "      <td>5   (passengers:0  crew:5)</td>\n",
       "      <td>5   (passengers:0  crew:5)</td>\n",
       "      <td>0</td>\n",
       "      <td>First U.S. dirigible Akron exploded just offsh...</td>\n",
       "    </tr>\n",
       "    <tr>\n",
       "      <th>3</th>\n",
       "      <td>August 06, 1913</td>\n",
       "      <td>?</td>\n",
       "      <td>Victoria, British Columbia, Canada</td>\n",
       "      <td>Private</td>\n",
       "      <td>?</td>\n",
       "      <td>?</td>\n",
       "      <td>Curtiss seaplane</td>\n",
       "      <td>?</td>\n",
       "      <td>?</td>\n",
       "      <td>1   (passengers:0  crew:1)</td>\n",
       "      <td>1   (passengers:0  crew:1)</td>\n",
       "      <td>0</td>\n",
       "      <td>The first fatal airplane accident in Canada oc...</td>\n",
       "    </tr>\n",
       "    <tr>\n",
       "      <th>4</th>\n",
       "      <td>September 09, 1913</td>\n",
       "      <td>c 18:30</td>\n",
       "      <td>Over the North Sea</td>\n",
       "      <td>Military - German Navy</td>\n",
       "      <td>?</td>\n",
       "      <td>?</td>\n",
       "      <td>Zeppelin L-1 (airship)</td>\n",
       "      <td>?</td>\n",
       "      <td>?</td>\n",
       "      <td>20   (passengers:?  crew:?)</td>\n",
       "      <td>14   (passengers:?  crew:?)</td>\n",
       "      <td>0</td>\n",
       "      <td>The airship flew into a thunderstorm and encou...</td>\n",
       "    </tr>\n",
       "  </tbody>\n",
       "</table>\n",
       "</div>"
      ],
      "text/plain": [
       "                 date     time                            location  \\\n",
       "0  September 17, 1908    17:18                 Fort Myer, Virginia   \n",
       "1  September 07, 1909        ?             Juvisy-sur-Orge, France   \n",
       "2       July 12, 1912    06:30           Atlantic City, New Jersey   \n",
       "3     August 06, 1913        ?  Victoria, British Columbia, Canada   \n",
       "4  September 09, 1913  c 18:30                  Over the North Sea   \n",
       "\n",
       "                 operator flight_number          route  \\\n",
       "0    Military - U.S. Army             ?  Demonstration   \n",
       "1                       ?             ?       Air show   \n",
       "2    Military - U.S. Navy             ?    Test flight   \n",
       "3                 Private             ?              ?   \n",
       "4  Military - German Navy             ?              ?   \n",
       "\n",
       "            aircraft_type registration cn_ln                       aboard  \\\n",
       "0        Wright Flyer III            ?     1   2   (passengers:1  crew:1)   \n",
       "1          Wright Byplane          SC1     ?   1   (passengers:0  crew:1)   \n",
       "2               Dirigible            ?     ?   5   (passengers:0  crew:5)   \n",
       "3        Curtiss seaplane            ?     ?   1   (passengers:0  crew:1)   \n",
       "4  Zeppelin L-1 (airship)            ?     ?  20   (passengers:?  crew:?)   \n",
       "\n",
       "                    fatalities ground  \\\n",
       "0   1   (passengers:1  crew:0)      0   \n",
       "1   1   (passengers:0  crew:0)      0   \n",
       "2   5   (passengers:0  crew:5)      0   \n",
       "3   1   (passengers:0  crew:1)      0   \n",
       "4  14   (passengers:?  crew:?)      0   \n",
       "\n",
       "                                             summary  \n",
       "0  During a demonstration flight, a U.S. Army fly...  \n",
       "1  Eugene Lefebvre was the first pilot to ever be...  \n",
       "2  First U.S. dirigible Akron exploded just offsh...  \n",
       "3  The first fatal airplane accident in Canada oc...  \n",
       "4  The airship flew into a thunderstorm and encou...  "
      ]
     },
     "execution_count": 8,
     "metadata": {},
     "output_type": "execute_result"
    }
   ],
   "source": [
    "final_df.head()"
   ]
  },
  {
   "cell_type": "code",
   "execution_count": 9,
   "metadata": {},
   "outputs": [
    {
     "data": {
      "text/html": [
       "<div>\n",
       "<style scoped>\n",
       "    .dataframe tbody tr th:only-of-type {\n",
       "        vertical-align: middle;\n",
       "    }\n",
       "\n",
       "    .dataframe tbody tr th {\n",
       "        vertical-align: top;\n",
       "    }\n",
       "\n",
       "    .dataframe thead th {\n",
       "        text-align: right;\n",
       "    }\n",
       "</style>\n",
       "<table border=\"1\" class=\"dataframe\">\n",
       "  <thead>\n",
       "    <tr style=\"text-align: right;\">\n",
       "      <th></th>\n",
       "      <th>date</th>\n",
       "      <th>time</th>\n",
       "      <th>location</th>\n",
       "      <th>operator</th>\n",
       "      <th>flight_number</th>\n",
       "      <th>route</th>\n",
       "      <th>aircraft_type</th>\n",
       "      <th>registration</th>\n",
       "      <th>cn_ln</th>\n",
       "      <th>aboard</th>\n",
       "      <th>fatalities</th>\n",
       "      <th>ground</th>\n",
       "      <th>summary</th>\n",
       "    </tr>\n",
       "  </thead>\n",
       "  <tbody>\n",
       "    <tr>\n",
       "      <th>15</th>\n",
       "      <td>September 28, 2018</td>\n",
       "      <td>1010</td>\n",
       "      <td>Chuuk, Micronesia</td>\n",
       "      <td>Air Niugini</td>\n",
       "      <td>?</td>\n",
       "      <td>Pohnpei - Chuuk</td>\n",
       "      <td>Boeing 737-8BK</td>\n",
       "      <td>P2-PXE</td>\n",
       "      <td>33024/1688</td>\n",
       "      <td>47   (passengers:35  crew:12)</td>\n",
       "      <td>1   (passengers:1  crew:0)</td>\n",
       "      <td>0</td>\n",
       "      <td>The aircraft was approaching for a landing at ...</td>\n",
       "    </tr>\n",
       "    <tr>\n",
       "      <th>16</th>\n",
       "      <td>October 29, 2018</td>\n",
       "      <td>0631</td>\n",
       "      <td>Off Jakarta, Indonesia</td>\n",
       "      <td>Lion Air</td>\n",
       "      <td>610</td>\n",
       "      <td>Jakarta - Pangkal Pinang</td>\n",
       "      <td>Boeing 737-MAX 8</td>\n",
       "      <td>PK-LQP</td>\n",
       "      <td>43000/7058</td>\n",
       "      <td>189   (passengers:181  crew:8)</td>\n",
       "      <td>189   (passengers:181  crew:8)</td>\n",
       "      <td>0</td>\n",
       "      <td>The airliner crashed into the Jakarta Sea, 13 ...</td>\n",
       "    </tr>\n",
       "    <tr>\n",
       "      <th>17</th>\n",
       "      <td>November 06, 2018</td>\n",
       "      <td>0253</td>\n",
       "      <td>Georgetown, Guyana</td>\n",
       "      <td>Fly Jamaica Airways</td>\n",
       "      <td>?</td>\n",
       "      <td>Georgetown - Toronto</td>\n",
       "      <td>Boeing 757-N23</td>\n",
       "      <td>N524AT</td>\n",
       "      <td>30233/895</td>\n",
       "      <td>128   (passengers:120  crew:8)</td>\n",
       "      <td>1   (passengers:1  crew:0)</td>\n",
       "      <td>0</td>\n",
       "      <td>After taking off and reaching FL200, the crew ...</td>\n",
       "    </tr>\n",
       "    <tr>\n",
       "      <th>18</th>\n",
       "      <td>November 18, 2018</td>\n",
       "      <td>2300</td>\n",
       "      <td>Near Mandan, North Dakota</td>\n",
       "      <td>Metro Area Ambulance Services</td>\n",
       "      <td>?</td>\n",
       "      <td>Bismark - Sloulin Field</td>\n",
       "      <td>Cessna 441 Conquest II</td>\n",
       "      <td>N441CX</td>\n",
       "      <td>441-0305</td>\n",
       "      <td>3   (passengers:2  crew:1)</td>\n",
       "      <td>3   (passengers:2  crew:1)</td>\n",
       "      <td>0</td>\n",
       "      <td>The air ambulance en route to pick up a patien...</td>\n",
       "    </tr>\n",
       "    <tr>\n",
       "      <th>0</th>\n",
       "      <td>January 14, 2019</td>\n",
       "      <td>0830</td>\n",
       "      <td>Karaj, Iran</td>\n",
       "      <td>Saha Air</td>\n",
       "      <td>?</td>\n",
       "      <td>Bishkek - Payam</td>\n",
       "      <td>Boeing 707-3J9C</td>\n",
       "      <td>EP-CPP</td>\n",
       "      <td>21128/917</td>\n",
       "      <td>16   (passengers:13  crew:3)</td>\n",
       "      <td>15   (passengers:13  crew:2)</td>\n",
       "      <td>0</td>\n",
       "      <td>The cargo plane was operated by the Iranian Ai...</td>\n",
       "    </tr>\n",
       "  </tbody>\n",
       "</table>\n",
       "</div>"
      ],
      "text/plain": [
       "                  date  time                   location  \\\n",
       "15  September 28, 2018  1010          Chuuk, Micronesia   \n",
       "16    October 29, 2018  0631     Off Jakarta, Indonesia   \n",
       "17   November 06, 2018  0253         Georgetown, Guyana   \n",
       "18   November 18, 2018  2300  Near Mandan, North Dakota   \n",
       "0     January 14, 2019  0830                Karaj, Iran   \n",
       "\n",
       "                         operator flight_number                     route  \\\n",
       "15                    Air Niugini             ?           Pohnpei - Chuuk   \n",
       "16                       Lion Air           610  Jakarta - Pangkal Pinang   \n",
       "17            Fly Jamaica Airways             ?      Georgetown - Toronto   \n",
       "18  Metro Area Ambulance Services             ?   Bismark - Sloulin Field   \n",
       "0                        Saha Air             ?           Bishkek - Payam   \n",
       "\n",
       "             aircraft_type registration       cn_ln  \\\n",
       "15          Boeing 737-8BK       P2-PXE  33024/1688   \n",
       "16        Boeing 737-MAX 8       PK-LQP  43000/7058   \n",
       "17          Boeing 757-N23      N524AT    30233/895   \n",
       "18  Cessna 441 Conquest II      N441CX     441-0305   \n",
       "0          Boeing 707-3J9C       EP-CPP   21128/917   \n",
       "\n",
       "                            aboard                      fatalities ground  \\\n",
       "15   47   (passengers:35  crew:12)      1   (passengers:1  crew:0)      0   \n",
       "16  189   (passengers:181  crew:8)  189   (passengers:181  crew:8)      0   \n",
       "17  128   (passengers:120  crew:8)      1   (passengers:1  crew:0)      0   \n",
       "18      3   (passengers:2  crew:1)      3   (passengers:2  crew:1)      0   \n",
       "0     16   (passengers:13  crew:3)    15   (passengers:13  crew:2)      0   \n",
       "\n",
       "                                              summary  \n",
       "15  The aircraft was approaching for a landing at ...  \n",
       "16  The airliner crashed into the Jakarta Sea, 13 ...  \n",
       "17  After taking off and reaching FL200, the crew ...  \n",
       "18  The air ambulance en route to pick up a patien...  \n",
       "0   The cargo plane was operated by the Iranian Ai...  "
      ]
     },
     "execution_count": 9,
     "metadata": {},
     "output_type": "execute_result"
    }
   ],
   "source": [
    "final_df.tail()"
   ]
  },
  {
   "cell_type": "code",
   "execution_count": 11,
   "metadata": {},
   "outputs": [],
   "source": [
    "final_df = final_df.reset_index(drop=True)\n",
    "final_df.to_csv(\"plane_crash_data.csv\", index = False)"
   ]
  },
  {
   "cell_type": "code",
   "execution_count": 12,
   "metadata": {},
   "outputs": [
    {
     "data": {
      "text/plain": [
       "Index(['date', 'time', 'location', 'operator', 'flight_number', 'route',\n",
       "       'aircraft_type', 'registration', 'cn_ln', 'aboard', 'fatalities',\n",
       "       'ground', 'summary'],\n",
       "      dtype='object')"
      ]
     },
     "execution_count": 12,
     "metadata": {},
     "output_type": "execute_result"
    }
   ],
   "source": [
    "final_df.columns"
   ]
  },
  {
   "cell_type": "markdown",
   "metadata": {},
   "source": [
    "## Read data from CSV"
   ]
  },
  {
   "cell_type": "code",
   "execution_count": 2,
   "metadata": {},
   "outputs": [
    {
     "name": "stdout",
     "output_type": "stream",
     "text": [
      "<class 'pandas.core.frame.DataFrame'>\n",
      "RangeIndex: 5242 entries, 0 to 5241\n",
      "Data columns (total 13 columns):\n",
      "date             5242 non-null object\n",
      "time             5242 non-null object\n",
      "location         5242 non-null object\n",
      "operator         5242 non-null object\n",
      "flight_number    5242 non-null object\n",
      "route            5242 non-null object\n",
      "aircraft_type    5242 non-null object\n",
      "registration     5242 non-null object\n",
      "cn_ln            5242 non-null object\n",
      "aboard           5242 non-null object\n",
      "fatalities       5242 non-null object\n",
      "ground           5242 non-null object\n",
      "summary          5242 non-null object\n",
      "dtypes: object(13)\n",
      "memory usage: 532.5+ KB\n"
     ]
    }
   ],
   "source": [
    "df = pd.read_csv(\"plane_crash_data.csv\")\n",
    "df.info()"
   ]
  },
  {
   "cell_type": "code",
   "execution_count": 3,
   "metadata": {},
   "outputs": [
    {
     "data": {
      "text/html": [
       "<div>\n",
       "<style scoped>\n",
       "    .dataframe tbody tr th:only-of-type {\n",
       "        vertical-align: middle;\n",
       "    }\n",
       "\n",
       "    .dataframe tbody tr th {\n",
       "        vertical-align: top;\n",
       "    }\n",
       "\n",
       "    .dataframe thead th {\n",
       "        text-align: right;\n",
       "    }\n",
       "</style>\n",
       "<table border=\"1\" class=\"dataframe\">\n",
       "  <thead>\n",
       "    <tr style=\"text-align: right;\">\n",
       "      <th></th>\n",
       "      <th>date</th>\n",
       "      <th>time</th>\n",
       "      <th>location</th>\n",
       "      <th>operator</th>\n",
       "      <th>flight_number</th>\n",
       "      <th>route</th>\n",
       "      <th>aircraft_type</th>\n",
       "      <th>registration</th>\n",
       "      <th>cn_ln</th>\n",
       "      <th>aboard</th>\n",
       "      <th>fatalities</th>\n",
       "      <th>ground</th>\n",
       "      <th>summary</th>\n",
       "    </tr>\n",
       "  </thead>\n",
       "  <tbody>\n",
       "    <tr>\n",
       "      <th>count</th>\n",
       "      <td>5242</td>\n",
       "      <td>5242</td>\n",
       "      <td>5242</td>\n",
       "      <td>5242</td>\n",
       "      <td>5242</td>\n",
       "      <td>5242</td>\n",
       "      <td>5242</td>\n",
       "      <td>5242</td>\n",
       "      <td>5242</td>\n",
       "      <td>5242</td>\n",
       "      <td>5242</td>\n",
       "      <td>5242</td>\n",
       "      <td>5242</td>\n",
       "    </tr>\n",
       "    <tr>\n",
       "      <th>unique</th>\n",
       "      <td>4742</td>\n",
       "      <td>1287</td>\n",
       "      <td>4327</td>\n",
       "      <td>2633</td>\n",
       "      <td>808</td>\n",
       "      <td>3529</td>\n",
       "      <td>2557</td>\n",
       "      <td>4888</td>\n",
       "      <td>3781</td>\n",
       "      <td>982</td>\n",
       "      <td>871</td>\n",
       "      <td>52</td>\n",
       "      <td>4876</td>\n",
       "    </tr>\n",
       "    <tr>\n",
       "      <th>top</th>\n",
       "      <td>February 28, 1973</td>\n",
       "      <td>?</td>\n",
       "      <td>Moscow, Russia</td>\n",
       "      <td>Aeroflot</td>\n",
       "      <td>?</td>\n",
       "      <td>?</td>\n",
       "      <td>Douglas DC-3</td>\n",
       "      <td>?</td>\n",
       "      <td>?</td>\n",
       "      <td>2   (passengers:0  crew:2)</td>\n",
       "      <td>1   (passengers:0  crew:1)</td>\n",
       "      <td>0</td>\n",
       "      <td>?</td>\n",
       "    </tr>\n",
       "    <tr>\n",
       "      <th>freq</th>\n",
       "      <td>4</td>\n",
       "      <td>1917</td>\n",
       "      <td>16</td>\n",
       "      <td>217</td>\n",
       "      <td>4043</td>\n",
       "      <td>1338</td>\n",
       "      <td>310</td>\n",
       "      <td>321</td>\n",
       "      <td>1092</td>\n",
       "      <td>224</td>\n",
       "      <td>272</td>\n",
       "      <td>4964</td>\n",
       "      <td>210</td>\n",
       "    </tr>\n",
       "  </tbody>\n",
       "</table>\n",
       "</div>"
      ],
      "text/plain": [
       "                     date  time        location  operator flight_number route  \\\n",
       "count                5242  5242            5242      5242          5242  5242   \n",
       "unique               4742  1287            4327      2633           808  3529   \n",
       "top     February 28, 1973     ?  Moscow, Russia  Aeroflot             ?     ?   \n",
       "freq                    4  1917              16       217          4043  1338   \n",
       "\n",
       "       aircraft_type registration cn_ln                      aboard  \\\n",
       "count           5242         5242  5242                        5242   \n",
       "unique          2557         4888  3781                         982   \n",
       "top     Douglas DC-3            ?     ?  2   (passengers:0  crew:2)   \n",
       "freq             310          321  1092                         224   \n",
       "\n",
       "                        fatalities ground summary  \n",
       "count                         5242   5242    5242  \n",
       "unique                         871     52    4876  \n",
       "top     1   (passengers:0  crew:1)      0       ?  \n",
       "freq                           272   4964     210  "
      ]
     },
     "execution_count": 3,
     "metadata": {},
     "output_type": "execute_result"
    }
   ],
   "source": [
    "df.describe()"
   ]
  },
  {
   "cell_type": "code",
   "execution_count": 4,
   "metadata": {},
   "outputs": [
    {
     "data": {
      "text/html": [
       "<div>\n",
       "<style scoped>\n",
       "    .dataframe tbody tr th:only-of-type {\n",
       "        vertical-align: middle;\n",
       "    }\n",
       "\n",
       "    .dataframe tbody tr th {\n",
       "        vertical-align: top;\n",
       "    }\n",
       "\n",
       "    .dataframe thead th {\n",
       "        text-align: right;\n",
       "    }\n",
       "</style>\n",
       "<table border=\"1\" class=\"dataframe\">\n",
       "  <thead>\n",
       "    <tr style=\"text-align: right;\">\n",
       "      <th></th>\n",
       "      <th>date</th>\n",
       "      <th>time</th>\n",
       "      <th>location</th>\n",
       "      <th>operator</th>\n",
       "      <th>flight_number</th>\n",
       "      <th>route</th>\n",
       "      <th>aircraft_type</th>\n",
       "      <th>registration</th>\n",
       "      <th>cn_ln</th>\n",
       "      <th>aboard</th>\n",
       "      <th>fatalities</th>\n",
       "      <th>ground</th>\n",
       "      <th>summary</th>\n",
       "    </tr>\n",
       "  </thead>\n",
       "  <tbody>\n",
       "    <tr>\n",
       "      <th>5237</th>\n",
       "      <td>September 28, 2018</td>\n",
       "      <td>1010</td>\n",
       "      <td>Chuuk, Micronesia</td>\n",
       "      <td>Air Niugini</td>\n",
       "      <td>?</td>\n",
       "      <td>Pohnpei - Chuuk</td>\n",
       "      <td>Boeing 737-8BK</td>\n",
       "      <td>P2-PXE</td>\n",
       "      <td>33024/1688</td>\n",
       "      <td>47   (passengers:35  crew:12)</td>\n",
       "      <td>1   (passengers:1  crew:0)</td>\n",
       "      <td>0</td>\n",
       "      <td>The aircraft was approaching for a landing at ...</td>\n",
       "    </tr>\n",
       "    <tr>\n",
       "      <th>5238</th>\n",
       "      <td>October 29, 2018</td>\n",
       "      <td>0631</td>\n",
       "      <td>Off Jakarta, Indonesia</td>\n",
       "      <td>Lion Air</td>\n",
       "      <td>610</td>\n",
       "      <td>Jakarta - Pangkal Pinang</td>\n",
       "      <td>Boeing 737-MAX 8</td>\n",
       "      <td>PK-LQP</td>\n",
       "      <td>43000/7058</td>\n",
       "      <td>189   (passengers:181  crew:8)</td>\n",
       "      <td>189   (passengers:181  crew:8)</td>\n",
       "      <td>0</td>\n",
       "      <td>The airliner crashed into the Jakarta Sea, 13 ...</td>\n",
       "    </tr>\n",
       "    <tr>\n",
       "      <th>5239</th>\n",
       "      <td>November 06, 2018</td>\n",
       "      <td>0253</td>\n",
       "      <td>Georgetown, Guyana</td>\n",
       "      <td>Fly Jamaica Airways</td>\n",
       "      <td>?</td>\n",
       "      <td>Georgetown - Toronto</td>\n",
       "      <td>Boeing 757-N23</td>\n",
       "      <td>N524AT</td>\n",
       "      <td>30233/895</td>\n",
       "      <td>128   (passengers:120  crew:8)</td>\n",
       "      <td>1   (passengers:1  crew:0)</td>\n",
       "      <td>0</td>\n",
       "      <td>After taking off and reaching FL200, the crew ...</td>\n",
       "    </tr>\n",
       "    <tr>\n",
       "      <th>5240</th>\n",
       "      <td>November 18, 2018</td>\n",
       "      <td>2300</td>\n",
       "      <td>Near Mandan, North Dakota</td>\n",
       "      <td>Metro Area Ambulance Services</td>\n",
       "      <td>?</td>\n",
       "      <td>Bismark - Sloulin Field</td>\n",
       "      <td>Cessna 441 Conquest II</td>\n",
       "      <td>N441CX</td>\n",
       "      <td>441-0305</td>\n",
       "      <td>3   (passengers:2  crew:1)</td>\n",
       "      <td>3   (passengers:2  crew:1)</td>\n",
       "      <td>0</td>\n",
       "      <td>The air ambulance en route to pick up a patien...</td>\n",
       "    </tr>\n",
       "    <tr>\n",
       "      <th>5241</th>\n",
       "      <td>January 14, 2019</td>\n",
       "      <td>0830</td>\n",
       "      <td>Karaj, Iran</td>\n",
       "      <td>Saha Air</td>\n",
       "      <td>?</td>\n",
       "      <td>Bishkek - Payam</td>\n",
       "      <td>Boeing 707-3J9C</td>\n",
       "      <td>EP-CPP</td>\n",
       "      <td>21128/917</td>\n",
       "      <td>16   (passengers:13  crew:3)</td>\n",
       "      <td>15   (passengers:13  crew:2)</td>\n",
       "      <td>0</td>\n",
       "      <td>The cargo plane was operated by the Iranian Ai...</td>\n",
       "    </tr>\n",
       "  </tbody>\n",
       "</table>\n",
       "</div>"
      ],
      "text/plain": [
       "                    date  time                   location  \\\n",
       "5237  September 28, 2018  1010          Chuuk, Micronesia   \n",
       "5238    October 29, 2018  0631     Off Jakarta, Indonesia   \n",
       "5239   November 06, 2018  0253         Georgetown, Guyana   \n",
       "5240   November 18, 2018  2300  Near Mandan, North Dakota   \n",
       "5241    January 14, 2019  0830                Karaj, Iran   \n",
       "\n",
       "                           operator flight_number                     route  \\\n",
       "5237                    Air Niugini             ?           Pohnpei - Chuuk   \n",
       "5238                       Lion Air           610  Jakarta - Pangkal Pinang   \n",
       "5239            Fly Jamaica Airways             ?      Georgetown - Toronto   \n",
       "5240  Metro Area Ambulance Services             ?   Bismark - Sloulin Field   \n",
       "5241                       Saha Air             ?           Bishkek - Payam   \n",
       "\n",
       "               aircraft_type registration       cn_ln  \\\n",
       "5237          Boeing 737-8BK       P2-PXE  33024/1688   \n",
       "5238        Boeing 737-MAX 8       PK-LQP  43000/7058   \n",
       "5239          Boeing 757-N23      N524AT    30233/895   \n",
       "5240  Cessna 441 Conquest II      N441CX     441-0305   \n",
       "5241         Boeing 707-3J9C       EP-CPP   21128/917   \n",
       "\n",
       "                              aboard                      fatalities ground  \\\n",
       "5237   47   (passengers:35  crew:12)      1   (passengers:1  crew:0)      0   \n",
       "5238  189   (passengers:181  crew:8)  189   (passengers:181  crew:8)      0   \n",
       "5239  128   (passengers:120  crew:8)      1   (passengers:1  crew:0)      0   \n",
       "5240      3   (passengers:2  crew:1)      3   (passengers:2  crew:1)      0   \n",
       "5241    16   (passengers:13  crew:3)    15   (passengers:13  crew:2)      0   \n",
       "\n",
       "                                                summary  \n",
       "5237  The aircraft was approaching for a landing at ...  \n",
       "5238  The airliner crashed into the Jakarta Sea, 13 ...  \n",
       "5239  After taking off and reaching FL200, the crew ...  \n",
       "5240  The air ambulance en route to pick up a patien...  \n",
       "5241  The cargo plane was operated by the Iranian Ai...  "
      ]
     },
     "execution_count": 4,
     "metadata": {},
     "output_type": "execute_result"
    }
   ],
   "source": [
    "df.tail()"
   ]
  },
  {
   "cell_type": "markdown",
   "metadata": {},
   "source": [
    "### Cleaning required.\n",
    "\n",
    "- convert date in to date format\n",
    "- related to time data:\n",
    "    - time data also contains the character 'c' in 322 observations.\n",
    "    - time data has missing semi-colons.\n",
    "    - time data has \"?\" for missing data\n",
    "    - many other unwanted characters.\n",
    "- location can be split into region and country columns.\n",
    "- Operator can again be split into private, passenger service and military. (will have to find the operations first ).\n",
    "- flight number: there are missing flight number informations represented by \"?\"\n",
    "- route: can be split into : source and destination locations\n",
    "- aboard can be further split into : total_aboard, passenger, crew\n",
    "- fatalities can be again further split into passenger and crew.\n",
    "- "
   ]
  },
  {
   "cell_type": "markdown",
   "metadata": {},
   "source": [
    "### Convert data into Date Format"
   ]
  },
  {
   "cell_type": "code",
   "execution_count": 10,
   "metadata": {},
   "outputs": [],
   "source": [
    "#using different functions\n",
    "def get_month(month_string):\n",
    "    month_string = month_string.lower()\n",
    "    return {\n",
    "        'january': \"1',\n",
    "        'february': '2',\n",
    "        'march':'3',\n",
    "        'april':'4',\n",
    "        'may':'5',\n",
    "        'june':'6',\n",
    "        'july':'7',\n",
    "        'august':'8',\n",
    "        'september':'9',\n",
    "        'october':'10',\n",
    "        'november':'11',\n",
    "        'december':'12'\n",
    "    }[month_string]"
   ]
  },
  {
   "cell_type": "code",
   "execution_count": 25,
   "metadata": {},
   "outputs": [],
   "source": [
    "def convert_date(date_string):\n",
    "    month_val = date_string.split(\" \")[0]\n",
    "    month_str = get_month(month_val)\n",
    "    \n",
    "    date_val = date_string.split(\" \")[1].split(\",\")[0]\n",
    "    year_val = date_string.split(\" \")[2]\n",
    "    \n",
    "    final_date = str(month_str)+\"-\"+str(date_val)+\"-\"+str(year_val)\n",
    "    \n",
    "    return final_date\n"
   ]
  },
  {
   "cell_type": "code",
   "execution_count": 31,
   "metadata": {},
   "outputs": [],
   "source": [
    "test_df['date_new'] = test_df['date'].apply(convert_date)"
   ]
  },
  {
   "cell_type": "code",
   "execution_count": 43,
   "metadata": {},
   "outputs": [
    {
     "name": "stdout",
     "output_type": "stream",
     "text": [
      "0   2017-01-03\n",
      "1   2016-02-04\n",
      "2   2017-03-02\n",
      "3   2015-04-03\n",
      "4   2016-04-03\n",
      "Name: date_col, dtype: datetime64[ns]\n"
     ]
    }
   ],
   "source": [
    "#https://discuss.analyticsvidhya.com/t/how-to-convert-string-to-date-in-pandas-dataframe-using-python/17674\n",
    "s=pd.Series([\"Jan.3,2017\", \"feb.4,2016\", \"mar.2,2017\", \"apr.3,2015\" , \"apr.3,2016\"])\n",
    "sf=pd.DataFrame(s, columns =[\"date_col\"])\n",
    "print (pd.to_datetime(sf.date_col, format=\"%b.%d,%Y\"))"
   ]
  },
  {
   "cell_type": "code",
   "execution_count": 48,
   "metadata": {},
   "outputs": [
    {
     "name": "stdout",
     "output_type": "stream",
     "text": [
      "0      1908-09-17\n",
      "1      1909-09-07\n",
      "2      1912-07-12\n",
      "3      1913-08-06\n",
      "4      1913-09-09\n",
      "5      1913-10-17\n",
      "6      1915-03-05\n",
      "7      1915-09-03\n",
      "8      1916-07-28\n",
      "9      1916-09-24\n",
      "10     1916-10-01\n",
      "11     1916-11-21\n",
      "12     1916-11-28\n",
      "13     1917-03-04\n",
      "14     1917-03-30\n",
      "15     1917-05-14\n",
      "16     1917-06-14\n",
      "17     1917-06-17\n",
      "18     1917-08-21\n",
      "19     1917-10-20\n",
      "20     1918-04-07\n",
      "21     1918-05-10\n",
      "22     1918-08-11\n",
      "23     1918-12-16\n",
      "24     1919-05-25\n",
      "25     1919-07-19\n",
      "26     1919-08-02\n",
      "27     1919-10-02\n",
      "28     1919-10-14\n",
      "29     1919-10-20\n",
      "          ...    \n",
      "5212   2017-05-05\n",
      "5213   2017-05-15\n",
      "5214   2017-05-27\n",
      "5215   2017-06-07\n",
      "5216   2017-06-28\n",
      "5217   2017-07-10\n",
      "5218   2017-10-14\n",
      "5219   2017-11-15\n",
      "5220   2017-12-13\n",
      "5221   2017-12-31\n",
      "5222   2018-01-29\n",
      "5223   2018-02-10\n",
      "5224   2018-02-11\n",
      "5225   2018-02-18\n",
      "5226   2018-03-06\n",
      "5227   2018-03-11\n",
      "5228   2018-03-12\n",
      "5229   2018-03-17\n",
      "5230   2018-04-11\n",
      "5231   2018-04-17\n",
      "5232   2018-05-02\n",
      "5233   2018-05-18\n",
      "5234   2018-06-05\n",
      "5235   2018-07-10\n",
      "5236   2018-08-04\n",
      "5237   2018-09-28\n",
      "5238   2018-10-29\n",
      "5239   2018-11-06\n",
      "5240   2018-11-18\n",
      "5241   2019-01-14\n",
      "Name: date, Length: 5242, dtype: datetime64[ns]\n"
     ]
    }
   ],
   "source": [
    "s = test_df['date']\n",
    "#sf = pd.DataFrame(s, columns = ['date_col'])\n",
    "#test_df[\"new_date1\"] = \n",
    "#print(pd.to_datetime(s,format = \"%B %d, %Y\"))"
   ]
  },
  {
   "cell_type": "code",
   "execution_count": 3,
   "metadata": {},
   "outputs": [],
   "source": [
    "# use this date conversion **********************************\n",
    "s = test_df['date']\n",
    "test_df['new_date'] = pd.to_datetime(s,format = \"%B %d, %Y\")"
   ]
  },
  {
   "cell_type": "code",
   "execution_count": 4,
   "metadata": {},
   "outputs": [
    {
     "name": "stdout",
     "output_type": "stream",
     "text": [
      "<class 'pandas.core.frame.DataFrame'>\n",
      "RangeIndex: 5242 entries, 0 to 5241\n",
      "Data columns (total 14 columns):\n",
      "date             5242 non-null object\n",
      "time             5242 non-null object\n",
      "location         5242 non-null object\n",
      "operator         5242 non-null object\n",
      "flight_number    5242 non-null object\n",
      "route            5242 non-null object\n",
      "aircraft_type    5242 non-null object\n",
      "registration     5242 non-null object\n",
      "cn_ln            5242 non-null object\n",
      "aboard           5242 non-null object\n",
      "fatalities       5242 non-null object\n",
      "ground           5242 non-null object\n",
      "summary          5242 non-null object\n",
      "new_date         5242 non-null datetime64[ns]\n",
      "dtypes: datetime64[ns](1), object(13)\n",
      "memory usage: 573.4+ KB\n"
     ]
    }
   ],
   "source": [
    "test_df.info()"
   ]
  },
  {
   "cell_type": "markdown",
   "metadata": {},
   "source": [
    "## Cleaning time data column"
   ]
  },
  {
   "cell_type": "code",
   "execution_count": 3,
   "metadata": {},
   "outputs": [
    {
     "data": {
      "text/plain": [
       "1917"
      ]
     },
     "execution_count": 3,
     "metadata": {},
     "output_type": "execute_result"
    }
   ],
   "source": [
    "# count the number of observations with \"?\"\n",
    "df.query('time == \"?\"').shape[0]"
   ]
  },
  {
   "cell_type": "code",
   "execution_count": 25,
   "metadata": {},
   "outputs": [],
   "source": [
    "# \n",
    "test_df['time'] = test_df['time'].replace('?', np.nan)"
   ]
  },
  {
   "cell_type": "code",
   "execution_count": 26,
   "metadata": {},
   "outputs": [
    {
     "data": {
      "text/plain": [
       "0"
      ]
     },
     "execution_count": 26,
     "metadata": {},
     "output_type": "execute_result"
    }
   ],
   "source": [
    "# check the dataset\n",
    "df.query('time == \"?\"').shape[0]"
   ]
  },
  {
   "cell_type": "code",
   "execution_count": 4,
   "metadata": {},
   "outputs": [],
   "source": [
    "# function to check if the time values are of the format 00:00\n",
    "def check_pattern(time_val):\n",
    "    pattern = re.compile('^\\d{2}\\:\\d{2}$') \n",
    "    result = pattern.match(time_val)\n",
    "    return bool(result)"
   ]
  },
  {
   "cell_type": "code",
   "execution_count": 5,
   "metadata": {},
   "outputs": [],
   "source": [
    "# lets check if the time data has the pattern 00:00\n",
    "pattern_check = df['time'].apply(check_pattern)"
   ]
  },
  {
   "cell_type": "code",
   "execution_count": 6,
   "metadata": {},
   "outputs": [
    {
     "data": {
      "text/plain": [
       "2436"
      ]
     },
     "execution_count": 6,
     "metadata": {},
     "output_type": "execute_result"
    }
   ],
   "source": [
    "pattern_check[pattern_check == False].count()"
   ]
  },
  {
   "cell_type": "code",
   "execution_count": 7,
   "metadata": {},
   "outputs": [
    {
     "data": {
      "text/plain": [
       "322"
      ]
     },
     "execution_count": 7,
     "metadata": {},
     "output_type": "execute_result"
    }
   ],
   "source": [
    "# there are time values that contains character \"c\"\n",
    "df[df['time'].str.contains(\"c\")].shape[0]"
   ]
  },
  {
   "cell_type": "code",
   "execution_count": 8,
   "metadata": {},
   "outputs": [
    {
     "data": {
      "text/plain": [
       "2"
      ]
     },
     "execution_count": 8,
     "metadata": {},
     "output_type": "execute_result"
    }
   ],
   "source": [
    "# there are time values that contains character \"c: \"\n",
    "df[df['time'].str.contains(\"c: \")].shape[0]"
   ]
  },
  {
   "cell_type": "code",
   "execution_count": 9,
   "metadata": {},
   "outputs": [
    {
     "data": {
      "text/plain": [
       "47"
      ]
     },
     "execution_count": 9,
     "metadata": {},
     "output_type": "execute_result"
    }
   ],
   "source": [
    "# there are time values that contains character \"Z\"\n",
    "df[df['time'].str.contains(\"Z\")].shape[0]"
   ]
  },
  {
   "cell_type": "markdown",
   "metadata": {},
   "source": [
    "Lets create a function to clean up all the unwanted characters in the time data and add necessary values. "
   ]
  },
  {
   "cell_type": "code",
   "execution_count": 11,
   "metadata": {},
   "outputs": [],
   "source": [
    "# function to replace \"?\", remove \"c\" and to add \":\" for all the missing : in time data\n",
    "\n",
    "def clean_time(time_data):\n",
    "    time_data = time_data.strip()\n",
    "    \n",
    "    ignore_list = [\"c:\",\"c: \",\"c\",\"c \",\"z\",\"Z\",\" \"]\n",
    "    \n",
    "    if time_data == \"?\":\n",
    "        time_data = \"00:00\"\n",
    "        \n",
    "    if \":\" not in time_data:\n",
    "        time_data = time_data[:2] + ':' + time_data[2:]\n",
    "    \n",
    "    if len(time_data) < 5:\n",
    "        time_data = time_data.zfill(5)\n",
    "    \n",
    "    for tag in ignore_list:\n",
    "        if tag == 'z' or tag == 'Z':\n",
    "            time_data = time_data.replace(tag, '')\n",
    "        else:\n",
    "            time_data = time_data.replace(tag, '0')\n",
    "\n",
    "        \n",
    "    new_str = time_data[-5:]\n",
    "    return new_str"
   ]
  },
  {
   "cell_type": "code",
   "execution_count": 12,
   "metadata": {},
   "outputs": [],
   "source": [
    "# apply clean_time function to the time column\n",
    "df['time'] = df['time'].apply(clean_time)"
   ]
  },
  {
   "cell_type": "code",
   "execution_count": 13,
   "metadata": {},
   "outputs": [],
   "source": [
    "# check if the time values satisfies the 00:00 format\n",
    "test = df['time'].apply(check_pattern)"
   ]
  },
  {
   "cell_type": "code",
   "execution_count": 14,
   "metadata": {},
   "outputs": [
    {
     "data": {
      "text/plain": [
       "12"
      ]
     },
     "execution_count": 14,
     "metadata": {},
     "output_type": "execute_result"
    }
   ],
   "source": [
    "test[test == False].count()"
   ]
  },
  {
   "cell_type": "code",
   "execution_count": 15,
   "metadata": {},
   "outputs": [],
   "source": [
    "test_index = test[test == False].index"
   ]
  },
  {
   "cell_type": "code",
   "execution_count": 16,
   "metadata": {},
   "outputs": [
    {
     "data": {
      "text/plain": [
       "398     10;00\n",
       "549     13;00\n",
       "552     4:;10\n",
       "644     12;30\n",
       "841     6:;15\n",
       "905     3:;00\n",
       "974     2:;00\n",
       "1782    2:\"20\n",
       "2029    8:.40\n",
       "4706    6:;30\n",
       "4791    6:;30\n",
       "5039    0:900\n",
       "Name: time, dtype: object"
      ]
     },
     "execution_count": 16,
     "metadata": {},
     "output_type": "execute_result"
    }
   ],
   "source": [
    "df['time'].iloc[test_index]"
   ]
  },
  {
   "cell_type": "code",
   "execution_count": 17,
   "metadata": {},
   "outputs": [],
   "source": [
    "# function to remove additional extra unwanted characters\n",
    "def remove_extra_characters(time_data):\n",
    "\n",
    "    ignore_list = [\":;\",\":.\",\":\\\"\",\";\"]\n",
    "\n",
    "    for tag in ignore_list:\n",
    "        time_data = time_data.replace(tag, ':')\n",
    "\n",
    "    if len(time_data) < 5:\n",
    "        time_data = time_data.zfill(5)\n",
    "    \n",
    "    return time_data"
   ]
  },
  {
   "cell_type": "code",
   "execution_count": 18,
   "metadata": {},
   "outputs": [],
   "source": [
    "df['time'] = df['time'].apply(remove_extra_characters)"
   ]
  },
  {
   "cell_type": "code",
   "execution_count": 19,
   "metadata": {},
   "outputs": [],
   "source": [
    "test2 = df['time'].apply(check_pattern)"
   ]
  },
  {
   "cell_type": "code",
   "execution_count": 20,
   "metadata": {},
   "outputs": [],
   "source": [
    "t2_index = test2[test2 == False].index"
   ]
  },
  {
   "cell_type": "code",
   "execution_count": 21,
   "metadata": {},
   "outputs": [
    {
     "data": {
      "text/plain": [
       "5039    0:900\n",
       "Name: time, dtype: object"
      ]
     },
     "execution_count": 21,
     "metadata": {},
     "output_type": "execute_result"
    }
   ],
   "source": [
    "df['time'].iloc[t2_index]"
   ]
  },
  {
   "cell_type": "markdown",
   "metadata": {},
   "source": [
    "Now we can clean the data for the index 5039. And since there cannot be 90 minutes, it seems that the data has been input wrongly. So, I think it should be 09:00"
   ]
  },
  {
   "cell_type": "code",
   "execution_count": 22,
   "metadata": {},
   "outputs": [],
   "source": [
    "df.iloc[5039]['time'] = '09:00'"
   ]
  },
  {
   "cell_type": "code",
   "execution_count": 23,
   "metadata": {},
   "outputs": [
    {
     "data": {
      "text/plain": [
       "'09:00'"
      ]
     },
     "execution_count": 23,
     "metadata": {},
     "output_type": "execute_result"
    }
   ],
   "source": [
    "df.iloc[5039]['time']"
   ]
  },
  {
   "cell_type": "markdown",
   "metadata": {},
   "source": [
    "## Cleaning up Date data column"
   ]
  },
  {
   "cell_type": "code",
   "execution_count": 38,
   "metadata": {},
   "outputs": [
    {
     "data": {
      "text/plain": [
       "1930        June 16, 1963\n",
       "1701    December 08, 1959\n",
       "403        March 26, 1936\n",
       "2865         May 10, 1977\n",
       "1124    November 21, 1950\n",
       "Name: date, dtype: object"
      ]
     },
     "execution_count": 38,
     "metadata": {},
     "output_type": "execute_result"
    }
   ],
   "source": [
    "df.date.sample(5)"
   ]
  },
  {
   "cell_type": "code",
   "execution_count": 55,
   "metadata": {},
   "outputs": [
    {
     "name": "stdout",
     "output_type": "stream",
     "text": [
      "True\n"
     ]
    }
   ],
   "source": [
    "#ignore this\n",
    "t12 = 'January 20, 1942'\n",
    "pattern_date = re.compile('^[a-zA-Z]{1,20}\\s\\d{2}\\,\\s\\d{4}$')\n",
    "#pattern_date = re.compile('[a-zA-Z]\\s') #('[a-zA-Z]{20}\\s\\d{2}\\,\\s\\d{4}') \n",
    "result = pattern_date.match(t12)\n",
    "print(bool(result))"
   ]
  },
  {
   "cell_type": "code",
   "execution_count": 62,
   "metadata": {},
   "outputs": [],
   "source": [
    "pattern_date = re.compile('^[a-zA-Z]{1,20}\\s\\d{2}\\,\\s\\d{4}$')\n",
    "date_format_check = df['date'].apply(lambda x: \"True\" if bool(pattern_date.match(x)) == True else \"False\")"
   ]
  },
  {
   "cell_type": "code",
   "execution_count": 63,
   "metadata": {},
   "outputs": [
    {
     "data": {
      "text/plain": [
       "array(['True'], dtype=object)"
      ]
     },
     "execution_count": 63,
     "metadata": {},
     "output_type": "execute_result"
    }
   ],
   "source": [
    "date_format_check.unique()"
   ]
  },
  {
   "cell_type": "markdown",
   "metadata": {},
   "source": [
    "All the date values are of the same format."
   ]
  },
  {
   "cell_type": "markdown",
   "metadata": {},
   "source": [
    "## Cleaning up location data column"
   ]
  },
  {
   "cell_type": "code",
   "execution_count": 65,
   "metadata": {},
   "outputs": [
    {
     "data": {
      "text/html": [
       "<div>\n",
       "<style scoped>\n",
       "    .dataframe tbody tr th:only-of-type {\n",
       "        vertical-align: middle;\n",
       "    }\n",
       "\n",
       "    .dataframe tbody tr th {\n",
       "        vertical-align: top;\n",
       "    }\n",
       "\n",
       "    .dataframe thead th {\n",
       "        text-align: right;\n",
       "    }\n",
       "</style>\n",
       "<table border=\"1\" class=\"dataframe\">\n",
       "  <thead>\n",
       "    <tr style=\"text-align: right;\">\n",
       "      <th></th>\n",
       "      <th>date</th>\n",
       "      <th>time</th>\n",
       "      <th>location</th>\n",
       "      <th>operator</th>\n",
       "      <th>flight_number</th>\n",
       "      <th>route</th>\n",
       "      <th>aircraft_type</th>\n",
       "      <th>registration</th>\n",
       "      <th>cn_ln</th>\n",
       "      <th>aboard</th>\n",
       "      <th>fatalities</th>\n",
       "      <th>ground</th>\n",
       "      <th>summary</th>\n",
       "    </tr>\n",
       "  </thead>\n",
       "  <tbody>\n",
       "    <tr>\n",
       "      <th>1123</th>\n",
       "      <td>November 17, 1950</td>\n",
       "      <td>00:00</td>\n",
       "      <td>Surabaya, Indonesia</td>\n",
       "      <td>Garuda Indonesia Airlines</td>\n",
       "      <td>?</td>\n",
       "      <td>?</td>\n",
       "      <td>Douglas DC-3</td>\n",
       "      <td>PK-DPB</td>\n",
       "      <td>19005</td>\n",
       "      <td>23   (passengers:20  crew:3)</td>\n",
       "      <td>2   (passengers:0  crew:2)</td>\n",
       "      <td>0</td>\n",
       "      <td>Veered off the runway and crashed into a ditch..</td>\n",
       "    </tr>\n",
       "    <tr>\n",
       "      <th>653</th>\n",
       "      <td>June 14, 1943</td>\n",
       "      <td>00:00</td>\n",
       "      <td>Near Mackay, OLD, Australia</td>\n",
       "      <td>Military - U.S. Army Air Forces</td>\n",
       "      <td>?</td>\n",
       "      <td>?</td>\n",
       "      <td>B-17C Flying Fortress</td>\n",
       "      <td>?</td>\n",
       "      <td>?</td>\n",
       "      <td>41   (passengers:?  crew:?)</td>\n",
       "      <td>40   (passengers:?  crew:?)</td>\n",
       "      <td>0</td>\n",
       "      <td>The aircraft took off into ground fog and leve...</td>\n",
       "    </tr>\n",
       "    <tr>\n",
       "      <th>3246</th>\n",
       "      <td>January 09, 1983</td>\n",
       "      <td>00:00</td>\n",
       "      <td>Brainerd, Minnesota</td>\n",
       "      <td>46826/109</td>\n",
       "      <td>927</td>\n",
       "      <td>Minneapolis-St Paul - Brainerd</td>\n",
       "      <td>Convair 580-11A</td>\n",
       "      <td>N844H</td>\n",
       "      <td>327A</td>\n",
       "      <td>33   (passengers:30  crew:3)</td>\n",
       "      <td>1   (passengers:1  crew:0)</td>\n",
       "      <td>0</td>\n",
       "      <td>The plane landed 1,725 feet beyond the runway ...</td>\n",
       "    </tr>\n",
       "    <tr>\n",
       "      <th>1602</th>\n",
       "      <td>May 31, 1958</td>\n",
       "      <td>00:00</td>\n",
       "      <td>Rio de Janeiro, Brazil</td>\n",
       "      <td>Paraense Transportes Aéreos</td>\n",
       "      <td>?</td>\n",
       "      <td>?</td>\n",
       "      <td>Curtiss C-46D</td>\n",
       "      <td>PP-BTB</td>\n",
       "      <td>33304</td>\n",
       "      <td>4   (passengers:0  crew:4)</td>\n",
       "      <td>4   (passengers:0  crew:4)</td>\n",
       "      <td>0</td>\n",
       "      <td>The plane plunged into the water when, a front...</td>\n",
       "    </tr>\n",
       "    <tr>\n",
       "      <th>4104</th>\n",
       "      <td>October 04, 1995</td>\n",
       "      <td>00:00</td>\n",
       "      <td>Barskoon, Kirghizia</td>\n",
       "      <td>Kirghizia Aba Zaoldoru</td>\n",
       "      <td>?</td>\n",
       "      <td>?</td>\n",
       "      <td>Mil Mi-8MTV-1</td>\n",
       "      <td>EX-25179</td>\n",
       "      <td>95489</td>\n",
       "      <td>15   (passengers:12  crew:3)</td>\n",
       "      <td>15   (passengers:12  crew:3)</td>\n",
       "      <td>0</td>\n",
       "      <td>Crashed into mountains at Barskoon Pass while ...</td>\n",
       "    </tr>\n",
       "  </tbody>\n",
       "</table>\n",
       "</div>"
      ],
      "text/plain": [
       "                   date   time                     location  \\\n",
       "1123  November 17, 1950  00:00          Surabaya, Indonesia   \n",
       "653       June 14, 1943  00:00  Near Mackay, OLD, Australia   \n",
       "3246   January 09, 1983  00:00          Brainerd, Minnesota   \n",
       "1602       May 31, 1958  00:00       Rio de Janeiro, Brazil   \n",
       "4104   October 04, 1995  00:00          Barskoon, Kirghizia   \n",
       "\n",
       "                             operator flight_number  \\\n",
       "1123        Garuda Indonesia Airlines             ?   \n",
       "653   Military - U.S. Army Air Forces             ?   \n",
       "3246                        46826/109           927   \n",
       "1602      Paraense Transportes Aéreos             ?   \n",
       "4104           Kirghizia Aba Zaoldoru             ?   \n",
       "\n",
       "                               route          aircraft_type registration  \\\n",
       "1123                               ?           Douglas DC-3       PK-DPB   \n",
       "653                                ?  B-17C Flying Fortress            ?   \n",
       "3246  Minneapolis-St Paul - Brainerd        Convair 580-11A        N844H   \n",
       "1602                               ?          Curtiss C-46D       PP-BTB   \n",
       "4104                               ?          Mil Mi-8MTV-1     EX-25179   \n",
       "\n",
       "      cn_ln                        aboard                    fatalities  \\\n",
       "1123  19005  23   (passengers:20  crew:3)    2   (passengers:0  crew:2)   \n",
       "653       ?   41   (passengers:?  crew:?)   40   (passengers:?  crew:?)   \n",
       "3246   327A  33   (passengers:30  crew:3)    1   (passengers:1  crew:0)   \n",
       "1602  33304    4   (passengers:0  crew:4)    4   (passengers:0  crew:4)   \n",
       "4104  95489  15   (passengers:12  crew:3)  15   (passengers:12  crew:3)   \n",
       "\n",
       "     ground                                            summary  \n",
       "1123      0   Veered off the runway and crashed into a ditch..  \n",
       "653       0  The aircraft took off into ground fog and leve...  \n",
       "3246      0  The plane landed 1,725 feet beyond the runway ...  \n",
       "1602      0  The plane plunged into the water when, a front...  \n",
       "4104      0  Crashed into mountains at Barskoon Pass while ...  "
      ]
     },
     "execution_count": 65,
     "metadata": {},
     "output_type": "execute_result"
    }
   ],
   "source": [
    "df.sample(5)"
   ]
  },
  {
   "cell_type": "code",
   "execution_count": 66,
   "metadata": {},
   "outputs": [
    {
     "data": {
      "text/plain": [
       "5"
      ]
     },
     "execution_count": 66,
     "metadata": {},
     "output_type": "execute_result"
    }
   ],
   "source": [
    "df[df['location'] == \"?\"].shape[0]"
   ]
  },
  {
   "cell_type": "markdown",
   "metadata": {},
   "source": [
    "#### Observations\n",
    "- missing location values are filled with \"?\".\n",
    "- contains unwanted escape characters.\n",
    "- split the location into region and country values."
   ]
  },
  {
   "cell_type": "code",
   "execution_count": 67,
   "metadata": {},
   "outputs": [],
   "source": [
    "# function to remove unwanted escape characters from the location string\n",
    "def remove_escape_characters(loc_string):\n",
    "    ignore_list_escape_characters = [\"\\n\",\"\\t\",\"\\r\"]\n",
    "\n",
    "    for char in ignore_list_escape_characters:\n",
    "        loc_string = loc_string.replace(char, '')\n",
    "        \n",
    "    return loc_string"
   ]
  },
  {
   "cell_type": "code",
   "execution_count": 68,
   "metadata": {},
   "outputs": [],
   "source": [
    "# remove escape characters from the location data\n",
    "df['location'] = df['location'].apply(remove_escape_characters)"
   ]
  },
  {
   "cell_type": "code",
   "execution_count": 421,
   "metadata": {},
   "outputs": [
    {
     "name": "stdout",
     "output_type": "stream",
     "text": [
      "<_sre.SRE_Match object; span=(0, 15), match='August 09, 2013'>\n"
     ]
    }
   ],
   "source": [
    "#ignore this\n",
    "t_Str = \"August 09, 2013\"\n",
    "pattern = re.compile('^[a-zA-Z]{1,20}\\s\\d{2}\\,\\s\\d{4}$')\n",
    "result = pattern.match(t_Str)\n",
    "print(result)"
   ]
  },
  {
   "cell_type": "code",
   "execution_count": 332,
   "metadata": {},
   "outputs": [
    {
     "name": "stdout",
     "output_type": "stream",
     "text": [
      "<_sre.SRE_Match object; span=(0, 23), match='Mt, Taylor, near Grants'>\n"
     ]
    }
   ],
   "source": [
    "#ignore this\n",
    "pattern = re.compile('^[a-zA-Z\\, \\.\\-]{1,50}, [a-zA-Z ]{1,50}$')\n",
    "result = pattern.match(\"Mt, Taylor, near Grants\")\n",
    "print(result)"
   ]
  },
  {
   "cell_type": "code",
   "execution_count": 69,
   "metadata": {},
   "outputs": [],
   "source": [
    "# function to split the location data into region and country data\n",
    "\n",
    "def split_region_country(location):\n",
    "    region = \"\"\n",
    "    country= \"\"\n",
    "    if location == \"?\":\n",
    "        region = \"-\"\n",
    "        country = \"-\"          \n",
    "    elif location.count(\",\") == 0:\n",
    "        region = location\n",
    "        country = \"-\"       \n",
    "    elif location.count(\",\") == 1:\n",
    "        region = location.split(\",\")[0]\n",
    "        country = location.split(\",\")[1]\n",
    "    elif location.count(\",\") >= 2:\n",
    "        n = location.count(\",\") \n",
    "        for i in range(n):\n",
    "            region = region + location.split(\",\")[i].strip()+ \" \"\n",
    "        country = location.split(\",\")[n].strip()\n",
    "    ret_val = pd.Series([region, country])\n",
    "\n",
    "    return ret_val\n",
    "\n",
    "# not able to return tuples : https://stackoverflow.com/questions/23690284/pandas-apply-function-that-returns-multiple-values-to-rows-in-pandas-dataframe"
   ]
  },
  {
   "cell_type": "code",
   "execution_count": 70,
   "metadata": {},
   "outputs": [],
   "source": [
    "df['region'], df['country'] = df['location'].apply(split_region_country)[0],df['location'].apply(split_region_country)[1]"
   ]
  },
  {
   "cell_type": "code",
   "execution_count": 71,
   "metadata": {},
   "outputs": [
    {
     "data": {
      "text/html": [
       "<div>\n",
       "<style scoped>\n",
       "    .dataframe tbody tr th:only-of-type {\n",
       "        vertical-align: middle;\n",
       "    }\n",
       "\n",
       "    .dataframe tbody tr th {\n",
       "        vertical-align: top;\n",
       "    }\n",
       "\n",
       "    .dataframe thead th {\n",
       "        text-align: right;\n",
       "    }\n",
       "</style>\n",
       "<table border=\"1\" class=\"dataframe\">\n",
       "  <thead>\n",
       "    <tr style=\"text-align: right;\">\n",
       "      <th></th>\n",
       "      <th>date</th>\n",
       "      <th>time</th>\n",
       "      <th>location</th>\n",
       "      <th>operator</th>\n",
       "      <th>flight_number</th>\n",
       "      <th>route</th>\n",
       "      <th>aircraft_type</th>\n",
       "      <th>registration</th>\n",
       "      <th>cn_ln</th>\n",
       "      <th>aboard</th>\n",
       "      <th>fatalities</th>\n",
       "      <th>ground</th>\n",
       "      <th>summary</th>\n",
       "      <th>region</th>\n",
       "      <th>country</th>\n",
       "    </tr>\n",
       "  </thead>\n",
       "  <tbody>\n",
       "    <tr>\n",
       "      <th>0</th>\n",
       "      <td>September 17, 1908</td>\n",
       "      <td>17:18</td>\n",
       "      <td>Fort Myer, Virginia</td>\n",
       "      <td>Military - U.S. Army</td>\n",
       "      <td>?</td>\n",
       "      <td>Demonstration</td>\n",
       "      <td>Wright Flyer III</td>\n",
       "      <td>?</td>\n",
       "      <td>1</td>\n",
       "      <td>2   (passengers:1  crew:1)</td>\n",
       "      <td>1   (passengers:1  crew:0)</td>\n",
       "      <td>0</td>\n",
       "      <td>During a demonstration flight, a U.S. Army fly...</td>\n",
       "      <td>Fort Myer</td>\n",
       "      <td>Virginia</td>\n",
       "    </tr>\n",
       "    <tr>\n",
       "      <th>1</th>\n",
       "      <td>September 07, 1909</td>\n",
       "      <td>00:00</td>\n",
       "      <td>Juvisy-sur-Orge, France</td>\n",
       "      <td>?</td>\n",
       "      <td>?</td>\n",
       "      <td>Air show</td>\n",
       "      <td>Wright Byplane</td>\n",
       "      <td>SC1</td>\n",
       "      <td>?</td>\n",
       "      <td>1   (passengers:0  crew:1)</td>\n",
       "      <td>1   (passengers:0  crew:0)</td>\n",
       "      <td>0</td>\n",
       "      <td>Eugene Lefebvre was the first pilot to ever be...</td>\n",
       "      <td>Juvisy-sur-Orge</td>\n",
       "      <td>France</td>\n",
       "    </tr>\n",
       "    <tr>\n",
       "      <th>2</th>\n",
       "      <td>July 12, 1912</td>\n",
       "      <td>06:30</td>\n",
       "      <td>Atlantic City, New Jersey</td>\n",
       "      <td>Military - U.S. Navy</td>\n",
       "      <td>?</td>\n",
       "      <td>Test flight</td>\n",
       "      <td>Dirigible</td>\n",
       "      <td>?</td>\n",
       "      <td>?</td>\n",
       "      <td>5   (passengers:0  crew:5)</td>\n",
       "      <td>5   (passengers:0  crew:5)</td>\n",
       "      <td>0</td>\n",
       "      <td>First U.S. dirigible Akron exploded just offsh...</td>\n",
       "      <td>Atlantic City</td>\n",
       "      <td>New Jersey</td>\n",
       "    </tr>\n",
       "    <tr>\n",
       "      <th>3</th>\n",
       "      <td>August 06, 1913</td>\n",
       "      <td>00:00</td>\n",
       "      <td>Victoria, British Columbia, Canada</td>\n",
       "      <td>Private</td>\n",
       "      <td>?</td>\n",
       "      <td>?</td>\n",
       "      <td>Curtiss seaplane</td>\n",
       "      <td>?</td>\n",
       "      <td>?</td>\n",
       "      <td>1   (passengers:0  crew:1)</td>\n",
       "      <td>1   (passengers:0  crew:1)</td>\n",
       "      <td>0</td>\n",
       "      <td>The first fatal airplane accident in Canada oc...</td>\n",
       "      <td>Victoria British Columbia</td>\n",
       "      <td>Canada</td>\n",
       "    </tr>\n",
       "    <tr>\n",
       "      <th>4</th>\n",
       "      <td>September 09, 1913</td>\n",
       "      <td>18:30</td>\n",
       "      <td>Over the North Sea</td>\n",
       "      <td>Military - German Navy</td>\n",
       "      <td>?</td>\n",
       "      <td>?</td>\n",
       "      <td>Zeppelin L-1 (airship)</td>\n",
       "      <td>?</td>\n",
       "      <td>?</td>\n",
       "      <td>20   (passengers:?  crew:?)</td>\n",
       "      <td>14   (passengers:?  crew:?)</td>\n",
       "      <td>0</td>\n",
       "      <td>The airship flew into a thunderstorm and encou...</td>\n",
       "      <td>Over the North Sea</td>\n",
       "      <td>-</td>\n",
       "    </tr>\n",
       "  </tbody>\n",
       "</table>\n",
       "</div>"
      ],
      "text/plain": [
       "                 date   time                            location  \\\n",
       "0  September 17, 1908  17:18                 Fort Myer, Virginia   \n",
       "1  September 07, 1909  00:00             Juvisy-sur-Orge, France   \n",
       "2       July 12, 1912  06:30           Atlantic City, New Jersey   \n",
       "3     August 06, 1913  00:00  Victoria, British Columbia, Canada   \n",
       "4  September 09, 1913  18:30                  Over the North Sea   \n",
       "\n",
       "                 operator flight_number          route  \\\n",
       "0    Military - U.S. Army             ?  Demonstration   \n",
       "1                       ?             ?       Air show   \n",
       "2    Military - U.S. Navy             ?    Test flight   \n",
       "3                 Private             ?              ?   \n",
       "4  Military - German Navy             ?              ?   \n",
       "\n",
       "            aircraft_type registration cn_ln                       aboard  \\\n",
       "0        Wright Flyer III            ?     1   2   (passengers:1  crew:1)   \n",
       "1          Wright Byplane          SC1     ?   1   (passengers:0  crew:1)   \n",
       "2               Dirigible            ?     ?   5   (passengers:0  crew:5)   \n",
       "3        Curtiss seaplane            ?     ?   1   (passengers:0  crew:1)   \n",
       "4  Zeppelin L-1 (airship)            ?     ?  20   (passengers:?  crew:?)   \n",
       "\n",
       "                    fatalities ground  \\\n",
       "0   1   (passengers:1  crew:0)      0   \n",
       "1   1   (passengers:0  crew:0)      0   \n",
       "2   5   (passengers:0  crew:5)      0   \n",
       "3   1   (passengers:0  crew:1)      0   \n",
       "4  14   (passengers:?  crew:?)      0   \n",
       "\n",
       "                                             summary  \\\n",
       "0  During a demonstration flight, a U.S. Army fly...   \n",
       "1  Eugene Lefebvre was the first pilot to ever be...   \n",
       "2  First U.S. dirigible Akron exploded just offsh...   \n",
       "3  The first fatal airplane accident in Canada oc...   \n",
       "4  The airship flew into a thunderstorm and encou...   \n",
       "\n",
       "                       region      country  \n",
       "0                   Fort Myer     Virginia  \n",
       "1             Juvisy-sur-Orge       France  \n",
       "2               Atlantic City   New Jersey  \n",
       "3  Victoria British Columbia        Canada  \n",
       "4          Over the North Sea            -  "
      ]
     },
     "execution_count": 71,
     "metadata": {},
     "output_type": "execute_result"
    }
   ],
   "source": [
    "df.head()"
   ]
  },
  {
   "cell_type": "code",
   "execution_count": 72,
   "metadata": {},
   "outputs": [
    {
     "data": {
      "text/html": [
       "<div>\n",
       "<style scoped>\n",
       "    .dataframe tbody tr th:only-of-type {\n",
       "        vertical-align: middle;\n",
       "    }\n",
       "\n",
       "    .dataframe tbody tr th {\n",
       "        vertical-align: top;\n",
       "    }\n",
       "\n",
       "    .dataframe thead th {\n",
       "        text-align: right;\n",
       "    }\n",
       "</style>\n",
       "<table border=\"1\" class=\"dataframe\">\n",
       "  <thead>\n",
       "    <tr style=\"text-align: right;\">\n",
       "      <th></th>\n",
       "      <th>date</th>\n",
       "      <th>time</th>\n",
       "      <th>location</th>\n",
       "      <th>operator</th>\n",
       "      <th>flight_number</th>\n",
       "      <th>route</th>\n",
       "      <th>aircraft_type</th>\n",
       "      <th>registration</th>\n",
       "      <th>cn_ln</th>\n",
       "      <th>aboard</th>\n",
       "      <th>fatalities</th>\n",
       "      <th>ground</th>\n",
       "      <th>summary</th>\n",
       "      <th>region</th>\n",
       "      <th>country</th>\n",
       "    </tr>\n",
       "  </thead>\n",
       "  <tbody>\n",
       "  </tbody>\n",
       "</table>\n",
       "</div>"
      ],
      "text/plain": [
       "Empty DataFrame\n",
       "Columns: [date, time, location, operator, flight_number, route, aircraft_type, registration, cn_ln, aboard, fatalities, ground, summary, region, country]\n",
       "Index: []"
      ]
     },
     "execution_count": 72,
     "metadata": {},
     "output_type": "execute_result"
    }
   ],
   "source": [
    "df.query('region == \"?\"')"
   ]
  },
  {
   "cell_type": "code",
   "execution_count": 73,
   "metadata": {},
   "outputs": [
    {
     "data": {
      "text/html": [
       "<div>\n",
       "<style scoped>\n",
       "    .dataframe tbody tr th:only-of-type {\n",
       "        vertical-align: middle;\n",
       "    }\n",
       "\n",
       "    .dataframe tbody tr th {\n",
       "        vertical-align: top;\n",
       "    }\n",
       "\n",
       "    .dataframe thead th {\n",
       "        text-align: right;\n",
       "    }\n",
       "</style>\n",
       "<table border=\"1\" class=\"dataframe\">\n",
       "  <thead>\n",
       "    <tr style=\"text-align: right;\">\n",
       "      <th></th>\n",
       "      <th>date</th>\n",
       "      <th>time</th>\n",
       "      <th>location</th>\n",
       "      <th>operator</th>\n",
       "      <th>flight_number</th>\n",
       "      <th>route</th>\n",
       "      <th>aircraft_type</th>\n",
       "      <th>registration</th>\n",
       "      <th>cn_ln</th>\n",
       "      <th>aboard</th>\n",
       "      <th>fatalities</th>\n",
       "      <th>ground</th>\n",
       "      <th>summary</th>\n",
       "      <th>region</th>\n",
       "      <th>country</th>\n",
       "    </tr>\n",
       "  </thead>\n",
       "  <tbody>\n",
       "  </tbody>\n",
       "</table>\n",
       "</div>"
      ],
      "text/plain": [
       "Empty DataFrame\n",
       "Columns: [date, time, location, operator, flight_number, route, aircraft_type, registration, cn_ln, aboard, fatalities, ground, summary, region, country]\n",
       "Index: []"
      ]
     },
     "execution_count": 73,
     "metadata": {},
     "output_type": "execute_result"
    }
   ],
   "source": [
    "df.query('country == \"?\"')"
   ]
  },
  {
   "cell_type": "code",
   "execution_count": 383,
   "metadata": {},
   "outputs": [],
   "source": [
    "#ignore this\n",
    "def check_pattern_location(loc_string):\n",
    "    pattern = re.compile(\"^[a-zA-Z0-9\\/\\~\\\\'\\, \\.\\-]{1,50}, [a-zA-Z0-9 ]{1,50}$\")\n",
    "    result = pattern.match(loc_string)\n",
    "    return bool(result)"
   ]
  },
  {
   "cell_type": "code",
   "execution_count": 384,
   "metadata": {},
   "outputs": [],
   "source": [
    "t5 = df['location'].apply(check_pattern_location)"
   ]
  },
  {
   "cell_type": "code",
   "execution_count": 385,
   "metadata": {},
   "outputs": [],
   "source": [
    "t5_index = t5[t5 == False].index"
   ]
  },
  {
   "cell_type": "code",
   "execution_count": 403,
   "metadata": {},
   "outputs": [
    {
     "data": {
      "text/plain": [
       "683                         China\n",
       "2798                 Havana. Cuba\n",
       "1137    Mt. Bukit, Besar,Thailand\n",
       "590                  Sea of Japan\n",
       "4              Over the North Sea\n",
       "Name: location, dtype: object"
      ]
     },
     "execution_count": 403,
     "metadata": {},
     "output_type": "execute_result"
    }
   ],
   "source": [
    "df.iloc[t5_index]['location'].sample(5)"
   ]
  },
  {
   "cell_type": "markdown",
   "metadata": {},
   "source": [
    "- Operator contains some escape characters.\n",
    "- flight number: there are missing flight number informations represented by \"?\"\n",
    "- route: can be split into : source and destination locations\n",
    "- aboard can be further split into : total_aboard, passenger, crew\n",
    "- fatalities can be again further split into passenger and crew."
   ]
  },
  {
   "cell_type": "markdown",
   "metadata": {},
   "source": [
    "### Cleaning up Operator data columns."
   ]
  },
  {
   "cell_type": "code",
   "execution_count": 77,
   "metadata": {},
   "outputs": [
    {
     "data": {
      "text/plain": [
       "3916    Military - Afghan Republican Air Force\n",
       "1477                           Indian Airlines\n",
       "2543         Amazonese Importacao e Exportacao\n",
       "441                           United Air Lines\n",
       "2559                           Inter City Flug\n",
       "Name: operator, dtype: object"
      ]
     },
     "execution_count": 77,
     "metadata": {},
     "output_type": "execute_result"
    }
   ],
   "source": [
    "df.operator.sample(5)"
   ]
  },
  {
   "cell_type": "markdown",
   "metadata": {},
   "source": [
    "#### Observations\n",
    "- Need to remove unwanted escape characters.\n",
    "- Can create a new additional column that states either \"Military\" or \"Commercial\" flight."
   ]
  },
  {
   "cell_type": "code",
   "execution_count": 78,
   "metadata": {},
   "outputs": [],
   "source": [
    "# remove escape characters from operator\n",
    "df['operator'] = df['operator'].apply(remove_escape_characters)"
   ]
  },
  {
   "cell_type": "markdown",
   "metadata": {},
   "source": [
    "### Create a new column to specify operator type: Military or Commercial"
   ]
  },
  {
   "cell_type": "code",
   "execution_count": 79,
   "metadata": {},
   "outputs": [],
   "source": [
    "# function to create if the aircraft is a military or a commercial type\n",
    "check_type = lambda x: \"Military\" if \"military\" in x.lower() else \"Commercial\""
   ]
  },
  {
   "cell_type": "code",
   "execution_count": 80,
   "metadata": {},
   "outputs": [],
   "source": [
    "type_check = map(lambda x: \"Military\" if \"military\" in x.lower() else \"Commercial\", df['operator'])"
   ]
  },
  {
   "cell_type": "code",
   "execution_count": 81,
   "metadata": {},
   "outputs": [],
   "source": [
    "# create the column operator_type stating \"Miliary\" or \"Commercial\"\n",
    "df['operator_type'] = pd.Series(list(type_check))"
   ]
  },
  {
   "cell_type": "code",
   "execution_count": 82,
   "metadata": {},
   "outputs": [
    {
     "data": {
      "text/html": [
       "<div>\n",
       "<style scoped>\n",
       "    .dataframe tbody tr th:only-of-type {\n",
       "        vertical-align: middle;\n",
       "    }\n",
       "\n",
       "    .dataframe tbody tr th {\n",
       "        vertical-align: top;\n",
       "    }\n",
       "\n",
       "    .dataframe thead th {\n",
       "        text-align: right;\n",
       "    }\n",
       "</style>\n",
       "<table border=\"1\" class=\"dataframe\">\n",
       "  <thead>\n",
       "    <tr style=\"text-align: right;\">\n",
       "      <th></th>\n",
       "      <th>operator</th>\n",
       "      <th>operator_type</th>\n",
       "    </tr>\n",
       "  </thead>\n",
       "  <tbody>\n",
       "    <tr>\n",
       "      <th>1335</th>\n",
       "      <td>Military - U.S. Air Force</td>\n",
       "      <td>Military</td>\n",
       "    </tr>\n",
       "    <tr>\n",
       "      <th>447</th>\n",
       "      <td>Deutsche Lufthansa</td>\n",
       "      <td>Commercial</td>\n",
       "    </tr>\n",
       "    <tr>\n",
       "      <th>3549</th>\n",
       "      <td>Oxaero Ltd.</td>\n",
       "      <td>Commercial</td>\n",
       "    </tr>\n",
       "    <tr>\n",
       "      <th>1905</th>\n",
       "      <td>West Coast Airlines</td>\n",
       "      <td>Commercial</td>\n",
       "    </tr>\n",
       "    <tr>\n",
       "      <th>2810</th>\n",
       "      <td>Military - Imperial Iranian Air Force</td>\n",
       "      <td>Military</td>\n",
       "    </tr>\n",
       "  </tbody>\n",
       "</table>\n",
       "</div>"
      ],
      "text/plain": [
       "                                   operator operator_type\n",
       "1335              Military - U.S. Air Force      Military\n",
       "447                      Deutsche Lufthansa    Commercial\n",
       "3549                            Oxaero Ltd.    Commercial\n",
       "1905                    West Coast Airlines    Commercial\n",
       "2810  Military - Imperial Iranian Air Force      Military"
      ]
     },
     "execution_count": 82,
     "metadata": {},
     "output_type": "execute_result"
    }
   ],
   "source": [
    "df[['operator','operator_type']].sample(5)"
   ]
  },
  {
   "cell_type": "markdown",
   "metadata": {},
   "source": [
    "### Cleaning flight_number data columns."
   ]
  },
  {
   "cell_type": "code",
   "execution_count": 83,
   "metadata": {},
   "outputs": [
    {
     "data": {
      "text/plain": [
       "?            4043\n",
       "-              63\n",
       "1              11\n",
       "4               7\n",
       "201             6\n",
       "21              6\n",
       "301             6\n",
       "6               6\n",
       "101             6\n",
       "901             5\n",
       "706             5\n",
       "601             5\n",
       "701             5\n",
       "200             5\n",
       "202             5\n",
       "7               5\n",
       "3               5\n",
       "112             4\n",
       "261             4\n",
       "114             4\n",
       "304             4\n",
       "703             4\n",
       "214             4\n",
       "205             4\n",
       "10              4\n",
       "8               4\n",
       "902             4\n",
       "105             4\n",
       "610             4\n",
       "542             4\n",
       "             ... \n",
       "163             1\n",
       "3838            1\n",
       "1422            1\n",
       "3183            1\n",
       "400             1\n",
       "466             1\n",
       "1016            1\n",
       "42              1\n",
       "290             1\n",
       "3780            1\n",
       "940             1\n",
       "5463            1\n",
       "383             1\n",
       "5017            1\n",
       "865             1\n",
       "215             1\n",
       "E-15            1\n",
       "3352            1\n",
       "595             1\n",
       "1802            1\n",
       "3378            1\n",
       "4412            1\n",
       "422             1\n",
       "104             1\n",
       "Batcat 19       1\n",
       "1008            1\n",
       "1658            1\n",
       "1668            1\n",
       "4230            1\n",
       "347             1\n",
       "Name: flight_number, Length: 808, dtype: int64"
      ]
     },
     "execution_count": 83,
     "metadata": {},
     "output_type": "execute_result"
    }
   ],
   "source": [
    "df['flight_number'].value_counts()"
   ]
  },
  {
   "cell_type": "markdown",
   "metadata": {},
   "source": [
    "#### Observations\n",
    "- contains \"?\" for missing flight numbers."
   ]
  },
  {
   "cell_type": "code",
   "execution_count": 84,
   "metadata": {},
   "outputs": [],
   "source": [
    "# replace \"?\" with \"-\"\n",
    "df['flight_number'] = df['flight_number'].apply(lambda x: \"-\" if x ==\"?\" else x)"
   ]
  },
  {
   "cell_type": "code",
   "execution_count": 85,
   "metadata": {},
   "outputs": [
    {
     "data": {
      "text/plain": [
       "-            4106\n",
       "1              11\n",
       "4               7\n",
       "301             6\n",
       "101             6\n",
       "201             6\n",
       "6               6\n",
       "21              6\n",
       "200             5\n",
       "601             5\n",
       "701             5\n",
       "706             5\n",
       "3               5\n",
       "901             5\n",
       "7               5\n",
       "202             5\n",
       "112             4\n",
       "542             4\n",
       "105             4\n",
       "11              4\n",
       "114             4\n",
       "304             4\n",
       "703             4\n",
       "205             4\n",
       "10              4\n",
       "610             4\n",
       "214             4\n",
       "191             4\n",
       "8               4\n",
       "261             4\n",
       "             ... \n",
       "93              1\n",
       "163             1\n",
       "3838            1\n",
       "1422            1\n",
       "3183            1\n",
       "400             1\n",
       "466             1\n",
       "1016            1\n",
       "3780            1\n",
       "940             1\n",
       "5463            1\n",
       "4230            1\n",
       "248             1\n",
       "383             1\n",
       "5017            1\n",
       "865             1\n",
       "215             1\n",
       "E-15            1\n",
       "3352            1\n",
       "595             1\n",
       "1802            1\n",
       "3378            1\n",
       "4412            1\n",
       "422             1\n",
       "104             1\n",
       "Batcat 19       1\n",
       "1008            1\n",
       "1658            1\n",
       "1668            1\n",
       "347             1\n",
       "Name: flight_number, Length: 807, dtype: int64"
      ]
     },
     "execution_count": 85,
     "metadata": {},
     "output_type": "execute_result"
    }
   ],
   "source": [
    "# check if all \"?\" are replaced by \"-\"\n",
    "df['flight_number'].value_counts()"
   ]
  },
  {
   "cell_type": "markdown",
   "metadata": {},
   "source": [
    "### Cleaning the \"route\" data column."
   ]
  },
  {
   "cell_type": "code",
   "execution_count": 87,
   "metadata": {},
   "outputs": [
    {
     "data": {
      "text/plain": [
       "4810                   Pau - Paris\n",
       "3590            Cucuta - Cartagena\n",
       "2592    Palma de Mallorca - London\n",
       "3305              Medellin - Miami\n",
       "3740                             -\n",
       "Name: route, dtype: object"
      ]
     },
     "execution_count": 87,
     "metadata": {},
     "output_type": "execute_result"
    }
   ],
   "source": [
    "df['route'].sample(5)"
   ]
  },
  {
   "cell_type": "code",
   "execution_count": 27,
   "metadata": {},
   "outputs": [],
   "source": [
    "# remove escape characters\n",
    "df['route'] = df['route'].apply(remove_escape_characters)"
   ]
  },
  {
   "cell_type": "markdown",
   "metadata": {},
   "source": [
    "#### Observations:\n",
    "- contains unwanted escape characters\n",
    "- ? character for missing values\n",
    "- check index 3652"
   ]
  },
  {
   "cell_type": "code",
   "execution_count": 86,
   "metadata": {},
   "outputs": [],
   "source": [
    "# replace \"?\" for missing values with \"-\"\n",
    "df['route'] = df['route'].apply(lambda x: \"-\" if x ==\"?\" else x)"
   ]
  },
  {
   "cell_type": "code",
   "execution_count": 89,
   "metadata": {},
   "outputs": [
    {
     "data": {
      "text/plain": [
       "'? - Tegucigalpa - Toncontin'"
      ]
     },
     "execution_count": 89,
     "metadata": {},
     "output_type": "execute_result"
    }
   ],
   "source": [
    "df.iloc[3652]['route']"
   ]
  },
  {
   "cell_type": "markdown",
   "metadata": {},
   "source": [
    "It seems the source region for the index 3652 is unknow, so lets remove the unwanted \"? - \"."
   ]
  },
  {
   "cell_type": "code",
   "execution_count": 90,
   "metadata": {},
   "outputs": [],
   "source": [
    "df.iloc[3652]['route'] = 'Tegucigalpa - Toncontin'"
   ]
  },
  {
   "cell_type": "code",
   "execution_count": 91,
   "metadata": {},
   "outputs": [
    {
     "data": {
      "text/plain": [
       "'Tegucigalpa - Toncontin'"
      ]
     },
     "execution_count": 91,
     "metadata": {},
     "output_type": "execute_result"
    }
   ],
   "source": [
    "df.iloc[3652]['route']"
   ]
  },
  {
   "cell_type": "markdown",
   "metadata": {},
   "source": [
    "### Cleaning \"aboard\" data column."
   ]
  },
  {
   "cell_type": "code",
   "execution_count": 92,
   "metadata": {},
   "outputs": [
    {
     "data": {
      "text/plain": [
       "2198    39   (passengers:33  crew:6)\n",
       "4543      3   (passengers:1  crew:2)\n",
       "5142    17   (passengers:11  crew:6)\n",
       "5111      2   (passengers:0  crew:2)\n",
       "2804      6   (passengers:5  crew:1)\n",
       "Name: aboard, dtype: object"
      ]
     },
     "execution_count": 92,
     "metadata": {},
     "output_type": "execute_result"
    }
   ],
   "source": [
    "df['aboard'].sample(5)"
   ]
  },
  {
   "cell_type": "markdown",
   "metadata": {},
   "source": [
    "#### Observations\n",
    "- are of the format \"39   (passengers:33  crew:6)\n",
    "- can further split into 3 new columns - total_aboard, total_passengers_aboard and total_crew_aboard"
   ]
  },
  {
   "cell_type": "code",
   "execution_count": 93,
   "metadata": {},
   "outputs": [],
   "source": [
    "# check if the string \"passengers:\" is contained in all data values\n",
    "def check_passenger(test_str):\n",
    "    if \"passengers:\" in test_str:\n",
    "        return \"True\"\n",
    "    else:\n",
    "        return \"False\""
   ]
  },
  {
   "cell_type": "code",
   "execution_count": 94,
   "metadata": {},
   "outputs": [],
   "source": [
    "str_check = df['aboard'].apply(check_passenger)"
   ]
  },
  {
   "cell_type": "code",
   "execution_count": 95,
   "metadata": {},
   "outputs": [
    {
     "data": {
      "text/plain": [
       "array(['True'], dtype=object)"
      ]
     },
     "execution_count": 95,
     "metadata": {},
     "output_type": "execute_result"
    }
   ],
   "source": [
    "str_check.unique()"
   ]
  },
  {
   "cell_type": "code",
   "execution_count": 189,
   "metadata": {},
   "outputs": [
    {
     "data": {
      "text/plain": [
       "0"
      ]
     },
     "execution_count": 189,
     "metadata": {},
     "output_type": "execute_result"
    }
   ],
   "source": [
    "str_check[str_check == \"False\"].count()"
   ]
  },
  {
   "cell_type": "code",
   "execution_count": 96,
   "metadata": {},
   "outputs": [],
   "source": [
    "# Similarly check for string \"crew:\"\n",
    "def check_crew(test_str):\n",
    "    if \"crew:\" in test_str:\n",
    "        return \"True\"\n",
    "    else:\n",
    "        return \"False\""
   ]
  },
  {
   "cell_type": "code",
   "execution_count": 97,
   "metadata": {},
   "outputs": [
    {
     "data": {
      "text/plain": [
       "0"
      ]
     },
     "execution_count": 97,
     "metadata": {},
     "output_type": "execute_result"
    }
   ],
   "source": [
    "str_check = df['aboard'].apply(check_crew)\n",
    "str_check[str_check == \"False\"].count()"
   ]
  },
  {
   "cell_type": "code",
   "execution_count": 98,
   "metadata": {},
   "outputs": [],
   "source": [
    "# function to split the aboard data into three new values\n",
    "def aboard_check(total_aboard):\n",
    "    total_aboard_count = []\n",
    "    passengers_aboard = []\n",
    "    crew_aboard = []\n",
    "    total_aboard = total_aboard.strip()\n",
    "    total_count = total_aboard.split(\" \")[0]\n",
    "    passenger_count = total_aboard.split(\"passengers:\")[1].split(\" \")[0]\n",
    "    crew_count = total_aboard.split(\"crew:\")[1]   \n",
    "    crew_count = crew_count[:-1]\n",
    "    \n",
    "    total_count = total_count.strip()\n",
    "    passenger_count = passenger_count.strip()\n",
    "    crew_count = crew_count.strip()\n",
    "    \n",
    "    ret_val = pd.Series([total_count, passenger_count, crew_count])    \n",
    "    return ret_val\n",
    " "
   ]
  },
  {
   "cell_type": "code",
   "execution_count": 99,
   "metadata": {},
   "outputs": [],
   "source": [
    "board_counts = df['aboard'].apply(aboard_check)"
   ]
  },
  {
   "cell_type": "code",
   "execution_count": 100,
   "metadata": {},
   "outputs": [],
   "source": [
    "# replace all \"?\" with nan\n",
    "board_counts[0] = board_counts[0].replace('?', np.nan)\n",
    "board_counts[1] = board_counts[1].replace('?', np.nan)\n",
    "board_counts[2] = board_counts[2].replace('?', np.nan)"
   ]
  },
  {
   "cell_type": "code",
   "execution_count": 101,
   "metadata": {},
   "outputs": [],
   "source": [
    "# create the three new columns\n",
    "df['tot_boarded_count'] = board_counts[0]\n",
    "df['tot_passengers_boarded'] = board_counts[1]\n",
    "df['tot_crews_boarded'] = board_counts[2]"
   ]
  },
  {
   "cell_type": "code",
   "execution_count": 102,
   "metadata": {},
   "outputs": [],
   "source": [
    "# convert the new column types into float\n",
    "df['tot_boarded_count'] = df['tot_boarded_count'].astype(float)\n",
    "df['tot_passengers_boarded'] = df['tot_passengers_boarded'].astype(float)\n",
    "df['tot_crews_boarded'] = df['tot_crews_boarded'].astype(float)"
   ]
  },
  {
   "cell_type": "code",
   "execution_count": 103,
   "metadata": {},
   "outputs": [
    {
     "name": "stdout",
     "output_type": "stream",
     "text": [
      "<class 'pandas.core.frame.DataFrame'>\n",
      "RangeIndex: 5242 entries, 0 to 5241\n",
      "Data columns (total 19 columns):\n",
      "date                      5242 non-null object\n",
      "time                      5242 non-null object\n",
      "location                  5242 non-null object\n",
      "operator                  5242 non-null object\n",
      "flight_number             5242 non-null object\n",
      "route                     5242 non-null object\n",
      "aircraft_type             5242 non-null object\n",
      "registration              5242 non-null object\n",
      "cn_ln                     5242 non-null object\n",
      "aboard                    5242 non-null object\n",
      "fatalities                5242 non-null object\n",
      "ground                    5242 non-null object\n",
      "summary                   5242 non-null object\n",
      "region                    5242 non-null object\n",
      "country                   5242 non-null object\n",
      "operator_type             5242 non-null object\n",
      "tot_boarded_count         5205 non-null float64\n",
      "tot_passengers_boarded    4750 non-null float64\n",
      "tot_crews_boarded         4754 non-null float64\n",
      "dtypes: float64(3), object(16)\n",
      "memory usage: 778.2+ KB\n"
     ]
    }
   ],
   "source": [
    "# check the new columns\n",
    "df.info()"
   ]
  },
  {
   "cell_type": "code",
   "execution_count": 104,
   "metadata": {},
   "outputs": [
    {
     "data": {
      "text/html": [
       "<div>\n",
       "<style scoped>\n",
       "    .dataframe tbody tr th:only-of-type {\n",
       "        vertical-align: middle;\n",
       "    }\n",
       "\n",
       "    .dataframe tbody tr th {\n",
       "        vertical-align: top;\n",
       "    }\n",
       "\n",
       "    .dataframe thead th {\n",
       "        text-align: right;\n",
       "    }\n",
       "</style>\n",
       "<table border=\"1\" class=\"dataframe\">\n",
       "  <thead>\n",
       "    <tr style=\"text-align: right;\">\n",
       "      <th></th>\n",
       "      <th>date</th>\n",
       "      <th>time</th>\n",
       "      <th>location</th>\n",
       "      <th>operator</th>\n",
       "      <th>flight_number</th>\n",
       "      <th>route</th>\n",
       "      <th>aircraft_type</th>\n",
       "      <th>registration</th>\n",
       "      <th>cn_ln</th>\n",
       "      <th>aboard</th>\n",
       "      <th>fatalities</th>\n",
       "      <th>ground</th>\n",
       "      <th>summary</th>\n",
       "      <th>region</th>\n",
       "      <th>country</th>\n",
       "      <th>operator_type</th>\n",
       "      <th>tot_boarded_count</th>\n",
       "      <th>tot_passengers_boarded</th>\n",
       "      <th>tot_crews_boarded</th>\n",
       "    </tr>\n",
       "  </thead>\n",
       "  <tbody>\n",
       "    <tr>\n",
       "      <th>0</th>\n",
       "      <td>September 17, 1908</td>\n",
       "      <td>17:18</td>\n",
       "      <td>Fort Myer, Virginia</td>\n",
       "      <td>Military - U.S. Army</td>\n",
       "      <td>-</td>\n",
       "      <td>Demonstration</td>\n",
       "      <td>Wright Flyer III</td>\n",
       "      <td>?</td>\n",
       "      <td>1</td>\n",
       "      <td>2   (passengers:1  crew:1)</td>\n",
       "      <td>1   (passengers:1  crew:0)</td>\n",
       "      <td>0</td>\n",
       "      <td>During a demonstration flight, a U.S. Army fly...</td>\n",
       "      <td>Fort Myer</td>\n",
       "      <td>Virginia</td>\n",
       "      <td>Military</td>\n",
       "      <td>2.0</td>\n",
       "      <td>1.0</td>\n",
       "      <td>1.0</td>\n",
       "    </tr>\n",
       "    <tr>\n",
       "      <th>1</th>\n",
       "      <td>September 07, 1909</td>\n",
       "      <td>00:00</td>\n",
       "      <td>Juvisy-sur-Orge, France</td>\n",
       "      <td>?</td>\n",
       "      <td>-</td>\n",
       "      <td>Air show</td>\n",
       "      <td>Wright Byplane</td>\n",
       "      <td>SC1</td>\n",
       "      <td>?</td>\n",
       "      <td>1   (passengers:0  crew:1)</td>\n",
       "      <td>1   (passengers:0  crew:0)</td>\n",
       "      <td>0</td>\n",
       "      <td>Eugene Lefebvre was the first pilot to ever be...</td>\n",
       "      <td>Juvisy-sur-Orge</td>\n",
       "      <td>France</td>\n",
       "      <td>Commercial</td>\n",
       "      <td>1.0</td>\n",
       "      <td>0.0</td>\n",
       "      <td>1.0</td>\n",
       "    </tr>\n",
       "    <tr>\n",
       "      <th>2</th>\n",
       "      <td>July 12, 1912</td>\n",
       "      <td>06:30</td>\n",
       "      <td>Atlantic City, New Jersey</td>\n",
       "      <td>Military - U.S. Navy</td>\n",
       "      <td>-</td>\n",
       "      <td>Test flight</td>\n",
       "      <td>Dirigible</td>\n",
       "      <td>?</td>\n",
       "      <td>?</td>\n",
       "      <td>5   (passengers:0  crew:5)</td>\n",
       "      <td>5   (passengers:0  crew:5)</td>\n",
       "      <td>0</td>\n",
       "      <td>First U.S. dirigible Akron exploded just offsh...</td>\n",
       "      <td>Atlantic City</td>\n",
       "      <td>New Jersey</td>\n",
       "      <td>Military</td>\n",
       "      <td>5.0</td>\n",
       "      <td>0.0</td>\n",
       "      <td>5.0</td>\n",
       "    </tr>\n",
       "    <tr>\n",
       "      <th>3</th>\n",
       "      <td>August 06, 1913</td>\n",
       "      <td>00:00</td>\n",
       "      <td>Victoria, British Columbia, Canada</td>\n",
       "      <td>Private</td>\n",
       "      <td>-</td>\n",
       "      <td>-</td>\n",
       "      <td>Curtiss seaplane</td>\n",
       "      <td>?</td>\n",
       "      <td>?</td>\n",
       "      <td>1   (passengers:0  crew:1)</td>\n",
       "      <td>1   (passengers:0  crew:1)</td>\n",
       "      <td>0</td>\n",
       "      <td>The first fatal airplane accident in Canada oc...</td>\n",
       "      <td>Victoria British Columbia</td>\n",
       "      <td>Canada</td>\n",
       "      <td>Commercial</td>\n",
       "      <td>1.0</td>\n",
       "      <td>0.0</td>\n",
       "      <td>1.0</td>\n",
       "    </tr>\n",
       "    <tr>\n",
       "      <th>4</th>\n",
       "      <td>September 09, 1913</td>\n",
       "      <td>18:30</td>\n",
       "      <td>Over the North Sea</td>\n",
       "      <td>Military - German Navy</td>\n",
       "      <td>-</td>\n",
       "      <td>-</td>\n",
       "      <td>Zeppelin L-1 (airship)</td>\n",
       "      <td>?</td>\n",
       "      <td>?</td>\n",
       "      <td>20   (passengers:?  crew:?)</td>\n",
       "      <td>14   (passengers:?  crew:?)</td>\n",
       "      <td>0</td>\n",
       "      <td>The airship flew into a thunderstorm and encou...</td>\n",
       "      <td>Over the North Sea</td>\n",
       "      <td>-</td>\n",
       "      <td>Military</td>\n",
       "      <td>20.0</td>\n",
       "      <td>NaN</td>\n",
       "      <td>NaN</td>\n",
       "    </tr>\n",
       "  </tbody>\n",
       "</table>\n",
       "</div>"
      ],
      "text/plain": [
       "                 date   time                            location  \\\n",
       "0  September 17, 1908  17:18                 Fort Myer, Virginia   \n",
       "1  September 07, 1909  00:00             Juvisy-sur-Orge, France   \n",
       "2       July 12, 1912  06:30           Atlantic City, New Jersey   \n",
       "3     August 06, 1913  00:00  Victoria, British Columbia, Canada   \n",
       "4  September 09, 1913  18:30                  Over the North Sea   \n",
       "\n",
       "                 operator flight_number          route  \\\n",
       "0    Military - U.S. Army             -  Demonstration   \n",
       "1                       ?             -       Air show   \n",
       "2    Military - U.S. Navy             -    Test flight   \n",
       "3                 Private             -              -   \n",
       "4  Military - German Navy             -              -   \n",
       "\n",
       "            aircraft_type registration cn_ln                       aboard  \\\n",
       "0        Wright Flyer III            ?     1   2   (passengers:1  crew:1)   \n",
       "1          Wright Byplane          SC1     ?   1   (passengers:0  crew:1)   \n",
       "2               Dirigible            ?     ?   5   (passengers:0  crew:5)   \n",
       "3        Curtiss seaplane            ?     ?   1   (passengers:0  crew:1)   \n",
       "4  Zeppelin L-1 (airship)            ?     ?  20   (passengers:?  crew:?)   \n",
       "\n",
       "                    fatalities ground  \\\n",
       "0   1   (passengers:1  crew:0)      0   \n",
       "1   1   (passengers:0  crew:0)      0   \n",
       "2   5   (passengers:0  crew:5)      0   \n",
       "3   1   (passengers:0  crew:1)      0   \n",
       "4  14   (passengers:?  crew:?)      0   \n",
       "\n",
       "                                             summary  \\\n",
       "0  During a demonstration flight, a U.S. Army fly...   \n",
       "1  Eugene Lefebvre was the first pilot to ever be...   \n",
       "2  First U.S. dirigible Akron exploded just offsh...   \n",
       "3  The first fatal airplane accident in Canada oc...   \n",
       "4  The airship flew into a thunderstorm and encou...   \n",
       "\n",
       "                       region      country operator_type  tot_boarded_count  \\\n",
       "0                   Fort Myer     Virginia      Military                2.0   \n",
       "1             Juvisy-sur-Orge       France    Commercial                1.0   \n",
       "2               Atlantic City   New Jersey      Military                5.0   \n",
       "3  Victoria British Columbia        Canada    Commercial                1.0   \n",
       "4          Over the North Sea            -      Military               20.0   \n",
       "\n",
       "   tot_passengers_boarded  tot_crews_boarded  \n",
       "0                     1.0                1.0  \n",
       "1                     0.0                1.0  \n",
       "2                     0.0                5.0  \n",
       "3                     0.0                1.0  \n",
       "4                     NaN                NaN  "
      ]
     },
     "execution_count": 104,
     "metadata": {},
     "output_type": "execute_result"
    }
   ],
   "source": [
    "df.head()"
   ]
  },
  {
   "cell_type": "markdown",
   "metadata": {},
   "source": [
    "### Cleaning up \"fatalities\" data column.\n",
    "\n",
    "\"fatalities\" data column format is similar to \"aboard\", so the same cleaning steps can be applied. Moreover, three new columns for fatalities can be further created for fatalities."
   ]
  },
  {
   "cell_type": "code",
   "execution_count": 105,
   "metadata": {},
   "outputs": [],
   "source": [
    "fatalities_count = df['fatalities'].apply(aboard_check)"
   ]
  },
  {
   "cell_type": "code",
   "execution_count": 106,
   "metadata": {},
   "outputs": [],
   "source": [
    "# replace missing values \"?\" with nan\n",
    "fatalities_count[0] = fatalities_count[0].replace('?', np.nan)\n",
    "fatalities_count[1] = fatalities_count[1].replace('?', np.nan)\n",
    "fatalities_count[2] = fatalities_count[2].replace('?', np.nan)"
   ]
  },
  {
   "cell_type": "code",
   "execution_count": 107,
   "metadata": {},
   "outputs": [],
   "source": [
    "# create new fatalities columns\n",
    "df['tot_fatalities_count'] = fatalities_count[0]\n",
    "df['passengers_fatalities'] = fatalities_count[1]\n",
    "df['tot_crews_fatalities'] = fatalities_count[2]"
   ]
  },
  {
   "cell_type": "code",
   "execution_count": 108,
   "metadata": {},
   "outputs": [],
   "source": [
    "# convert the datatype to \n",
    "df['tot_fatalities_count'] = df['tot_fatalities_count'].astype(float)\n",
    "df['passengers_fatalities'] = df['passengers_fatalities'].astype(float)\n",
    "df['tot_crews_fatalities'] = df['tot_crews_fatalities'].astype(float)"
   ]
  },
  {
   "cell_type": "code",
   "execution_count": 109,
   "metadata": {},
   "outputs": [
    {
     "name": "stdout",
     "output_type": "stream",
     "text": [
      "<class 'pandas.core.frame.DataFrame'>\n",
      "RangeIndex: 5242 entries, 0 to 5241\n",
      "Data columns (total 22 columns):\n",
      "date                      5242 non-null object\n",
      "time                      5242 non-null object\n",
      "location                  5242 non-null object\n",
      "operator                  5242 non-null object\n",
      "flight_number             5242 non-null object\n",
      "route                     5242 non-null object\n",
      "aircraft_type             5242 non-null object\n",
      "registration              5242 non-null object\n",
      "cn_ln                     5242 non-null object\n",
      "aboard                    5242 non-null object\n",
      "fatalities                5242 non-null object\n",
      "ground                    5242 non-null object\n",
      "summary                   5242 non-null object\n",
      "region                    5242 non-null object\n",
      "country                   5242 non-null object\n",
      "operator_type             5242 non-null object\n",
      "tot_boarded_count         5205 non-null float64\n",
      "tot_passengers_boarded    4750 non-null float64\n",
      "tot_crews_boarded         4754 non-null float64\n",
      "tot_fatalities_count      5231 non-null float64\n",
      "passengers_fatalities     4736 non-null float64\n",
      "tot_crews_fatalities      4738 non-null float64\n",
      "dtypes: float64(6), object(16)\n",
      "memory usage: 901.0+ KB\n"
     ]
    }
   ],
   "source": [
    "df.info()"
   ]
  },
  {
   "cell_type": "markdown",
   "metadata": {},
   "source": [
    "Now the data columns \"aboard\" and \"fatalities\" can be removed. "
   ]
  },
  {
   "cell_type": "code",
   "execution_count": 113,
   "metadata": {},
   "outputs": [],
   "source": [
    "col = ['aboard','fatalities']\n",
    "df.drop(col, axis=1, inplace=True)"
   ]
  },
  {
   "cell_type": "code",
   "execution_count": 114,
   "metadata": {},
   "outputs": [
    {
     "name": "stdout",
     "output_type": "stream",
     "text": [
      "<class 'pandas.core.frame.DataFrame'>\n",
      "RangeIndex: 5242 entries, 0 to 5241\n",
      "Data columns (total 20 columns):\n",
      "date                      5242 non-null object\n",
      "time                      5242 non-null object\n",
      "location                  5242 non-null object\n",
      "operator                  5242 non-null object\n",
      "flight_number             5242 non-null object\n",
      "route                     5242 non-null object\n",
      "aircraft_type             5242 non-null object\n",
      "registration              5242 non-null object\n",
      "cn_ln                     5242 non-null object\n",
      "ground                    5242 non-null object\n",
      "summary                   5242 non-null object\n",
      "region                    5242 non-null object\n",
      "country                   5242 non-null object\n",
      "operator_type             5242 non-null object\n",
      "tot_boarded_count         5205 non-null float64\n",
      "tot_passengers_boarded    4750 non-null float64\n",
      "tot_crews_boarded         4754 non-null float64\n",
      "tot_fatalities_count      5231 non-null float64\n",
      "passengers_fatalities     4736 non-null float64\n",
      "tot_crews_fatalities      4738 non-null float64\n",
      "dtypes: float64(6), object(14)\n",
      "memory usage: 819.1+ KB\n"
     ]
    }
   ],
   "source": [
    "df.info()"
   ]
  },
  {
   "cell_type": "code",
   "execution_count": 115,
   "metadata": {},
   "outputs": [],
   "source": [
    "# lets save the cleaned data set\n",
    "df.to_csv(\"plane_crash_cleaned_data.csv\", index = False)"
   ]
  }
 ],
 "metadata": {
  "kernelspec": {
   "display_name": "Python [default]",
   "language": "python",
   "name": "python3"
  },
  "language_info": {
   "codemirror_mode": {
    "name": "ipython",
    "version": 3
   },
   "file_extension": ".py",
   "mimetype": "text/x-python",
   "name": "python",
   "nbconvert_exporter": "python",
   "pygments_lexer": "ipython3",
   "version": "3.6.5"
  }
 },
 "nbformat": 4,
 "nbformat_minor": 2
}
