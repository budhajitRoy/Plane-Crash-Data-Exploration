{
 "cells": [
  {
   "cell_type": "markdown",
   "metadata": {},
   "source": [
    "## Plane Crash Data Exploration and Analysis\n",
    "\n",
    "#### Budhajit Roy Chanamthabam"
   ]
  },
  {
   "cell_type": "code",
   "execution_count": 1,
   "metadata": {},
   "outputs": [],
   "source": [
    "# import necessary libraries\n",
    "#https://www.kaggle.com/budhajit/plane-crash-information-dataset\n",
    "\n",
    "import pandas as pd\n",
    "import numpy as np\n",
    "import matplotlib.pyplot as plt\n",
    "import seaborn as sns\n",
    "import requests\n",
    "import json\n",
    "from bs4 import BeautifulSoup\n",
    "import warnings\n",
    "import re\n",
    "import datetime\n",
    "warnings.filterwarnings('ignore')"
   ]
  },
  {
   "cell_type": "code",
   "execution_count": 2,
   "metadata": {},
   "outputs": [],
   "source": [
    "def set_data(year, dates):\n",
    "    date = []\n",
    "    time = []\n",
    "    location = []\n",
    "    operator = []\n",
    "    flight_number = []\n",
    "    route = []\n",
    "    aircraft_type = []\n",
    "    registration = []\n",
    "    cn_ln = []\n",
    "    aboard = []\n",
    "    fatalities = []\n",
    "    ground = []\n",
    "    summary = []\n",
    "    final_data = {}\n",
    "\n",
    "    for i in range(len(dates)):\n",
    "        url1 = \"http://www.planecrashinfo.com/\"+str(year)+\"/\"+str(year)+\"-\"+str(i+1)+\".htm\"\n",
    "        #print(url)\n",
    "        r1 = requests.get(url1)\n",
    "        htm_doc = r1.text  \n",
    "\n",
    "        soup1 = BeautifulSoup(htm_doc)\n",
    "        td_tags = soup1.find_all('td')\n",
    "\n",
    "        test = []\n",
    "        for items in td_tags:\n",
    "            test.append(items.text)\n",
    "\n",
    "        # add the data details to their corresponding lists\n",
    "        date.append(test[3])\n",
    "        time.append(test[5])\n",
    "        location.append(test[7])\n",
    "        operator.append(test[9])\n",
    "        flight_number.append(test[11])\n",
    "        route.append(test[13])\n",
    "        aircraft_type.append(test[15])\n",
    "        registration.append(test[17])\n",
    "        cn_ln.append(test[19])\n",
    "        aboard.append(test[21])\n",
    "        fatalities.append(test[23])\n",
    "        ground.append(test[25])\n",
    "        summary.append(test[27])\n",
    "        \n",
    "    final_data['date'] = date\n",
    "    final_data['time'] = time\n",
    "    final_data['location'] = location\n",
    "    final_data['operator'] = operator\n",
    "    final_data['flight_number'] = flight_number\n",
    "    final_data['route'] = route\n",
    "    final_data['aircraft_type'] = aircraft_type\n",
    "    final_data['registration'] = registration\n",
    "    final_data['cn_ln'] = cn_ln\n",
    "    final_data['aboard'] = aboard\n",
    "    final_data['fatalities'] = fatalities\n",
    "    final_data['ground'] = ground\n",
    "    final_data['summary'] = summary\n",
    "    \n",
    "    return final_data"
   ]
  },
  {
   "cell_type": "code",
   "execution_count": 4,
   "metadata": {},
   "outputs": [],
   "source": [
    "# setting up the data for each year and creating the dataframe\n",
    "\n",
    "for year in range(1920,2020):    \n",
    "    url = \"http://www.planecrashinfo.com/\"+str(year)+\"/\"+str(year)+\".htm\"\n",
    "    r = requests.get(url)\n",
    "    html_doc = r.text\n",
    "    soup = BeautifulSoup(html_doc)\n",
    "    a_tags = soup.find_all('a')\n",
    "    dates = []\n",
    "    for link in a_tags:\n",
    "        #print(link.text) # this returns the text\n",
    "        dates.append(link.text)\n",
    "        #print(link.get('href')) # this returns the link\n",
    "    dates = dates[:-1]\n",
    "    year_df = set_data(year,dates)\n",
    "    if year!= 1920:\n",
    "        temp_df = pd.DataFrame(year_df)\n",
    "        final_df = pd.concat([final_df,temp_df])\n",
    "    else:\n",
    "        final_df = pd.DataFrame(year_df)\n",
    "    "
   ]
  },
  {
   "cell_type": "code",
   "execution_count": 5,
   "metadata": {},
   "outputs": [
    {
     "data": {
      "text/plain": [
       "(5242, 13)"
      ]
     },
     "execution_count": 5,
     "metadata": {},
     "output_type": "execute_result"
    }
   ],
   "source": [
    "final_df.shape"
   ]
  },
  {
   "cell_type": "code",
   "execution_count": 7,
   "metadata": {},
   "outputs": [
    {
     "name": "stdout",
     "output_type": "stream",
     "text": [
      "<class 'pandas.core.frame.DataFrame'>\n",
      "Int64Index: 5242 entries, 0 to 0\n",
      "Data columns (total 13 columns):\n",
      "date             5242 non-null object\n",
      "time             5242 non-null object\n",
      "location         5242 non-null object\n",
      "operator         5242 non-null object\n",
      "flight_number    5242 non-null object\n",
      "route            5242 non-null object\n",
      "aircraft_type    5242 non-null object\n",
      "registration     5242 non-null object\n",
      "cn_ln            5242 non-null object\n",
      "aboard           5242 non-null object\n",
      "fatalities       5242 non-null object\n",
      "ground           5242 non-null object\n",
      "summary          5242 non-null object\n",
      "dtypes: object(13)\n",
      "memory usage: 573.3+ KB\n"
     ]
    }
   ],
   "source": [
    "final_df.info()"
   ]
  },
  {
   "cell_type": "code",
   "execution_count": 8,
   "metadata": {},
   "outputs": [
    {
     "data": {
      "text/html": [
       "<div>\n",
       "<style scoped>\n",
       "    .dataframe tbody tr th:only-of-type {\n",
       "        vertical-align: middle;\n",
       "    }\n",
       "\n",
       "    .dataframe tbody tr th {\n",
       "        vertical-align: top;\n",
       "    }\n",
       "\n",
       "    .dataframe thead th {\n",
       "        text-align: right;\n",
       "    }\n",
       "</style>\n",
       "<table border=\"1\" class=\"dataframe\">\n",
       "  <thead>\n",
       "    <tr style=\"text-align: right;\">\n",
       "      <th></th>\n",
       "      <th>date</th>\n",
       "      <th>time</th>\n",
       "      <th>location</th>\n",
       "      <th>operator</th>\n",
       "      <th>flight_number</th>\n",
       "      <th>route</th>\n",
       "      <th>aircraft_type</th>\n",
       "      <th>registration</th>\n",
       "      <th>cn_ln</th>\n",
       "      <th>aboard</th>\n",
       "      <th>fatalities</th>\n",
       "      <th>ground</th>\n",
       "      <th>summary</th>\n",
       "    </tr>\n",
       "  </thead>\n",
       "  <tbody>\n",
       "    <tr>\n",
       "      <th>0</th>\n",
       "      <td>September 17, 1908</td>\n",
       "      <td>17:18</td>\n",
       "      <td>Fort Myer, Virginia</td>\n",
       "      <td>Military - U.S. Army</td>\n",
       "      <td>?</td>\n",
       "      <td>Demonstration</td>\n",
       "      <td>Wright Flyer III</td>\n",
       "      <td>?</td>\n",
       "      <td>1</td>\n",
       "      <td>2   (passengers:1  crew:1)</td>\n",
       "      <td>1   (passengers:1  crew:0)</td>\n",
       "      <td>0</td>\n",
       "      <td>During a demonstration flight, a U.S. Army fly...</td>\n",
       "    </tr>\n",
       "    <tr>\n",
       "      <th>1</th>\n",
       "      <td>September 07, 1909</td>\n",
       "      <td>?</td>\n",
       "      <td>Juvisy-sur-Orge, France</td>\n",
       "      <td>?</td>\n",
       "      <td>?</td>\n",
       "      <td>Air show</td>\n",
       "      <td>Wright Byplane</td>\n",
       "      <td>SC1</td>\n",
       "      <td>?</td>\n",
       "      <td>1   (passengers:0  crew:1)</td>\n",
       "      <td>1   (passengers:0  crew:0)</td>\n",
       "      <td>0</td>\n",
       "      <td>Eugene Lefebvre was the first pilot to ever be...</td>\n",
       "    </tr>\n",
       "    <tr>\n",
       "      <th>2</th>\n",
       "      <td>July 12, 1912</td>\n",
       "      <td>06:30</td>\n",
       "      <td>Atlantic City, New Jersey</td>\n",
       "      <td>Military - U.S. Navy</td>\n",
       "      <td>?</td>\n",
       "      <td>Test flight</td>\n",
       "      <td>Dirigible</td>\n",
       "      <td>?</td>\n",
       "      <td>?</td>\n",
       "      <td>5   (passengers:0  crew:5)</td>\n",
       "      <td>5   (passengers:0  crew:5)</td>\n",
       "      <td>0</td>\n",
       "      <td>First U.S. dirigible Akron exploded just offsh...</td>\n",
       "    </tr>\n",
       "    <tr>\n",
       "      <th>3</th>\n",
       "      <td>August 06, 1913</td>\n",
       "      <td>?</td>\n",
       "      <td>Victoria, British Columbia, Canada</td>\n",
       "      <td>Private</td>\n",
       "      <td>?</td>\n",
       "      <td>?</td>\n",
       "      <td>Curtiss seaplane</td>\n",
       "      <td>?</td>\n",
       "      <td>?</td>\n",
       "      <td>1   (passengers:0  crew:1)</td>\n",
       "      <td>1   (passengers:0  crew:1)</td>\n",
       "      <td>0</td>\n",
       "      <td>The first fatal airplane accident in Canada oc...</td>\n",
       "    </tr>\n",
       "    <tr>\n",
       "      <th>4</th>\n",
       "      <td>September 09, 1913</td>\n",
       "      <td>c 18:30</td>\n",
       "      <td>Over the North Sea</td>\n",
       "      <td>Military - German Navy</td>\n",
       "      <td>?</td>\n",
       "      <td>?</td>\n",
       "      <td>Zeppelin L-1 (airship)</td>\n",
       "      <td>?</td>\n",
       "      <td>?</td>\n",
       "      <td>20   (passengers:?  crew:?)</td>\n",
       "      <td>14   (passengers:?  crew:?)</td>\n",
       "      <td>0</td>\n",
       "      <td>The airship flew into a thunderstorm and encou...</td>\n",
       "    </tr>\n",
       "  </tbody>\n",
       "</table>\n",
       "</div>"
      ],
      "text/plain": [
       "                 date     time                            location  \\\n",
       "0  September 17, 1908    17:18                 Fort Myer, Virginia   \n",
       "1  September 07, 1909        ?             Juvisy-sur-Orge, France   \n",
       "2       July 12, 1912    06:30           Atlantic City, New Jersey   \n",
       "3     August 06, 1913        ?  Victoria, British Columbia, Canada   \n",
       "4  September 09, 1913  c 18:30                  Over the North Sea   \n",
       "\n",
       "                 operator flight_number          route  \\\n",
       "0    Military - U.S. Army             ?  Demonstration   \n",
       "1                       ?             ?       Air show   \n",
       "2    Military - U.S. Navy             ?    Test flight   \n",
       "3                 Private             ?              ?   \n",
       "4  Military - German Navy             ?              ?   \n",
       "\n",
       "            aircraft_type registration cn_ln                       aboard  \\\n",
       "0        Wright Flyer III            ?     1   2   (passengers:1  crew:1)   \n",
       "1          Wright Byplane          SC1     ?   1   (passengers:0  crew:1)   \n",
       "2               Dirigible            ?     ?   5   (passengers:0  crew:5)   \n",
       "3        Curtiss seaplane            ?     ?   1   (passengers:0  crew:1)   \n",
       "4  Zeppelin L-1 (airship)            ?     ?  20   (passengers:?  crew:?)   \n",
       "\n",
       "                    fatalities ground  \\\n",
       "0   1   (passengers:1  crew:0)      0   \n",
       "1   1   (passengers:0  crew:0)      0   \n",
       "2   5   (passengers:0  crew:5)      0   \n",
       "3   1   (passengers:0  crew:1)      0   \n",
       "4  14   (passengers:?  crew:?)      0   \n",
       "\n",
       "                                             summary  \n",
       "0  During a demonstration flight, a U.S. Army fly...  \n",
       "1  Eugene Lefebvre was the first pilot to ever be...  \n",
       "2  First U.S. dirigible Akron exploded just offsh...  \n",
       "3  The first fatal airplane accident in Canada oc...  \n",
       "4  The airship flew into a thunderstorm and encou...  "
      ]
     },
     "execution_count": 8,
     "metadata": {},
     "output_type": "execute_result"
    }
   ],
   "source": [
    "final_df.head()"
   ]
  },
  {
   "cell_type": "code",
   "execution_count": 9,
   "metadata": {},
   "outputs": [
    {
     "data": {
      "text/html": [
       "<div>\n",
       "<style scoped>\n",
       "    .dataframe tbody tr th:only-of-type {\n",
       "        vertical-align: middle;\n",
       "    }\n",
       "\n",
       "    .dataframe tbody tr th {\n",
       "        vertical-align: top;\n",
       "    }\n",
       "\n",
       "    .dataframe thead th {\n",
       "        text-align: right;\n",
       "    }\n",
       "</style>\n",
       "<table border=\"1\" class=\"dataframe\">\n",
       "  <thead>\n",
       "    <tr style=\"text-align: right;\">\n",
       "      <th></th>\n",
       "      <th>date</th>\n",
       "      <th>time</th>\n",
       "      <th>location</th>\n",
       "      <th>operator</th>\n",
       "      <th>flight_number</th>\n",
       "      <th>route</th>\n",
       "      <th>aircraft_type</th>\n",
       "      <th>registration</th>\n",
       "      <th>cn_ln</th>\n",
       "      <th>aboard</th>\n",
       "      <th>fatalities</th>\n",
       "      <th>ground</th>\n",
       "      <th>summary</th>\n",
       "    </tr>\n",
       "  </thead>\n",
       "  <tbody>\n",
       "    <tr>\n",
       "      <th>15</th>\n",
       "      <td>September 28, 2018</td>\n",
       "      <td>1010</td>\n",
       "      <td>Chuuk, Micronesia</td>\n",
       "      <td>Air Niugini</td>\n",
       "      <td>?</td>\n",
       "      <td>Pohnpei - Chuuk</td>\n",
       "      <td>Boeing 737-8BK</td>\n",
       "      <td>P2-PXE</td>\n",
       "      <td>33024/1688</td>\n",
       "      <td>47   (passengers:35  crew:12)</td>\n",
       "      <td>1   (passengers:1  crew:0)</td>\n",
       "      <td>0</td>\n",
       "      <td>The aircraft was approaching for a landing at ...</td>\n",
       "    </tr>\n",
       "    <tr>\n",
       "      <th>16</th>\n",
       "      <td>October 29, 2018</td>\n",
       "      <td>0631</td>\n",
       "      <td>Off Jakarta, Indonesia</td>\n",
       "      <td>Lion Air</td>\n",
       "      <td>610</td>\n",
       "      <td>Jakarta - Pangkal Pinang</td>\n",
       "      <td>Boeing 737-MAX 8</td>\n",
       "      <td>PK-LQP</td>\n",
       "      <td>43000/7058</td>\n",
       "      <td>189   (passengers:181  crew:8)</td>\n",
       "      <td>189   (passengers:181  crew:8)</td>\n",
       "      <td>0</td>\n",
       "      <td>The airliner crashed into the Jakarta Sea, 13 ...</td>\n",
       "    </tr>\n",
       "    <tr>\n",
       "      <th>17</th>\n",
       "      <td>November 06, 2018</td>\n",
       "      <td>0253</td>\n",
       "      <td>Georgetown, Guyana</td>\n",
       "      <td>Fly Jamaica Airways</td>\n",
       "      <td>?</td>\n",
       "      <td>Georgetown - Toronto</td>\n",
       "      <td>Boeing 757-N23</td>\n",
       "      <td>N524AT</td>\n",
       "      <td>30233/895</td>\n",
       "      <td>128   (passengers:120  crew:8)</td>\n",
       "      <td>1   (passengers:1  crew:0)</td>\n",
       "      <td>0</td>\n",
       "      <td>After taking off and reaching FL200, the crew ...</td>\n",
       "    </tr>\n",
       "    <tr>\n",
       "      <th>18</th>\n",
       "      <td>November 18, 2018</td>\n",
       "      <td>2300</td>\n",
       "      <td>Near Mandan, North Dakota</td>\n",
       "      <td>Metro Area Ambulance Services</td>\n",
       "      <td>?</td>\n",
       "      <td>Bismark - Sloulin Field</td>\n",
       "      <td>Cessna 441 Conquest II</td>\n",
       "      <td>N441CX</td>\n",
       "      <td>441-0305</td>\n",
       "      <td>3   (passengers:2  crew:1)</td>\n",
       "      <td>3   (passengers:2  crew:1)</td>\n",
       "      <td>0</td>\n",
       "      <td>The air ambulance en route to pick up a patien...</td>\n",
       "    </tr>\n",
       "    <tr>\n",
       "      <th>0</th>\n",
       "      <td>January 14, 2019</td>\n",
       "      <td>0830</td>\n",
       "      <td>Karaj, Iran</td>\n",
       "      <td>Saha Air</td>\n",
       "      <td>?</td>\n",
       "      <td>Bishkek - Payam</td>\n",
       "      <td>Boeing 707-3J9C</td>\n",
       "      <td>EP-CPP</td>\n",
       "      <td>21128/917</td>\n",
       "      <td>16   (passengers:13  crew:3)</td>\n",
       "      <td>15   (passengers:13  crew:2)</td>\n",
       "      <td>0</td>\n",
       "      <td>The cargo plane was operated by the Iranian Ai...</td>\n",
       "    </tr>\n",
       "  </tbody>\n",
       "</table>\n",
       "</div>"
      ],
      "text/plain": [
       "                  date  time                   location  \\\n",
       "15  September 28, 2018  1010          Chuuk, Micronesia   \n",
       "16    October 29, 2018  0631     Off Jakarta, Indonesia   \n",
       "17   November 06, 2018  0253         Georgetown, Guyana   \n",
       "18   November 18, 2018  2300  Near Mandan, North Dakota   \n",
       "0     January 14, 2019  0830                Karaj, Iran   \n",
       "\n",
       "                         operator flight_number                     route  \\\n",
       "15                    Air Niugini             ?           Pohnpei - Chuuk   \n",
       "16                       Lion Air           610  Jakarta - Pangkal Pinang   \n",
       "17            Fly Jamaica Airways             ?      Georgetown - Toronto   \n",
       "18  Metro Area Ambulance Services             ?   Bismark - Sloulin Field   \n",
       "0                        Saha Air             ?           Bishkek - Payam   \n",
       "\n",
       "             aircraft_type registration       cn_ln  \\\n",
       "15          Boeing 737-8BK       P2-PXE  33024/1688   \n",
       "16        Boeing 737-MAX 8       PK-LQP  43000/7058   \n",
       "17          Boeing 757-N23      N524AT    30233/895   \n",
       "18  Cessna 441 Conquest II      N441CX     441-0305   \n",
       "0          Boeing 707-3J9C       EP-CPP   21128/917   \n",
       "\n",
       "                            aboard                      fatalities ground  \\\n",
       "15   47   (passengers:35  crew:12)      1   (passengers:1  crew:0)      0   \n",
       "16  189   (passengers:181  crew:8)  189   (passengers:181  crew:8)      0   \n",
       "17  128   (passengers:120  crew:8)      1   (passengers:1  crew:0)      0   \n",
       "18      3   (passengers:2  crew:1)      3   (passengers:2  crew:1)      0   \n",
       "0     16   (passengers:13  crew:3)    15   (passengers:13  crew:2)      0   \n",
       "\n",
       "                                              summary  \n",
       "15  The aircraft was approaching for a landing at ...  \n",
       "16  The airliner crashed into the Jakarta Sea, 13 ...  \n",
       "17  After taking off and reaching FL200, the crew ...  \n",
       "18  The air ambulance en route to pick up a patien...  \n",
       "0   The cargo plane was operated by the Iranian Ai...  "
      ]
     },
     "execution_count": 9,
     "metadata": {},
     "output_type": "execute_result"
    }
   ],
   "source": [
    "final_df.tail()"
   ]
  },
  {
   "cell_type": "code",
   "execution_count": 11,
   "metadata": {},
   "outputs": [],
   "source": [
    "final_df = final_df.reset_index(drop=True)\n",
    "final_df.to_csv(\"plane_crash_data.csv\", index = False)"
   ]
  },
  {
   "cell_type": "code",
   "execution_count": 12,
   "metadata": {},
   "outputs": [
    {
     "data": {
      "text/plain": [
       "Index(['date', 'time', 'location', 'operator', 'flight_number', 'route',\n",
       "       'aircraft_type', 'registration', 'cn_ln', 'aboard', 'fatalities',\n",
       "       'ground', 'summary'],\n",
       "      dtype='object')"
      ]
     },
     "execution_count": 12,
     "metadata": {},
     "output_type": "execute_result"
    }
   ],
   "source": [
    "final_df.columns"
   ]
  },
  {
   "cell_type": "markdown",
   "metadata": {},
   "source": [
    "## Read data from CSV"
   ]
  },
  {
   "cell_type": "code",
   "execution_count": 2,
   "metadata": {},
   "outputs": [
    {
     "name": "stdout",
     "output_type": "stream",
     "text": [
      "<class 'pandas.core.frame.DataFrame'>\n",
      "RangeIndex: 5242 entries, 0 to 5241\n",
      "Data columns (total 13 columns):\n",
      "date             5242 non-null object\n",
      "time             5242 non-null object\n",
      "location         5242 non-null object\n",
      "operator         5242 non-null object\n",
      "flight_number    5242 non-null object\n",
      "route            5242 non-null object\n",
      "aircraft_type    5242 non-null object\n",
      "registration     5242 non-null object\n",
      "cn_ln            5242 non-null object\n",
      "aboard           5242 non-null object\n",
      "fatalities       5242 non-null object\n",
      "ground           5242 non-null object\n",
      "summary          5242 non-null object\n",
      "dtypes: object(13)\n",
      "memory usage: 532.5+ KB\n"
     ]
    }
   ],
   "source": [
    "test_df = pd.read_csv(\"plane_crash_data.csv\")\n",
    "test_df.info()"
   ]
  },
  {
   "cell_type": "code",
   "execution_count": 3,
   "metadata": {},
   "outputs": [
    {
     "data": {
      "text/html": [
       "<div>\n",
       "<style scoped>\n",
       "    .dataframe tbody tr th:only-of-type {\n",
       "        vertical-align: middle;\n",
       "    }\n",
       "\n",
       "    .dataframe tbody tr th {\n",
       "        vertical-align: top;\n",
       "    }\n",
       "\n",
       "    .dataframe thead th {\n",
       "        text-align: right;\n",
       "    }\n",
       "</style>\n",
       "<table border=\"1\" class=\"dataframe\">\n",
       "  <thead>\n",
       "    <tr style=\"text-align: right;\">\n",
       "      <th></th>\n",
       "      <th>date</th>\n",
       "      <th>time</th>\n",
       "      <th>location</th>\n",
       "      <th>operator</th>\n",
       "      <th>flight_number</th>\n",
       "      <th>route</th>\n",
       "      <th>aircraft_type</th>\n",
       "      <th>registration</th>\n",
       "      <th>cn_ln</th>\n",
       "      <th>aboard</th>\n",
       "      <th>fatalities</th>\n",
       "      <th>ground</th>\n",
       "      <th>summary</th>\n",
       "    </tr>\n",
       "  </thead>\n",
       "  <tbody>\n",
       "    <tr>\n",
       "      <th>count</th>\n",
       "      <td>5242</td>\n",
       "      <td>5242</td>\n",
       "      <td>5242</td>\n",
       "      <td>5242</td>\n",
       "      <td>5242</td>\n",
       "      <td>5242</td>\n",
       "      <td>5242</td>\n",
       "      <td>5242</td>\n",
       "      <td>5242</td>\n",
       "      <td>5242</td>\n",
       "      <td>5242</td>\n",
       "      <td>5242</td>\n",
       "      <td>5242</td>\n",
       "    </tr>\n",
       "    <tr>\n",
       "      <th>unique</th>\n",
       "      <td>4742</td>\n",
       "      <td>1287</td>\n",
       "      <td>4327</td>\n",
       "      <td>2633</td>\n",
       "      <td>808</td>\n",
       "      <td>3529</td>\n",
       "      <td>2557</td>\n",
       "      <td>4888</td>\n",
       "      <td>3781</td>\n",
       "      <td>982</td>\n",
       "      <td>871</td>\n",
       "      <td>52</td>\n",
       "      <td>4876</td>\n",
       "    </tr>\n",
       "    <tr>\n",
       "      <th>top</th>\n",
       "      <td>August 31, 1988</td>\n",
       "      <td>?</td>\n",
       "      <td>Moscow, Russia</td>\n",
       "      <td>Aeroflot</td>\n",
       "      <td>?</td>\n",
       "      <td>?</td>\n",
       "      <td>Douglas DC-3</td>\n",
       "      <td>?</td>\n",
       "      <td>?</td>\n",
       "      <td>2   (passengers:0  crew:2)</td>\n",
       "      <td>1   (passengers:0  crew:1)</td>\n",
       "      <td>0</td>\n",
       "      <td>?</td>\n",
       "    </tr>\n",
       "    <tr>\n",
       "      <th>freq</th>\n",
       "      <td>4</td>\n",
       "      <td>1917</td>\n",
       "      <td>16</td>\n",
       "      <td>217</td>\n",
       "      <td>4043</td>\n",
       "      <td>1338</td>\n",
       "      <td>310</td>\n",
       "      <td>321</td>\n",
       "      <td>1092</td>\n",
       "      <td>224</td>\n",
       "      <td>272</td>\n",
       "      <td>4964</td>\n",
       "      <td>210</td>\n",
       "    </tr>\n",
       "  </tbody>\n",
       "</table>\n",
       "</div>"
      ],
      "text/plain": [
       "                   date  time        location  operator flight_number route  \\\n",
       "count              5242  5242            5242      5242          5242  5242   \n",
       "unique             4742  1287            4327      2633           808  3529   \n",
       "top     August 31, 1988     ?  Moscow, Russia  Aeroflot             ?     ?   \n",
       "freq                  4  1917              16       217          4043  1338   \n",
       "\n",
       "       aircraft_type registration cn_ln                      aboard  \\\n",
       "count           5242         5242  5242                        5242   \n",
       "unique          2557         4888  3781                         982   \n",
       "top     Douglas DC-3            ?     ?  2   (passengers:0  crew:2)   \n",
       "freq             310          321  1092                         224   \n",
       "\n",
       "                        fatalities ground summary  \n",
       "count                         5242   5242    5242  \n",
       "unique                         871     52    4876  \n",
       "top     1   (passengers:0  crew:1)      0       ?  \n",
       "freq                           272   4964     210  "
      ]
     },
     "execution_count": 3,
     "metadata": {},
     "output_type": "execute_result"
    }
   ],
   "source": [
    "test_df.describe()"
   ]
  },
  {
   "cell_type": "code",
   "execution_count": 7,
   "metadata": {},
   "outputs": [
    {
     "data": {
      "text/html": [
       "<div>\n",
       "<style scoped>\n",
       "    .dataframe tbody tr th:only-of-type {\n",
       "        vertical-align: middle;\n",
       "    }\n",
       "\n",
       "    .dataframe tbody tr th {\n",
       "        vertical-align: top;\n",
       "    }\n",
       "\n",
       "    .dataframe thead th {\n",
       "        text-align: right;\n",
       "    }\n",
       "</style>\n",
       "<table border=\"1\" class=\"dataframe\">\n",
       "  <thead>\n",
       "    <tr style=\"text-align: right;\">\n",
       "      <th></th>\n",
       "      <th>date</th>\n",
       "      <th>time</th>\n",
       "      <th>location</th>\n",
       "      <th>operator</th>\n",
       "      <th>flight_number</th>\n",
       "      <th>route</th>\n",
       "      <th>aircraft_type</th>\n",
       "      <th>registration</th>\n",
       "      <th>cn_ln</th>\n",
       "      <th>aboard</th>\n",
       "      <th>fatalities</th>\n",
       "      <th>ground</th>\n",
       "      <th>summary</th>\n",
       "    </tr>\n",
       "  </thead>\n",
       "  <tbody>\n",
       "    <tr>\n",
       "      <th>5237</th>\n",
       "      <td>September 28, 2018</td>\n",
       "      <td>1010</td>\n",
       "      <td>Chuuk, Micronesia</td>\n",
       "      <td>Air Niugini</td>\n",
       "      <td>?</td>\n",
       "      <td>Pohnpei - Chuuk</td>\n",
       "      <td>Boeing 737-8BK</td>\n",
       "      <td>P2-PXE</td>\n",
       "      <td>33024/1688</td>\n",
       "      <td>47   (passengers:35  crew:12)</td>\n",
       "      <td>1   (passengers:1  crew:0)</td>\n",
       "      <td>0</td>\n",
       "      <td>The aircraft was approaching for a landing at ...</td>\n",
       "    </tr>\n",
       "    <tr>\n",
       "      <th>5238</th>\n",
       "      <td>October 29, 2018</td>\n",
       "      <td>0631</td>\n",
       "      <td>Off Jakarta, Indonesia</td>\n",
       "      <td>Lion Air</td>\n",
       "      <td>610</td>\n",
       "      <td>Jakarta - Pangkal Pinang</td>\n",
       "      <td>Boeing 737-MAX 8</td>\n",
       "      <td>PK-LQP</td>\n",
       "      <td>43000/7058</td>\n",
       "      <td>189   (passengers:181  crew:8)</td>\n",
       "      <td>189   (passengers:181  crew:8)</td>\n",
       "      <td>0</td>\n",
       "      <td>The airliner crashed into the Jakarta Sea, 13 ...</td>\n",
       "    </tr>\n",
       "    <tr>\n",
       "      <th>5239</th>\n",
       "      <td>November 06, 2018</td>\n",
       "      <td>0253</td>\n",
       "      <td>Georgetown, Guyana</td>\n",
       "      <td>Fly Jamaica Airways</td>\n",
       "      <td>?</td>\n",
       "      <td>Georgetown - Toronto</td>\n",
       "      <td>Boeing 757-N23</td>\n",
       "      <td>N524AT</td>\n",
       "      <td>30233/895</td>\n",
       "      <td>128   (passengers:120  crew:8)</td>\n",
       "      <td>1   (passengers:1  crew:0)</td>\n",
       "      <td>0</td>\n",
       "      <td>After taking off and reaching FL200, the crew ...</td>\n",
       "    </tr>\n",
       "    <tr>\n",
       "      <th>5240</th>\n",
       "      <td>November 18, 2018</td>\n",
       "      <td>2300</td>\n",
       "      <td>Near Mandan, North Dakota</td>\n",
       "      <td>Metro Area Ambulance Services</td>\n",
       "      <td>?</td>\n",
       "      <td>Bismark - Sloulin Field</td>\n",
       "      <td>Cessna 441 Conquest II</td>\n",
       "      <td>N441CX</td>\n",
       "      <td>441-0305</td>\n",
       "      <td>3   (passengers:2  crew:1)</td>\n",
       "      <td>3   (passengers:2  crew:1)</td>\n",
       "      <td>0</td>\n",
       "      <td>The air ambulance en route to pick up a patien...</td>\n",
       "    </tr>\n",
       "    <tr>\n",
       "      <th>5241</th>\n",
       "      <td>January 14, 2019</td>\n",
       "      <td>0830</td>\n",
       "      <td>Karaj, Iran</td>\n",
       "      <td>Saha Air</td>\n",
       "      <td>?</td>\n",
       "      <td>Bishkek - Payam</td>\n",
       "      <td>Boeing 707-3J9C</td>\n",
       "      <td>EP-CPP</td>\n",
       "      <td>21128/917</td>\n",
       "      <td>16   (passengers:13  crew:3)</td>\n",
       "      <td>15   (passengers:13  crew:2)</td>\n",
       "      <td>0</td>\n",
       "      <td>The cargo plane was operated by the Iranian Ai...</td>\n",
       "    </tr>\n",
       "  </tbody>\n",
       "</table>\n",
       "</div>"
      ],
      "text/plain": [
       "                    date  time                   location  \\\n",
       "5237  September 28, 2018  1010          Chuuk, Micronesia   \n",
       "5238    October 29, 2018  0631     Off Jakarta, Indonesia   \n",
       "5239   November 06, 2018  0253         Georgetown, Guyana   \n",
       "5240   November 18, 2018  2300  Near Mandan, North Dakota   \n",
       "5241    January 14, 2019  0830                Karaj, Iran   \n",
       "\n",
       "                           operator flight_number                     route  \\\n",
       "5237                    Air Niugini             ?           Pohnpei - Chuuk   \n",
       "5238                       Lion Air           610  Jakarta - Pangkal Pinang   \n",
       "5239            Fly Jamaica Airways             ?      Georgetown - Toronto   \n",
       "5240  Metro Area Ambulance Services             ?   Bismark - Sloulin Field   \n",
       "5241                       Saha Air             ?           Bishkek - Payam   \n",
       "\n",
       "               aircraft_type registration       cn_ln  \\\n",
       "5237          Boeing 737-8BK       P2-PXE  33024/1688   \n",
       "5238        Boeing 737-MAX 8       PK-LQP  43000/7058   \n",
       "5239          Boeing 757-N23      N524AT    30233/895   \n",
       "5240  Cessna 441 Conquest II      N441CX     441-0305   \n",
       "5241         Boeing 707-3J9C       EP-CPP   21128/917   \n",
       "\n",
       "                              aboard                      fatalities ground  \\\n",
       "5237   47   (passengers:35  crew:12)      1   (passengers:1  crew:0)      0   \n",
       "5238  189   (passengers:181  crew:8)  189   (passengers:181  crew:8)      0   \n",
       "5239  128   (passengers:120  crew:8)      1   (passengers:1  crew:0)      0   \n",
       "5240      3   (passengers:2  crew:1)      3   (passengers:2  crew:1)      0   \n",
       "5241    16   (passengers:13  crew:3)    15   (passengers:13  crew:2)      0   \n",
       "\n",
       "                                                summary  \n",
       "5237  The aircraft was approaching for a landing at ...  \n",
       "5238  The airliner crashed into the Jakarta Sea, 13 ...  \n",
       "5239  After taking off and reaching FL200, the crew ...  \n",
       "5240  The air ambulance en route to pick up a patien...  \n",
       "5241  The cargo plane was operated by the Iranian Ai...  "
      ]
     },
     "execution_count": 7,
     "metadata": {},
     "output_type": "execute_result"
    }
   ],
   "source": [
    "test_df.tail()"
   ]
  },
  {
   "cell_type": "markdown",
   "metadata": {},
   "source": [
    "- convert date in to date format\n",
    "- related to time data:\n",
    "    - time data also contains the character 'c' in 322 observations.\n",
    "    - time data has missing semi-colons.\n",
    "    - time data has \"?\" for missing data\n",
    "    - many other unwanted characters.\n",
    "- location can be split into region and country columns.\n",
    "- Operator can again be split into private, passenger service and military. (will have to find the operations first ).\n",
    "- flight number: there are missing flight number informations represented by \"?\"\n",
    "- route: can be split into : source and destination locations\n",
    "- aboard can be further split into : total_aboard, passenger, crew\n",
    "- fatalities can be again further split into passenger and crew.\n",
    "- "
   ]
  },
  {
   "cell_type": "markdown",
   "metadata": {},
   "source": [
    "### Convert data into Date Format"
   ]
  },
  {
   "cell_type": "code",
   "execution_count": 10,
   "metadata": {},
   "outputs": [],
   "source": [
    "#using different functions\n",
    "def get_month(month_string):\n",
    "    month_string = month_string.lower()\n",
    "    return {\n",
    "        'january': \"1',\n",
    "        'february': '2',\n",
    "        'march':'3',\n",
    "        'april':'4',\n",
    "        'may':'5',\n",
    "        'june':'6',\n",
    "        'july':'7',\n",
    "        'august':'8',\n",
    "        'september':'9',\n",
    "        'october':'10',\n",
    "        'november':'11',\n",
    "        'december':'12'\n",
    "    }[month_string]"
   ]
  },
  {
   "cell_type": "code",
   "execution_count": 25,
   "metadata": {},
   "outputs": [],
   "source": [
    "def convert_date(date_string):\n",
    "    month_val = date_string.split(\" \")[0]\n",
    "    month_str = get_month(month_val)\n",
    "    \n",
    "    date_val = date_string.split(\" \")[1].split(\",\")[0]\n",
    "    year_val = date_string.split(\" \")[2]\n",
    "    \n",
    "    final_date = str(month_str)+\"-\"+str(date_val)+\"-\"+str(year_val)\n",
    "    \n",
    "    return final_date\n"
   ]
  },
  {
   "cell_type": "code",
   "execution_count": 31,
   "metadata": {},
   "outputs": [],
   "source": [
    "test_df['date_new'] = test_df['date'].apply(convert_date)"
   ]
  },
  {
   "cell_type": "code",
   "execution_count": 43,
   "metadata": {},
   "outputs": [
    {
     "name": "stdout",
     "output_type": "stream",
     "text": [
      "0   2017-01-03\n",
      "1   2016-02-04\n",
      "2   2017-03-02\n",
      "3   2015-04-03\n",
      "4   2016-04-03\n",
      "Name: date_col, dtype: datetime64[ns]\n"
     ]
    }
   ],
   "source": [
    "#https://discuss.analyticsvidhya.com/t/how-to-convert-string-to-date-in-pandas-dataframe-using-python/17674\n",
    "s=pd.Series([\"Jan.3,2017\", \"feb.4,2016\", \"mar.2,2017\", \"apr.3,2015\" , \"apr.3,2016\"])\n",
    "sf=pd.DataFrame(s, columns =[\"date_col\"])\n",
    "print (pd.to_datetime(sf.date_col, format=\"%b.%d,%Y\"))"
   ]
  },
  {
   "cell_type": "code",
   "execution_count": 48,
   "metadata": {},
   "outputs": [
    {
     "name": "stdout",
     "output_type": "stream",
     "text": [
      "0      1908-09-17\n",
      "1      1909-09-07\n",
      "2      1912-07-12\n",
      "3      1913-08-06\n",
      "4      1913-09-09\n",
      "5      1913-10-17\n",
      "6      1915-03-05\n",
      "7      1915-09-03\n",
      "8      1916-07-28\n",
      "9      1916-09-24\n",
      "10     1916-10-01\n",
      "11     1916-11-21\n",
      "12     1916-11-28\n",
      "13     1917-03-04\n",
      "14     1917-03-30\n",
      "15     1917-05-14\n",
      "16     1917-06-14\n",
      "17     1917-06-17\n",
      "18     1917-08-21\n",
      "19     1917-10-20\n",
      "20     1918-04-07\n",
      "21     1918-05-10\n",
      "22     1918-08-11\n",
      "23     1918-12-16\n",
      "24     1919-05-25\n",
      "25     1919-07-19\n",
      "26     1919-08-02\n",
      "27     1919-10-02\n",
      "28     1919-10-14\n",
      "29     1919-10-20\n",
      "          ...    \n",
      "5212   2017-05-05\n",
      "5213   2017-05-15\n",
      "5214   2017-05-27\n",
      "5215   2017-06-07\n",
      "5216   2017-06-28\n",
      "5217   2017-07-10\n",
      "5218   2017-10-14\n",
      "5219   2017-11-15\n",
      "5220   2017-12-13\n",
      "5221   2017-12-31\n",
      "5222   2018-01-29\n",
      "5223   2018-02-10\n",
      "5224   2018-02-11\n",
      "5225   2018-02-18\n",
      "5226   2018-03-06\n",
      "5227   2018-03-11\n",
      "5228   2018-03-12\n",
      "5229   2018-03-17\n",
      "5230   2018-04-11\n",
      "5231   2018-04-17\n",
      "5232   2018-05-02\n",
      "5233   2018-05-18\n",
      "5234   2018-06-05\n",
      "5235   2018-07-10\n",
      "5236   2018-08-04\n",
      "5237   2018-09-28\n",
      "5238   2018-10-29\n",
      "5239   2018-11-06\n",
      "5240   2018-11-18\n",
      "5241   2019-01-14\n",
      "Name: date, Length: 5242, dtype: datetime64[ns]\n"
     ]
    }
   ],
   "source": [
    "s = test_df['date']\n",
    "#sf = pd.DataFrame(s, columns = ['date_col'])\n",
    "#test_df[\"new_date1\"] = \n",
    "#print(pd.to_datetime(s,format = \"%B %d, %Y\"))"
   ]
  },
  {
   "cell_type": "code",
   "execution_count": 3,
   "metadata": {},
   "outputs": [],
   "source": [
    "# use this date conversion **********************************\n",
    "s = test_df['date']\n",
    "test_df['new_date'] = pd.to_datetime(s,format = \"%B %d, %Y\")"
   ]
  },
  {
   "cell_type": "code",
   "execution_count": 4,
   "metadata": {},
   "outputs": [
    {
     "name": "stdout",
     "output_type": "stream",
     "text": [
      "<class 'pandas.core.frame.DataFrame'>\n",
      "RangeIndex: 5242 entries, 0 to 5241\n",
      "Data columns (total 14 columns):\n",
      "date             5242 non-null object\n",
      "time             5242 non-null object\n",
      "location         5242 non-null object\n",
      "operator         5242 non-null object\n",
      "flight_number    5242 non-null object\n",
      "route            5242 non-null object\n",
      "aircraft_type    5242 non-null object\n",
      "registration     5242 non-null object\n",
      "cn_ln            5242 non-null object\n",
      "aboard           5242 non-null object\n",
      "fatalities       5242 non-null object\n",
      "ground           5242 non-null object\n",
      "summary          5242 non-null object\n",
      "new_date         5242 non-null datetime64[ns]\n",
      "dtypes: datetime64[ns](1), object(13)\n",
      "memory usage: 573.4+ KB\n"
     ]
    }
   ],
   "source": [
    "test_df.info()"
   ]
  },
  {
   "cell_type": "markdown",
   "metadata": {},
   "source": [
    "## Do this in the last\n",
    "### time data has \"?\" for missing data. \n",
    "### Convert it into nan"
   ]
  },
  {
   "cell_type": "code",
   "execution_count": 24,
   "metadata": {},
   "outputs": [
    {
     "data": {
      "text/plain": [
       "1917"
      ]
     },
     "execution_count": 24,
     "metadata": {},
     "output_type": "execute_result"
    }
   ],
   "source": [
    "# count the number of observations with \"?\"\n",
    "test_df.query('time == \"?\"').shape[0]"
   ]
  },
  {
   "cell_type": "code",
   "execution_count": 25,
   "metadata": {},
   "outputs": [],
   "source": [
    "test_df['time'] = test_df['time'].replace('?', np.nan)"
   ]
  },
  {
   "cell_type": "code",
   "execution_count": 26,
   "metadata": {},
   "outputs": [
    {
     "data": {
      "text/plain": [
       "0"
      ]
     },
     "execution_count": 26,
     "metadata": {},
     "output_type": "execute_result"
    }
   ],
   "source": [
    "# check the dataset\n",
    "test_df.query('time == \"?\"').shape[0]"
   ]
  },
  {
   "cell_type": "markdown",
   "metadata": {},
   "source": [
    "### time data also contains the character 'c' in 322 observations."
   ]
  },
  {
   "cell_type": "code",
   "execution_count": 3,
   "metadata": {},
   "outputs": [],
   "source": [
    "df = test_df.copy()"
   ]
  },
  {
   "cell_type": "code",
   "execution_count": 223,
   "metadata": {},
   "outputs": [],
   "source": [
    "#pattern = re.compile('^\\d{2}\\:\\d{2}$') \n",
    "def check_pattern(time_val):\n",
    "    pattern = re.compile('^\\d{2}\\:\\d{2}$') \n",
    "    result = pattern.match(time_val)\n",
    "    return bool(result)"
   ]
  },
  {
   "cell_type": "code",
   "execution_count": 224,
   "metadata": {},
   "outputs": [],
   "source": [
    "# lets check if the time data has the pattern 00:00\n",
    "pattern_check = df['time'].apply(check_pattern)"
   ]
  },
  {
   "cell_type": "code",
   "execution_count": 225,
   "metadata": {},
   "outputs": [
    {
     "data": {
      "text/plain": [
       "2436"
      ]
     },
     "execution_count": 225,
     "metadata": {},
     "output_type": "execute_result"
    }
   ],
   "source": [
    "pattern_check[pattern_check == False].count()"
   ]
  },
  {
   "cell_type": "code",
   "execution_count": 4,
   "metadata": {},
   "outputs": [
    {
     "data": {
      "text/plain": [
       "322"
      ]
     },
     "execution_count": 4,
     "metadata": {},
     "output_type": "execute_result"
    }
   ],
   "source": [
    "#test_df.query('\"c\" in time').shape[0]\n",
    "test_df[test_df['time'].str.contains(\"c\")].shape[0]"
   ]
  },
  {
   "cell_type": "code",
   "execution_count": 226,
   "metadata": {},
   "outputs": [
    {
     "data": {
      "text/plain": [
       "2"
      ]
     },
     "execution_count": 226,
     "metadata": {},
     "output_type": "execute_result"
    }
   ],
   "source": [
    "test_df[test_df['time'].str.contains(\"c: \")].shape[0]"
   ]
  },
  {
   "cell_type": "code",
   "execution_count": 232,
   "metadata": {},
   "outputs": [
    {
     "data": {
      "text/plain": [
       "47"
      ]
     },
     "execution_count": 232,
     "metadata": {},
     "output_type": "execute_result"
    }
   ],
   "source": [
    "test_df[test_df['time'].str.contains(\"Z\")].shape[0]"
   ]
  },
  {
   "cell_type": "code",
   "execution_count": 233,
   "metadata": {},
   "outputs": [
    {
     "data": {
      "text/plain": [
       "1917"
      ]
     },
     "execution_count": 233,
     "metadata": {},
     "output_type": "execute_result"
    }
   ],
   "source": [
    "test_df[test_df['time'] == \"?\"].shape[0]"
   ]
  },
  {
   "cell_type": "markdown",
   "metadata": {},
   "source": [
    "Since it is observed that the character \"c\" is present in the start of the time data, might be due to data input error. Anyways lets remove this from the observations."
   ]
  },
  {
   "cell_type": "code",
   "execution_count": 110,
   "metadata": {},
   "outputs": [
    {
     "name": "stdout",
     "output_type": "stream",
     "text": [
      "002:00\n"
     ]
    }
   ],
   "source": [
    "#ignore this\n",
    "ignore_list = [\"c:\",\"c: \",\"c\",\"c \",\"z\",\"Z\",\" \"]\n",
    "time_data = \"c: 2:00\"\n",
    "for tag in ignore_list:\n",
    "    if tag == 'z' or tag == 'Z':\n",
    "        time_data = time_data.replace(tag, '')\n",
    "    else:\n",
    "        time_data = time_data.replace(tag, '0')\n",
    "print(time_data)"
   ]
  },
  {
   "cell_type": "code",
   "execution_count": 171,
   "metadata": {},
   "outputs": [
    {
     "name": "stdout",
     "output_type": "stream",
     "text": [
      "02:00\n",
      "1\n"
     ]
    }
   ],
   "source": [
    "#ignore this\n",
    "time_data = \"2:00\"\n",
    "if len(time_data) < 5:\n",
    "    add_zero = 5 - len(time_data)\n",
    "    time_data = time_data.zfill(5)\n",
    "    print(time_data)\n",
    "    print(add_zero)\n",
    "\n",
    "#my_string = \"2.00\"\n",
    "#print(my_string.zfill(5))"
   ]
  },
  {
   "cell_type": "code",
   "execution_count": 234,
   "metadata": {},
   "outputs": [],
   "source": [
    "# function to replace \"?\", remove \"c\" and to add \":\" for all the missing : in time data\n",
    "\n",
    "def remove_c(time_data):\n",
    "    time_data = time_data.strip()\n",
    "    \n",
    "    ignore_list = [\"c:\",\"c: \",\"c\",\"c \",\"z\",\"Z\",\" \"]\n",
    "    \n",
    "    if time_data == \"?\":\n",
    "        time_data = \"00:00\"\n",
    "        \n",
    "    if \":\" not in time_data:\n",
    "        time_data = time_data[:2] + ':' + time_data[2:]\n",
    "    \n",
    "    if len(time_data) < 5:\n",
    "        time_data = time_data.zfill(5)\n",
    "    \n",
    "    for tag in ignore_list:\n",
    "        if tag == 'z' or tag == 'Z':\n",
    "            time_data = time_data.replace(tag, '')\n",
    "        else:\n",
    "            time_data = time_data.replace(tag, '0')\n",
    "\n",
    "        \n",
    "    new_str = time_data[-5:]\n",
    "    return new_str"
   ]
  },
  {
   "cell_type": "code",
   "execution_count": 235,
   "metadata": {},
   "outputs": [],
   "source": [
    "df['time'] = df['time'].apply(remove_c)"
   ]
  },
  {
   "cell_type": "code",
   "execution_count": 236,
   "metadata": {},
   "outputs": [],
   "source": [
    "test = df['time'].apply(check_pattern)"
   ]
  },
  {
   "cell_type": "code",
   "execution_count": 237,
   "metadata": {},
   "outputs": [
    {
     "data": {
      "text/plain": [
       "12"
      ]
     },
     "execution_count": 237,
     "metadata": {},
     "output_type": "execute_result"
    }
   ],
   "source": [
    "test[test == False].count()"
   ]
  },
  {
   "cell_type": "code",
   "execution_count": 204,
   "metadata": {},
   "outputs": [],
   "source": [
    "test_index = test[test == False].index"
   ]
  },
  {
   "cell_type": "code",
   "execution_count": 239,
   "metadata": {},
   "outputs": [
    {
     "data": {
      "text/plain": [
       "398     10;00\n",
       "549     13;00\n",
       "552     4:;10\n",
       "644     12;30\n",
       "841     6:;15\n",
       "905     3:;00\n",
       "974     2:;00\n",
       "1782    2:\"20\n",
       "2029    8:.40\n",
       "4706    6:;30\n",
       "4791    6:;30\n",
       "5039    0:900\n",
       "Name: time, dtype: object"
      ]
     },
     "execution_count": 239,
     "metadata": {},
     "output_type": "execute_result"
    }
   ],
   "source": [
    "df['time'].iloc[test_index]"
   ]
  },
  {
   "cell_type": "code",
   "execution_count": 240,
   "metadata": {},
   "outputs": [],
   "source": [
    "def remove_extra_characters(time_data):\n",
    "\n",
    "    ignore_list = [\":;\",\":.\",\":\\\"\",\";\"]\n",
    "\n",
    "    for tag in ignore_list:\n",
    "        time_data = time_data.replace(tag, ':')\n",
    "\n",
    "    if len(time_data) < 5:\n",
    "        time_data = time_data.zfill(5)\n",
    "    \n",
    "    return time_data"
   ]
  },
  {
   "cell_type": "code",
   "execution_count": 242,
   "metadata": {},
   "outputs": [],
   "source": [
    "df['time'] = df['time'].apply(remove_extra_characters)"
   ]
  },
  {
   "cell_type": "code",
   "execution_count": 243,
   "metadata": {},
   "outputs": [],
   "source": [
    "t2 = df['time'].apply(check_pattern)"
   ]
  },
  {
   "cell_type": "code",
   "execution_count": 244,
   "metadata": {},
   "outputs": [],
   "source": [
    "t2_index = t2[t2 == False].index"
   ]
  },
  {
   "cell_type": "code",
   "execution_count": 245,
   "metadata": {},
   "outputs": [
    {
     "data": {
      "text/plain": [
       "5039    0:900\n",
       "Name: time, dtype: object"
      ]
     },
     "execution_count": 245,
     "metadata": {},
     "output_type": "execute_result"
    }
   ],
   "source": [
    "df['time'].iloc[t2_index]"
   ]
  },
  {
   "cell_type": "markdown",
   "metadata": {},
   "source": [
    "Now we can clean the data for the index 5039. And since there cannot be 90 minutes, it seems that the data has been input wrongly. So, I think it should be 09:00"
   ]
  },
  {
   "cell_type": "code",
   "execution_count": 248,
   "metadata": {},
   "outputs": [],
   "source": [
    "df.iloc[5039]['time'] = '09:00'"
   ]
  },
  {
   "cell_type": "code",
   "execution_count": 249,
   "metadata": {},
   "outputs": [
    {
     "data": {
      "text/plain": [
       "'09:00'"
      ]
     },
     "execution_count": 249,
     "metadata": {},
     "output_type": "execute_result"
    }
   ],
   "source": [
    "df.iloc[5039]['time']"
   ]
  },
  {
   "cell_type": "code",
   "execution_count": 7,
   "metadata": {},
   "outputs": [],
   "source": [
    "# ignore this\n",
    "pattern = re.compile('^\\d{2}\\:\\d{2}$') \n",
    "def check_pattern(time_val):\n",
    "    pattern = re.compile('^\\d{2}\\:\\d{2}$') \n",
    "    result = pattern.match(time_val)\n",
    "    return bool(result)"
   ]
  },
  {
   "cell_type": "markdown",
   "metadata": {},
   "source": [
    "### location can be split into region and country columns."
   ]
  },
  {
   "cell_type": "code",
   "execution_count": 330,
   "metadata": {},
   "outputs": [
    {
     "data": {
      "text/html": [
       "<div>\n",
       "<style scoped>\n",
       "    .dataframe tbody tr th:only-of-type {\n",
       "        vertical-align: middle;\n",
       "    }\n",
       "\n",
       "    .dataframe tbody tr th {\n",
       "        vertical-align: top;\n",
       "    }\n",
       "\n",
       "    .dataframe thead th {\n",
       "        text-align: right;\n",
       "    }\n",
       "</style>\n",
       "<table border=\"1\" class=\"dataframe\">\n",
       "  <thead>\n",
       "    <tr style=\"text-align: right;\">\n",
       "      <th></th>\n",
       "      <th>date</th>\n",
       "      <th>time</th>\n",
       "      <th>location</th>\n",
       "      <th>operator</th>\n",
       "      <th>flight_number</th>\n",
       "      <th>route</th>\n",
       "      <th>aircraft_type</th>\n",
       "      <th>registration</th>\n",
       "      <th>cn_ln</th>\n",
       "      <th>aboard</th>\n",
       "      <th>fatalities</th>\n",
       "      <th>ground</th>\n",
       "      <th>summary</th>\n",
       "    </tr>\n",
       "  </thead>\n",
       "  <tbody>\n",
       "    <tr>\n",
       "      <th>2459</th>\n",
       "      <td>May 25, 1971</td>\n",
       "      <td>16:26</td>\n",
       "      <td>Santiago, Chile</td>\n",
       "      <td>\\tAerolineas Flecha Austral - ALFA</td>\n",
       "      <td>?</td>\n",
       "      <td>?</td>\n",
       "      <td>\\tCurtiss C-46</td>\n",
       "      <td>\\tCC-CAZ</td>\n",
       "      <td>?</td>\n",
       "      <td>4   (passengers:2  crew:2)</td>\n",
       "      <td>4   (passengers:2  crew:2)</td>\n",
       "      <td>0</td>\n",
       "      <td>The cargo plane lost an engine while taking of...</td>\n",
       "    </tr>\n",
       "    <tr>\n",
       "      <th>3512</th>\n",
       "      <td>January 30, 1987</td>\n",
       "      <td>00:00</td>\n",
       "      <td>Off Monrovia, Liberia</td>\n",
       "      <td>Air Reconnaissance Unit of Liberia</td>\n",
       "      <td>?</td>\n",
       "      <td>?</td>\n",
       "      <td>Cessna U-27A Caravan I</td>\n",
       "      <td>ARU-021</td>\n",
       "      <td>208-00044</td>\n",
       "      <td>18   (passengers:?  crew:?)</td>\n",
       "      <td>16   (passengers:?  crew:?)</td>\n",
       "      <td>0</td>\n",
       "      <td>?</td>\n",
       "    </tr>\n",
       "    <tr>\n",
       "      <th>5135</th>\n",
       "      <td>March 08, 2014</td>\n",
       "      <td>02:41</td>\n",
       "      <td>South Indian Ocean</td>\n",
       "      <td>Malaysia Airlines</td>\n",
       "      <td>370</td>\n",
       "      <td>Kuala Lumpur - Beijing</td>\n",
       "      <td>Boeing 777-200</td>\n",
       "      <td>9M-MRO</td>\n",
       "      <td>28420/404</td>\n",
       "      <td>239   (passengers:227  crew:12)</td>\n",
       "      <td>239   (passengers:227  crew:12)</td>\n",
       "      <td>0</td>\n",
       "      <td>Radar contact was lost with the aircraft 2 hou...</td>\n",
       "    </tr>\n",
       "    <tr>\n",
       "      <th>2687</th>\n",
       "      <td>September 07, 1974</td>\n",
       "      <td>00:00</td>\n",
       "      <td>Tandjung-karang, Indonesia</td>\n",
       "      <td>Garuda Indonesia Airlines</td>\n",
       "      <td>?</td>\n",
       "      <td>?</td>\n",
       "      <td>Fokker F-27 Friendship 600</td>\n",
       "      <td>PK-GFJ</td>\n",
       "      <td>10422</td>\n",
       "      <td>39   (passengers:36  crew:3)</td>\n",
       "      <td>36   (passengers:33  crew:3)</td>\n",
       "      <td>0</td>\n",
       "      <td>Crashed into a building while landing during p...</td>\n",
       "    </tr>\n",
       "    <tr>\n",
       "      <th>5118</th>\n",
       "      <td>November 09, 2013</td>\n",
       "      <td>10:30</td>\n",
       "      <td>Pujungan, Malinau district, Borneo</td>\n",
       "      <td>Military - Indonesian Army</td>\n",
       "      <td>?</td>\n",
       "      <td>Tarakan - Malinau</td>\n",
       "      <td>Mil- Mi-17B-5</td>\n",
       "      <td>?</td>\n",
       "      <td>?</td>\n",
       "      <td>21   (passengers:13  crew:8)</td>\n",
       "      <td>13   (passengers:7  crew:6)</td>\n",
       "      <td>0</td>\n",
       "      <td>After losing power, the helicopter crashed int...</td>\n",
       "    </tr>\n",
       "  </tbody>\n",
       "</table>\n",
       "</div>"
      ],
      "text/plain": [
       "                    date   time                            location  \\\n",
       "2459        May 25, 1971  16:26                     Santiago, Chile   \n",
       "3512    January 30, 1987  00:00               Off Monrovia, Liberia   \n",
       "5135      March 08, 2014  02:41                  South Indian Ocean   \n",
       "2687  September 07, 1974  00:00          Tandjung-karang, Indonesia   \n",
       "5118   November 09, 2013  10:30  Pujungan, Malinau district, Borneo   \n",
       "\n",
       "                                operator flight_number  \\\n",
       "2459  \\tAerolineas Flecha Austral - ALFA             ?   \n",
       "3512  Air Reconnaissance Unit of Liberia             ?   \n",
       "5135                   Malaysia Airlines           370   \n",
       "2687           Garuda Indonesia Airlines             ?   \n",
       "5118          Military - Indonesian Army             ?   \n",
       "\n",
       "                       route               aircraft_type registration  \\\n",
       "2459                       ?              \\tCurtiss C-46     \\tCC-CAZ   \n",
       "3512                       ?      Cessna U-27A Caravan I      ARU-021   \n",
       "5135  Kuala Lumpur - Beijing              Boeing 777-200       9M-MRO   \n",
       "2687                       ?  Fokker F-27 Friendship 600       PK-GFJ   \n",
       "5118       Tarakan - Malinau               Mil- Mi-17B-5            ?   \n",
       "\n",
       "          cn_ln                           aboard  \\\n",
       "2459          ?       4   (passengers:2  crew:2)   \n",
       "3512  208-00044      18   (passengers:?  crew:?)   \n",
       "5135  28420/404  239   (passengers:227  crew:12)   \n",
       "2687      10422     39   (passengers:36  crew:3)   \n",
       "5118          ?     21   (passengers:13  crew:8)   \n",
       "\n",
       "                           fatalities ground  \\\n",
       "2459       4   (passengers:2  crew:2)      0   \n",
       "3512      16   (passengers:?  crew:?)      0   \n",
       "5135  239   (passengers:227  crew:12)      0   \n",
       "2687     36   (passengers:33  crew:3)      0   \n",
       "5118      13   (passengers:7  crew:6)      0   \n",
       "\n",
       "                                                summary  \n",
       "2459  The cargo plane lost an engine while taking of...  \n",
       "3512                                                  ?  \n",
       "5135  Radar contact was lost with the aircraft 2 hou...  \n",
       "2687  Crashed into a building while landing during p...  \n",
       "5118  After losing power, the helicopter crashed int...  "
      ]
     },
     "execution_count": 330,
     "metadata": {},
     "output_type": "execute_result"
    }
   ],
   "source": [
    "df.sample(5)"
   ]
  },
  {
   "cell_type": "code",
   "execution_count": 421,
   "metadata": {},
   "outputs": [
    {
     "name": "stdout",
     "output_type": "stream",
     "text": [
      "<_sre.SRE_Match object; span=(0, 15), match='August 09, 2013'>\n"
     ]
    }
   ],
   "source": [
    "t_Str = \"August 09, 2013\"\n",
    "pattern = re.compile('^[a-zA-Z]{1,20}\\s\\d{2}\\,\\s\\d{4}$')\n",
    "result = pattern.match(t_Str)\n",
    "print(result)"
   ]
  },
  {
   "cell_type": "code",
   "execution_count": 332,
   "metadata": {},
   "outputs": [
    {
     "name": "stdout",
     "output_type": "stream",
     "text": [
      "<_sre.SRE_Match object; span=(0, 23), match='Mt, Taylor, near Grants'>\n"
     ]
    }
   ],
   "source": [
    "pattern = re.compile('^[a-zA-Z\\, \\.\\-]{1,50}, [a-zA-Z ]{1,50}$')\n",
    "result = pattern.match(\"Mt, Taylor, near Grants\")\n",
    "print(result)"
   ]
  },
  {
   "cell_type": "code",
   "execution_count": 419,
   "metadata": {},
   "outputs": [
    {
     "name": "stdout",
     "output_type": "stream",
     "text": [
      "Mt Taylor near Grants test2 \n",
      "tyriri12\n"
     ]
    }
   ],
   "source": [
    "t10 = \"Mt, Taylor, near Grants, test2,tyriri12\"\n",
    "n = t10.count(\",\")\n",
    "str1 = \"\"\n",
    "for i in range(n):\n",
    "    str1 = str1 + t10.split(\",\")[i].strip()+ \" \"\n",
    "str2 = t10.split(\",\")[n].strip()\n",
    "print(str1)\n",
    "print(str2)"
   ]
  },
  {
   "cell_type": "code",
   "execution_count": 434,
   "metadata": {},
   "outputs": [],
   "source": [
    "#mystr.count(\"!\") == 2:\n",
    "\n",
    "def split_region_country(location):\n",
    "    region = \"\"\n",
    "    country= \"\"\n",
    "    if location.count(\",\") == 0:\n",
    "        region = location\n",
    "        country = \"-\"       \n",
    "    elif location.count(\",\") == 1:\n",
    "        region = location.split(\",\")[0]\n",
    "        country = location.split(\",\")[1]\n",
    "    elif location.count(\",\") >= 2:\n",
    "        n = location.count(\",\")\n",
    "        for i in range(n):\n",
    "            region = region + location.split(\",\")[i].strip()+ \" \"\n",
    "        country = location.split(\",\")[n].strip()\n",
    "\n",
    "    return(region,country)"
   ]
  },
  {
   "cell_type": "code",
   "execution_count": 438,
   "metadata": {},
   "outputs": [
    {
     "ename": "ValueError",
     "evalue": "too many values to unpack (expected 2)",
     "output_type": "error",
     "traceback": [
      "\u001b[1;31m---------------------------------------------------------------------------\u001b[0m",
      "\u001b[1;31mValueError\u001b[0m                                Traceback (most recent call last)",
      "\u001b[1;32m<ipython-input-438-66061fce613d>\u001b[0m in \u001b[0;36m<module>\u001b[1;34m()\u001b[0m\n\u001b[1;32m----> 1\u001b[1;33m \u001b[0mtest15\u001b[0m\u001b[1;33m,\u001b[0m\u001b[0mtest16\u001b[0m \u001b[1;33m=\u001b[0m \u001b[0mdf\u001b[0m\u001b[1;33m[\u001b[0m\u001b[1;34m'location'\u001b[0m\u001b[1;33m]\u001b[0m\u001b[1;33m.\u001b[0m\u001b[0mapply\u001b[0m\u001b[1;33m(\u001b[0m\u001b[0msplit_region_country\u001b[0m\u001b[1;33m)\u001b[0m\u001b[1;33m\u001b[0m\u001b[0m\n\u001b[0m",
      "\u001b[1;31mValueError\u001b[0m: too many values to unpack (expected 2)"
     ]
    }
   ],
   "source": [
    "test15,test16 = df['location'].apply(split_region_country)"
   ]
  },
  {
   "cell_type": "code",
   "execution_count": 437,
   "metadata": {},
   "outputs": [
    {
     "data": {
      "text/plain": [
       "0                               (Fort Myer,  Virginia)\n",
       "1                           (Juvisy-sur-Orge,  France)\n",
       "2                         (Atlantic City,  New Jersey)\n",
       "3                 (Victoria British Columbia , Canada)\n",
       "4                              (Over the North Sea, -)\n",
       "5                        (Near Johannisthal,  Germany)\n",
       "6                                   (Tienen,  Belgium)\n",
       "7                             (Off Cuxhaven,  Germany)\n",
       "8                             (Near Jambol,  Bulgeria)\n",
       "9                               (Billericay,  England)\n",
       "10                             (Potters Bar,  England)\n",
       "11                                   (Mainz,  Germany)\n",
       "12                     (Off West Hartlepool,  England)\n",
       "13                               (Near Gent,  Belgium)\n",
       "14                           (Off Northern Germany, -)\n",
       "15                     (Near Texel Island,  North Sea)\n",
       "16                   (Off Vlieland Island,  North Sea)\n",
       "17                           (Near Yarmouth,  England)\n",
       "18                            (Off western Denmark, -)\n",
       "19                           (Near Luneville,  France)\n",
       "20                         (Over the Mediterranean, -)\n",
       "21                    (Off Helgoland Island,  Germany)\n",
       "22                        (Ameland Island,  North Sea)\n",
       "23                            (Elizabeth,  New Jersey)\n",
       "24                                  (Cleveland,  Ohio)\n",
       "25                            (Dix Run,  Pennsylvania)\n",
       "26                                    (Verona,  Italy)\n",
       "27                               (Newcastle,  England)\n",
       "28                           (Cantonsville,  Maryland)\n",
       "29              (English Channel off Forkstone,  Kent)\n",
       "                             ...                      \n",
       "5212                      (Charleston,  West Virginia)\n",
       "5213                         (Carlstadt  , New Jersey)\n",
       "5214                                 (Tenzing,  Nepal)\n",
       "5215                             (Off Dawei,  Myanmar)\n",
       "5216                 (Mount Gambier,  South Australia)\n",
       "5217                     (Near Itta Bena,  Mississipi)\n",
       "5218                           (Abidjan,  Ivory Coast)\n",
       "5219                             (Empakaai,  Tanzania)\n",
       "5220                 (Near Fond-du-Lac,  Saskatchewan)\n",
       "5221                       (Punta Islita,  Costa Rica)\n",
       "5222    (Zhengchang Suiyang County , Guizhou Province)\n",
       "5223                          (Grand Canyon,  Arizona)\n",
       "5224                               (Argunovo,  Russia)\n",
       "5225                         (Kohangan village,  Iran)\n",
       "5226                                 (Latakia,  Syria)\n",
       "5227                             (New York,  New York)\n",
       "5228                               (Kathmandu,  Nepal)\n",
       "5229                          (Plaridel,  Philippines)\n",
       "5230                           (Boufarik AB,  Algeria)\n",
       "5231               (NW of Philadelphia,  Pennsylvania)\n",
       "5232                        (Port Wentworth,  Georgia)\n",
       "5233                                   (Havana,  Cuba)\n",
       "5234                            (Near Njabini,  Kenya)\n",
       "5235                         (Pretoria,  South Africa)\n",
       "5236                             (Flims,  Switzerland)\n",
       "5237                              (Chuuk,  Micronesia)\n",
       "5238                         (Off Jakarta,  Indonesia)\n",
       "5239                             (Georgetown,  Guyana)\n",
       "5240                      (Near Mandan,  North Dakota)\n",
       "5241                                    (Karaj,  Iran)\n",
       "Name: location, Length: 5242, dtype: object"
      ]
     },
     "execution_count": 437,
     "metadata": {},
     "output_type": "execute_result"
    }
   ],
   "source": [
    "test14"
   ]
  },
  {
   "cell_type": "code",
   "execution_count": 397,
   "metadata": {},
   "outputs": [
    {
     "name": "stdout",
     "output_type": "stream",
     "text": [
      "None\n"
     ]
    }
   ],
   "source": [
    "time_val = \"Syktyvkar ,Russia\"\n",
    "pattern = re.compile(\"^[a-zA-Z0-9\\\\'\\, \\.\\-]{1,50}, [a-zA-Z ]{1,50}$\") \n",
    "result = pattern.match(time_val)\n",
    "print(result)"
   ]
  },
  {
   "cell_type": "code",
   "execution_count": 345,
   "metadata": {},
   "outputs": [],
   "source": [
    "def remove_escape_characters(loc_string):\n",
    "    ignore_list_escape_characters = [\"\\n\",\"\\t\",\"\\r\"]\n",
    "\n",
    "    for char in ignore_list_escape_characters:\n",
    "        loc_string = loc_string.replace(char, '')\n",
    "        \n",
    "    return loc_string"
   ]
  },
  {
   "cell_type": "code",
   "execution_count": null,
   "metadata": {},
   "outputs": [],
   "source": [
    "df['location'] = df['location'].apply(remove_escape_characters)"
   ]
  },
  {
   "cell_type": "code",
   "execution_count": 383,
   "metadata": {},
   "outputs": [],
   "source": [
    "def check_pattern_location(loc_string):\n",
    "    pattern = re.compile(\"^[a-zA-Z0-9\\/\\~\\\\'\\, \\.\\-]{1,50}, [a-zA-Z0-9 ]{1,50}$\")\n",
    "    result = pattern.match(loc_string)\n",
    "    return bool(result)"
   ]
  },
  {
   "cell_type": "code",
   "execution_count": 405,
   "metadata": {},
   "outputs": [
    {
     "data": {
      "text/plain": [
       "5"
      ]
     },
     "execution_count": 405,
     "metadata": {},
     "output_type": "execute_result"
    }
   ],
   "source": [
    "df[df['location'] == \"?\"].shape[0]"
   ]
  },
  {
   "cell_type": "code",
   "execution_count": 384,
   "metadata": {},
   "outputs": [],
   "source": [
    "t5 = df['location'].apply(check_pattern_location)"
   ]
  },
  {
   "cell_type": "code",
   "execution_count": 385,
   "metadata": {},
   "outputs": [],
   "source": [
    "t5_index = t5[t5 == False].index"
   ]
  },
  {
   "cell_type": "code",
   "execution_count": 403,
   "metadata": {},
   "outputs": [
    {
     "data": {
      "text/plain": [
       "683                         China\n",
       "2798                 Havana. Cuba\n",
       "1137    Mt. Bukit, Besar,Thailand\n",
       "590                  Sea of Japan\n",
       "4              Over the North Sea\n",
       "Name: location, dtype: object"
      ]
     },
     "execution_count": 403,
     "metadata": {},
     "output_type": "execute_result"
    }
   ],
   "source": [
    "df.iloc[t5_index]['location'].sample(5)"
   ]
  }
 ],
 "metadata": {
  "kernelspec": {
   "display_name": "Python [default]",
   "language": "python",
   "name": "python3"
  },
  "language_info": {
   "codemirror_mode": {
    "name": "ipython",
    "version": 3
   },
   "file_extension": ".py",
   "mimetype": "text/x-python",
   "name": "python",
   "nbconvert_exporter": "python",
   "pygments_lexer": "ipython3",
   "version": "3.6.5"
  }
 },
 "nbformat": 4,
 "nbformat_minor": 2
}
