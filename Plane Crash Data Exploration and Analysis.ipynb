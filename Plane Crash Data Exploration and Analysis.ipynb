{
 "cells": [
  {
   "cell_type": "markdown",
   "metadata": {},
   "source": [
    "## Plane Crash Data Exploration and Analysis\n",
    "\n",
    "#### Budhajit Roy Chanamthabam"
   ]
  },
  {
   "cell_type": "code",
   "execution_count": 1,
   "metadata": {},
   "outputs": [],
   "source": [
    "# import necessary libraries\n",
    "#https://www.kaggle.com/budhajit/plane-crash-information-dataset\n",
    "\n",
    "# plane crash info database : http://www.planecrashinfo.com/database.htm\n",
    "\n",
    "import pandas as pd\n",
    "import numpy as np\n",
    "import matplotlib.pyplot as plt\n",
    "import seaborn as sns\n",
    "import requests\n",
    "import json\n",
    "from bs4 import BeautifulSoup\n",
    "import warnings\n",
    "import re\n",
    "import datetime\n",
    "warnings.filterwarnings('ignore')"
   ]
  },
  {
   "cell_type": "code",
   "execution_count": 2,
   "metadata": {},
   "outputs": [],
   "source": [
    "def set_data(year, dates):\n",
    "    date = []\n",
    "    time = []\n",
    "    location = []\n",
    "    operator = []\n",
    "    flight_number = []\n",
    "    route = []\n",
    "    aircraft_type = []\n",
    "    registration = []\n",
    "    cn_ln = []\n",
    "    aboard = []\n",
    "    fatalities = []\n",
    "    ground = []\n",
    "    summary = []\n",
    "    final_data = {}\n",
    "\n",
    "    for i in range(len(dates)):\n",
    "        url1 = \"http://www.planecrashinfo.com/\"+str(year)+\"/\"+str(year)+\"-\"+str(i+1)+\".htm\"\n",
    "        #print(url)\n",
    "        r1 = requests.get(url1)\n",
    "        htm_doc = r1.text  \n",
    "\n",
    "        soup1 = BeautifulSoup(htm_doc)\n",
    "        td_tags = soup1.find_all('td')\n",
    "\n",
    "        test = []\n",
    "        for items in td_tags:\n",
    "            test.append(items.text)\n",
    "\n",
    "        # add the data details to their corresponding lists\n",
    "        date.append(test[3])\n",
    "        time.append(test[5])\n",
    "        location.append(test[7])\n",
    "        operator.append(test[9])\n",
    "        flight_number.append(test[11])\n",
    "        route.append(test[13])\n",
    "        aircraft_type.append(test[15])\n",
    "        registration.append(test[17])\n",
    "        cn_ln.append(test[19])\n",
    "        aboard.append(test[21])\n",
    "        fatalities.append(test[23])\n",
    "        ground.append(test[25])\n",
    "        summary.append(test[27])\n",
    "        \n",
    "    final_data['date'] = date\n",
    "    final_data['time'] = time\n",
    "    final_data['location'] = location\n",
    "    final_data['operator'] = operator\n",
    "    final_data['flight_number'] = flight_number\n",
    "    final_data['route'] = route\n",
    "    final_data['aircraft_type'] = aircraft_type\n",
    "    final_data['registration'] = registration\n",
    "    final_data['cn_ln'] = cn_ln\n",
    "    final_data['aboard'] = aboard\n",
    "    final_data['fatalities'] = fatalities\n",
    "    final_data['ground'] = ground\n",
    "    final_data['summary'] = summary\n",
    "    \n",
    "    return final_data"
   ]
  },
  {
   "cell_type": "code",
   "execution_count": 4,
   "metadata": {},
   "outputs": [],
   "source": [
    "# setting up the data for each year and creating the dataframe\n",
    "\n",
    "for year in range(1920,2020):    \n",
    "    url = \"http://www.planecrashinfo.com/\"+str(year)+\"/\"+str(year)+\".htm\"\n",
    "    r = requests.get(url)\n",
    "    html_doc = r.text\n",
    "    soup = BeautifulSoup(html_doc)\n",
    "    a_tags = soup.find_all('a')\n",
    "    dates = []\n",
    "    for link in a_tags:\n",
    "        #print(link.text) # this returns the text\n",
    "        dates.append(link.text)\n",
    "        #print(link.get('href')) # this returns the link\n",
    "    dates = dates[:-1]\n",
    "    year_df = set_data(year,dates)\n",
    "    if year!= 1920:\n",
    "        temp_df = pd.DataFrame(year_df)\n",
    "        final_df = pd.concat([final_df,temp_df])\n",
    "    else:\n",
    "        final_df = pd.DataFrame(year_df)\n",
    "    "
   ]
  },
  {
   "cell_type": "code",
   "execution_count": 5,
   "metadata": {},
   "outputs": [
    {
     "data": {
      "text/plain": [
       "(5242, 13)"
      ]
     },
     "execution_count": 5,
     "metadata": {},
     "output_type": "execute_result"
    }
   ],
   "source": [
    "final_df.shape"
   ]
  },
  {
   "cell_type": "code",
   "execution_count": 7,
   "metadata": {},
   "outputs": [
    {
     "name": "stdout",
     "output_type": "stream",
     "text": [
      "<class 'pandas.core.frame.DataFrame'>\n",
      "Int64Index: 5242 entries, 0 to 0\n",
      "Data columns (total 13 columns):\n",
      "date             5242 non-null object\n",
      "time             5242 non-null object\n",
      "location         5242 non-null object\n",
      "operator         5242 non-null object\n",
      "flight_number    5242 non-null object\n",
      "route            5242 non-null object\n",
      "aircraft_type    5242 non-null object\n",
      "registration     5242 non-null object\n",
      "cn_ln            5242 non-null object\n",
      "aboard           5242 non-null object\n",
      "fatalities       5242 non-null object\n",
      "ground           5242 non-null object\n",
      "summary          5242 non-null object\n",
      "dtypes: object(13)\n",
      "memory usage: 573.3+ KB\n"
     ]
    }
   ],
   "source": [
    "final_df.info()"
   ]
  },
  {
   "cell_type": "code",
   "execution_count": 8,
   "metadata": {},
   "outputs": [
    {
     "data": {
      "text/html": [
       "<div>\n",
       "<style scoped>\n",
       "    .dataframe tbody tr th:only-of-type {\n",
       "        vertical-align: middle;\n",
       "    }\n",
       "\n",
       "    .dataframe tbody tr th {\n",
       "        vertical-align: top;\n",
       "    }\n",
       "\n",
       "    .dataframe thead th {\n",
       "        text-align: right;\n",
       "    }\n",
       "</style>\n",
       "<table border=\"1\" class=\"dataframe\">\n",
       "  <thead>\n",
       "    <tr style=\"text-align: right;\">\n",
       "      <th></th>\n",
       "      <th>date</th>\n",
       "      <th>time</th>\n",
       "      <th>location</th>\n",
       "      <th>operator</th>\n",
       "      <th>flight_number</th>\n",
       "      <th>route</th>\n",
       "      <th>aircraft_type</th>\n",
       "      <th>registration</th>\n",
       "      <th>cn_ln</th>\n",
       "      <th>aboard</th>\n",
       "      <th>fatalities</th>\n",
       "      <th>ground</th>\n",
       "      <th>summary</th>\n",
       "    </tr>\n",
       "  </thead>\n",
       "  <tbody>\n",
       "    <tr>\n",
       "      <th>0</th>\n",
       "      <td>September 17, 1908</td>\n",
       "      <td>17:18</td>\n",
       "      <td>Fort Myer, Virginia</td>\n",
       "      <td>Military - U.S. Army</td>\n",
       "      <td>?</td>\n",
       "      <td>Demonstration</td>\n",
       "      <td>Wright Flyer III</td>\n",
       "      <td>?</td>\n",
       "      <td>1</td>\n",
       "      <td>2   (passengers:1  crew:1)</td>\n",
       "      <td>1   (passengers:1  crew:0)</td>\n",
       "      <td>0</td>\n",
       "      <td>During a demonstration flight, a U.S. Army fly...</td>\n",
       "    </tr>\n",
       "    <tr>\n",
       "      <th>1</th>\n",
       "      <td>September 07, 1909</td>\n",
       "      <td>?</td>\n",
       "      <td>Juvisy-sur-Orge, France</td>\n",
       "      <td>?</td>\n",
       "      <td>?</td>\n",
       "      <td>Air show</td>\n",
       "      <td>Wright Byplane</td>\n",
       "      <td>SC1</td>\n",
       "      <td>?</td>\n",
       "      <td>1   (passengers:0  crew:1)</td>\n",
       "      <td>1   (passengers:0  crew:0)</td>\n",
       "      <td>0</td>\n",
       "      <td>Eugene Lefebvre was the first pilot to ever be...</td>\n",
       "    </tr>\n",
       "    <tr>\n",
       "      <th>2</th>\n",
       "      <td>July 12, 1912</td>\n",
       "      <td>06:30</td>\n",
       "      <td>Atlantic City, New Jersey</td>\n",
       "      <td>Military - U.S. Navy</td>\n",
       "      <td>?</td>\n",
       "      <td>Test flight</td>\n",
       "      <td>Dirigible</td>\n",
       "      <td>?</td>\n",
       "      <td>?</td>\n",
       "      <td>5   (passengers:0  crew:5)</td>\n",
       "      <td>5   (passengers:0  crew:5)</td>\n",
       "      <td>0</td>\n",
       "      <td>First U.S. dirigible Akron exploded just offsh...</td>\n",
       "    </tr>\n",
       "    <tr>\n",
       "      <th>3</th>\n",
       "      <td>August 06, 1913</td>\n",
       "      <td>?</td>\n",
       "      <td>Victoria, British Columbia, Canada</td>\n",
       "      <td>Private</td>\n",
       "      <td>?</td>\n",
       "      <td>?</td>\n",
       "      <td>Curtiss seaplane</td>\n",
       "      <td>?</td>\n",
       "      <td>?</td>\n",
       "      <td>1   (passengers:0  crew:1)</td>\n",
       "      <td>1   (passengers:0  crew:1)</td>\n",
       "      <td>0</td>\n",
       "      <td>The first fatal airplane accident in Canada oc...</td>\n",
       "    </tr>\n",
       "    <tr>\n",
       "      <th>4</th>\n",
       "      <td>September 09, 1913</td>\n",
       "      <td>c 18:30</td>\n",
       "      <td>Over the North Sea</td>\n",
       "      <td>Military - German Navy</td>\n",
       "      <td>?</td>\n",
       "      <td>?</td>\n",
       "      <td>Zeppelin L-1 (airship)</td>\n",
       "      <td>?</td>\n",
       "      <td>?</td>\n",
       "      <td>20   (passengers:?  crew:?)</td>\n",
       "      <td>14   (passengers:?  crew:?)</td>\n",
       "      <td>0</td>\n",
       "      <td>The airship flew into a thunderstorm and encou...</td>\n",
       "    </tr>\n",
       "  </tbody>\n",
       "</table>\n",
       "</div>"
      ],
      "text/plain": [
       "                 date     time                            location  \\\n",
       "0  September 17, 1908    17:18                 Fort Myer, Virginia   \n",
       "1  September 07, 1909        ?             Juvisy-sur-Orge, France   \n",
       "2       July 12, 1912    06:30           Atlantic City, New Jersey   \n",
       "3     August 06, 1913        ?  Victoria, British Columbia, Canada   \n",
       "4  September 09, 1913  c 18:30                  Over the North Sea   \n",
       "\n",
       "                 operator flight_number          route  \\\n",
       "0    Military - U.S. Army             ?  Demonstration   \n",
       "1                       ?             ?       Air show   \n",
       "2    Military - U.S. Navy             ?    Test flight   \n",
       "3                 Private             ?              ?   \n",
       "4  Military - German Navy             ?              ?   \n",
       "\n",
       "            aircraft_type registration cn_ln                       aboard  \\\n",
       "0        Wright Flyer III            ?     1   2   (passengers:1  crew:1)   \n",
       "1          Wright Byplane          SC1     ?   1   (passengers:0  crew:1)   \n",
       "2               Dirigible            ?     ?   5   (passengers:0  crew:5)   \n",
       "3        Curtiss seaplane            ?     ?   1   (passengers:0  crew:1)   \n",
       "4  Zeppelin L-1 (airship)            ?     ?  20   (passengers:?  crew:?)   \n",
       "\n",
       "                    fatalities ground  \\\n",
       "0   1   (passengers:1  crew:0)      0   \n",
       "1   1   (passengers:0  crew:0)      0   \n",
       "2   5   (passengers:0  crew:5)      0   \n",
       "3   1   (passengers:0  crew:1)      0   \n",
       "4  14   (passengers:?  crew:?)      0   \n",
       "\n",
       "                                             summary  \n",
       "0  During a demonstration flight, a U.S. Army fly...  \n",
       "1  Eugene Lefebvre was the first pilot to ever be...  \n",
       "2  First U.S. dirigible Akron exploded just offsh...  \n",
       "3  The first fatal airplane accident in Canada oc...  \n",
       "4  The airship flew into a thunderstorm and encou...  "
      ]
     },
     "execution_count": 8,
     "metadata": {},
     "output_type": "execute_result"
    }
   ],
   "source": [
    "final_df.head()"
   ]
  },
  {
   "cell_type": "code",
   "execution_count": 9,
   "metadata": {},
   "outputs": [
    {
     "data": {
      "text/html": [
       "<div>\n",
       "<style scoped>\n",
       "    .dataframe tbody tr th:only-of-type {\n",
       "        vertical-align: middle;\n",
       "    }\n",
       "\n",
       "    .dataframe tbody tr th {\n",
       "        vertical-align: top;\n",
       "    }\n",
       "\n",
       "    .dataframe thead th {\n",
       "        text-align: right;\n",
       "    }\n",
       "</style>\n",
       "<table border=\"1\" class=\"dataframe\">\n",
       "  <thead>\n",
       "    <tr style=\"text-align: right;\">\n",
       "      <th></th>\n",
       "      <th>date</th>\n",
       "      <th>time</th>\n",
       "      <th>location</th>\n",
       "      <th>operator</th>\n",
       "      <th>flight_number</th>\n",
       "      <th>route</th>\n",
       "      <th>aircraft_type</th>\n",
       "      <th>registration</th>\n",
       "      <th>cn_ln</th>\n",
       "      <th>aboard</th>\n",
       "      <th>fatalities</th>\n",
       "      <th>ground</th>\n",
       "      <th>summary</th>\n",
       "    </tr>\n",
       "  </thead>\n",
       "  <tbody>\n",
       "    <tr>\n",
       "      <th>15</th>\n",
       "      <td>September 28, 2018</td>\n",
       "      <td>1010</td>\n",
       "      <td>Chuuk, Micronesia</td>\n",
       "      <td>Air Niugini</td>\n",
       "      <td>?</td>\n",
       "      <td>Pohnpei - Chuuk</td>\n",
       "      <td>Boeing 737-8BK</td>\n",
       "      <td>P2-PXE</td>\n",
       "      <td>33024/1688</td>\n",
       "      <td>47   (passengers:35  crew:12)</td>\n",
       "      <td>1   (passengers:1  crew:0)</td>\n",
       "      <td>0</td>\n",
       "      <td>The aircraft was approaching for a landing at ...</td>\n",
       "    </tr>\n",
       "    <tr>\n",
       "      <th>16</th>\n",
       "      <td>October 29, 2018</td>\n",
       "      <td>0631</td>\n",
       "      <td>Off Jakarta, Indonesia</td>\n",
       "      <td>Lion Air</td>\n",
       "      <td>610</td>\n",
       "      <td>Jakarta - Pangkal Pinang</td>\n",
       "      <td>Boeing 737-MAX 8</td>\n",
       "      <td>PK-LQP</td>\n",
       "      <td>43000/7058</td>\n",
       "      <td>189   (passengers:181  crew:8)</td>\n",
       "      <td>189   (passengers:181  crew:8)</td>\n",
       "      <td>0</td>\n",
       "      <td>The airliner crashed into the Jakarta Sea, 13 ...</td>\n",
       "    </tr>\n",
       "    <tr>\n",
       "      <th>17</th>\n",
       "      <td>November 06, 2018</td>\n",
       "      <td>0253</td>\n",
       "      <td>Georgetown, Guyana</td>\n",
       "      <td>Fly Jamaica Airways</td>\n",
       "      <td>?</td>\n",
       "      <td>Georgetown - Toronto</td>\n",
       "      <td>Boeing 757-N23</td>\n",
       "      <td>N524AT</td>\n",
       "      <td>30233/895</td>\n",
       "      <td>128   (passengers:120  crew:8)</td>\n",
       "      <td>1   (passengers:1  crew:0)</td>\n",
       "      <td>0</td>\n",
       "      <td>After taking off and reaching FL200, the crew ...</td>\n",
       "    </tr>\n",
       "    <tr>\n",
       "      <th>18</th>\n",
       "      <td>November 18, 2018</td>\n",
       "      <td>2300</td>\n",
       "      <td>Near Mandan, North Dakota</td>\n",
       "      <td>Metro Area Ambulance Services</td>\n",
       "      <td>?</td>\n",
       "      <td>Bismark - Sloulin Field</td>\n",
       "      <td>Cessna 441 Conquest II</td>\n",
       "      <td>N441CX</td>\n",
       "      <td>441-0305</td>\n",
       "      <td>3   (passengers:2  crew:1)</td>\n",
       "      <td>3   (passengers:2  crew:1)</td>\n",
       "      <td>0</td>\n",
       "      <td>The air ambulance en route to pick up a patien...</td>\n",
       "    </tr>\n",
       "    <tr>\n",
       "      <th>0</th>\n",
       "      <td>January 14, 2019</td>\n",
       "      <td>0830</td>\n",
       "      <td>Karaj, Iran</td>\n",
       "      <td>Saha Air</td>\n",
       "      <td>?</td>\n",
       "      <td>Bishkek - Payam</td>\n",
       "      <td>Boeing 707-3J9C</td>\n",
       "      <td>EP-CPP</td>\n",
       "      <td>21128/917</td>\n",
       "      <td>16   (passengers:13  crew:3)</td>\n",
       "      <td>15   (passengers:13  crew:2)</td>\n",
       "      <td>0</td>\n",
       "      <td>The cargo plane was operated by the Iranian Ai...</td>\n",
       "    </tr>\n",
       "  </tbody>\n",
       "</table>\n",
       "</div>"
      ],
      "text/plain": [
       "                  date  time                   location  \\\n",
       "15  September 28, 2018  1010          Chuuk, Micronesia   \n",
       "16    October 29, 2018  0631     Off Jakarta, Indonesia   \n",
       "17   November 06, 2018  0253         Georgetown, Guyana   \n",
       "18   November 18, 2018  2300  Near Mandan, North Dakota   \n",
       "0     January 14, 2019  0830                Karaj, Iran   \n",
       "\n",
       "                         operator flight_number                     route  \\\n",
       "15                    Air Niugini             ?           Pohnpei - Chuuk   \n",
       "16                       Lion Air           610  Jakarta - Pangkal Pinang   \n",
       "17            Fly Jamaica Airways             ?      Georgetown - Toronto   \n",
       "18  Metro Area Ambulance Services             ?   Bismark - Sloulin Field   \n",
       "0                        Saha Air             ?           Bishkek - Payam   \n",
       "\n",
       "             aircraft_type registration       cn_ln  \\\n",
       "15          Boeing 737-8BK       P2-PXE  33024/1688   \n",
       "16        Boeing 737-MAX 8       PK-LQP  43000/7058   \n",
       "17          Boeing 757-N23      N524AT    30233/895   \n",
       "18  Cessna 441 Conquest II      N441CX     441-0305   \n",
       "0          Boeing 707-3J9C       EP-CPP   21128/917   \n",
       "\n",
       "                            aboard                      fatalities ground  \\\n",
       "15   47   (passengers:35  crew:12)      1   (passengers:1  crew:0)      0   \n",
       "16  189   (passengers:181  crew:8)  189   (passengers:181  crew:8)      0   \n",
       "17  128   (passengers:120  crew:8)      1   (passengers:1  crew:0)      0   \n",
       "18      3   (passengers:2  crew:1)      3   (passengers:2  crew:1)      0   \n",
       "0     16   (passengers:13  crew:3)    15   (passengers:13  crew:2)      0   \n",
       "\n",
       "                                              summary  \n",
       "15  The aircraft was approaching for a landing at ...  \n",
       "16  The airliner crashed into the Jakarta Sea, 13 ...  \n",
       "17  After taking off and reaching FL200, the crew ...  \n",
       "18  The air ambulance en route to pick up a patien...  \n",
       "0   The cargo plane was operated by the Iranian Ai...  "
      ]
     },
     "execution_count": 9,
     "metadata": {},
     "output_type": "execute_result"
    }
   ],
   "source": [
    "final_df.tail()"
   ]
  },
  {
   "cell_type": "code",
   "execution_count": 11,
   "metadata": {},
   "outputs": [],
   "source": [
    "final_df = final_df.reset_index(drop=True)\n",
    "final_df.to_csv(\"plane_crash_data.csv\", index = False)"
   ]
  },
  {
   "cell_type": "code",
   "execution_count": 12,
   "metadata": {},
   "outputs": [
    {
     "data": {
      "text/plain": [
       "Index(['date', 'time', 'location', 'operator', 'flight_number', 'route',\n",
       "       'aircraft_type', 'registration', 'cn_ln', 'aboard', 'fatalities',\n",
       "       'ground', 'summary'],\n",
       "      dtype='object')"
      ]
     },
     "execution_count": 12,
     "metadata": {},
     "output_type": "execute_result"
    }
   ],
   "source": [
    "final_df.columns"
   ]
  },
  {
   "cell_type": "markdown",
   "metadata": {},
   "source": [
    "## Read data from CSV"
   ]
  },
  {
   "cell_type": "code",
   "execution_count": 2,
   "metadata": {},
   "outputs": [
    {
     "name": "stdout",
     "output_type": "stream",
     "text": [
      "<class 'pandas.core.frame.DataFrame'>\n",
      "RangeIndex: 5242 entries, 0 to 5241\n",
      "Data columns (total 13 columns):\n",
      "date             5242 non-null object\n",
      "time             5242 non-null object\n",
      "location         5242 non-null object\n",
      "operator         5242 non-null object\n",
      "flight_number    5242 non-null object\n",
      "route            5242 non-null object\n",
      "aircraft_type    5242 non-null object\n",
      "registration     5242 non-null object\n",
      "cn_ln            5242 non-null object\n",
      "aboard           5242 non-null object\n",
      "fatalities       5242 non-null object\n",
      "ground           5242 non-null object\n",
      "summary          5242 non-null object\n",
      "dtypes: object(13)\n",
      "memory usage: 532.5+ KB\n"
     ]
    }
   ],
   "source": [
    "df = pd.read_csv(\"plane_crash_data.csv\")\n",
    "df.info()"
   ]
  },
  {
   "cell_type": "code",
   "execution_count": 3,
   "metadata": {},
   "outputs": [
    {
     "data": {
      "text/html": [
       "<div>\n",
       "<style scoped>\n",
       "    .dataframe tbody tr th:only-of-type {\n",
       "        vertical-align: middle;\n",
       "    }\n",
       "\n",
       "    .dataframe tbody tr th {\n",
       "        vertical-align: top;\n",
       "    }\n",
       "\n",
       "    .dataframe thead th {\n",
       "        text-align: right;\n",
       "    }\n",
       "</style>\n",
       "<table border=\"1\" class=\"dataframe\">\n",
       "  <thead>\n",
       "    <tr style=\"text-align: right;\">\n",
       "      <th></th>\n",
       "      <th>date</th>\n",
       "      <th>time</th>\n",
       "      <th>location</th>\n",
       "      <th>operator</th>\n",
       "      <th>flight_number</th>\n",
       "      <th>route</th>\n",
       "      <th>aircraft_type</th>\n",
       "      <th>registration</th>\n",
       "      <th>cn_ln</th>\n",
       "      <th>aboard</th>\n",
       "      <th>fatalities</th>\n",
       "      <th>ground</th>\n",
       "      <th>summary</th>\n",
       "    </tr>\n",
       "  </thead>\n",
       "  <tbody>\n",
       "    <tr>\n",
       "      <th>count</th>\n",
       "      <td>5242</td>\n",
       "      <td>5242</td>\n",
       "      <td>5242</td>\n",
       "      <td>5242</td>\n",
       "      <td>5242</td>\n",
       "      <td>5242</td>\n",
       "      <td>5242</td>\n",
       "      <td>5242</td>\n",
       "      <td>5242</td>\n",
       "      <td>5242</td>\n",
       "      <td>5242</td>\n",
       "      <td>5242</td>\n",
       "      <td>5242</td>\n",
       "    </tr>\n",
       "    <tr>\n",
       "      <th>unique</th>\n",
       "      <td>4742</td>\n",
       "      <td>1287</td>\n",
       "      <td>4327</td>\n",
       "      <td>2633</td>\n",
       "      <td>808</td>\n",
       "      <td>3529</td>\n",
       "      <td>2557</td>\n",
       "      <td>4888</td>\n",
       "      <td>3781</td>\n",
       "      <td>982</td>\n",
       "      <td>871</td>\n",
       "      <td>52</td>\n",
       "      <td>4876</td>\n",
       "    </tr>\n",
       "    <tr>\n",
       "      <th>top</th>\n",
       "      <td>February 28, 1973</td>\n",
       "      <td>?</td>\n",
       "      <td>Moscow, Russia</td>\n",
       "      <td>Aeroflot</td>\n",
       "      <td>?</td>\n",
       "      <td>?</td>\n",
       "      <td>Douglas DC-3</td>\n",
       "      <td>?</td>\n",
       "      <td>?</td>\n",
       "      <td>2   (passengers:0  crew:2)</td>\n",
       "      <td>1   (passengers:0  crew:1)</td>\n",
       "      <td>0</td>\n",
       "      <td>?</td>\n",
       "    </tr>\n",
       "    <tr>\n",
       "      <th>freq</th>\n",
       "      <td>4</td>\n",
       "      <td>1917</td>\n",
       "      <td>16</td>\n",
       "      <td>217</td>\n",
       "      <td>4043</td>\n",
       "      <td>1338</td>\n",
       "      <td>310</td>\n",
       "      <td>321</td>\n",
       "      <td>1092</td>\n",
       "      <td>224</td>\n",
       "      <td>272</td>\n",
       "      <td>4964</td>\n",
       "      <td>210</td>\n",
       "    </tr>\n",
       "  </tbody>\n",
       "</table>\n",
       "</div>"
      ],
      "text/plain": [
       "                     date  time        location  operator flight_number route  \\\n",
       "count                5242  5242            5242      5242          5242  5242   \n",
       "unique               4742  1287            4327      2633           808  3529   \n",
       "top     February 28, 1973     ?  Moscow, Russia  Aeroflot             ?     ?   \n",
       "freq                    4  1917              16       217          4043  1338   \n",
       "\n",
       "       aircraft_type registration cn_ln                      aboard  \\\n",
       "count           5242         5242  5242                        5242   \n",
       "unique          2557         4888  3781                         982   \n",
       "top     Douglas DC-3            ?     ?  2   (passengers:0  crew:2)   \n",
       "freq             310          321  1092                         224   \n",
       "\n",
       "                        fatalities ground summary  \n",
       "count                         5242   5242    5242  \n",
       "unique                         871     52    4876  \n",
       "top     1   (passengers:0  crew:1)      0       ?  \n",
       "freq                           272   4964     210  "
      ]
     },
     "execution_count": 3,
     "metadata": {},
     "output_type": "execute_result"
    }
   ],
   "source": [
    "df.describe()"
   ]
  },
  {
   "cell_type": "code",
   "execution_count": 4,
   "metadata": {},
   "outputs": [
    {
     "data": {
      "text/html": [
       "<div>\n",
       "<style scoped>\n",
       "    .dataframe tbody tr th:only-of-type {\n",
       "        vertical-align: middle;\n",
       "    }\n",
       "\n",
       "    .dataframe tbody tr th {\n",
       "        vertical-align: top;\n",
       "    }\n",
       "\n",
       "    .dataframe thead th {\n",
       "        text-align: right;\n",
       "    }\n",
       "</style>\n",
       "<table border=\"1\" class=\"dataframe\">\n",
       "  <thead>\n",
       "    <tr style=\"text-align: right;\">\n",
       "      <th></th>\n",
       "      <th>date</th>\n",
       "      <th>time</th>\n",
       "      <th>location</th>\n",
       "      <th>operator</th>\n",
       "      <th>flight_number</th>\n",
       "      <th>route</th>\n",
       "      <th>aircraft_type</th>\n",
       "      <th>registration</th>\n",
       "      <th>cn_ln</th>\n",
       "      <th>aboard</th>\n",
       "      <th>fatalities</th>\n",
       "      <th>ground</th>\n",
       "      <th>summary</th>\n",
       "    </tr>\n",
       "  </thead>\n",
       "  <tbody>\n",
       "    <tr>\n",
       "      <th>5237</th>\n",
       "      <td>September 28, 2018</td>\n",
       "      <td>1010</td>\n",
       "      <td>Chuuk, Micronesia</td>\n",
       "      <td>Air Niugini</td>\n",
       "      <td>?</td>\n",
       "      <td>Pohnpei - Chuuk</td>\n",
       "      <td>Boeing 737-8BK</td>\n",
       "      <td>P2-PXE</td>\n",
       "      <td>33024/1688</td>\n",
       "      <td>47   (passengers:35  crew:12)</td>\n",
       "      <td>1   (passengers:1  crew:0)</td>\n",
       "      <td>0</td>\n",
       "      <td>The aircraft was approaching for a landing at ...</td>\n",
       "    </tr>\n",
       "    <tr>\n",
       "      <th>5238</th>\n",
       "      <td>October 29, 2018</td>\n",
       "      <td>0631</td>\n",
       "      <td>Off Jakarta, Indonesia</td>\n",
       "      <td>Lion Air</td>\n",
       "      <td>610</td>\n",
       "      <td>Jakarta - Pangkal Pinang</td>\n",
       "      <td>Boeing 737-MAX 8</td>\n",
       "      <td>PK-LQP</td>\n",
       "      <td>43000/7058</td>\n",
       "      <td>189   (passengers:181  crew:8)</td>\n",
       "      <td>189   (passengers:181  crew:8)</td>\n",
       "      <td>0</td>\n",
       "      <td>The airliner crashed into the Jakarta Sea, 13 ...</td>\n",
       "    </tr>\n",
       "    <tr>\n",
       "      <th>5239</th>\n",
       "      <td>November 06, 2018</td>\n",
       "      <td>0253</td>\n",
       "      <td>Georgetown, Guyana</td>\n",
       "      <td>Fly Jamaica Airways</td>\n",
       "      <td>?</td>\n",
       "      <td>Georgetown - Toronto</td>\n",
       "      <td>Boeing 757-N23</td>\n",
       "      <td>N524AT</td>\n",
       "      <td>30233/895</td>\n",
       "      <td>128   (passengers:120  crew:8)</td>\n",
       "      <td>1   (passengers:1  crew:0)</td>\n",
       "      <td>0</td>\n",
       "      <td>After taking off and reaching FL200, the crew ...</td>\n",
       "    </tr>\n",
       "    <tr>\n",
       "      <th>5240</th>\n",
       "      <td>November 18, 2018</td>\n",
       "      <td>2300</td>\n",
       "      <td>Near Mandan, North Dakota</td>\n",
       "      <td>Metro Area Ambulance Services</td>\n",
       "      <td>?</td>\n",
       "      <td>Bismark - Sloulin Field</td>\n",
       "      <td>Cessna 441 Conquest II</td>\n",
       "      <td>N441CX</td>\n",
       "      <td>441-0305</td>\n",
       "      <td>3   (passengers:2  crew:1)</td>\n",
       "      <td>3   (passengers:2  crew:1)</td>\n",
       "      <td>0</td>\n",
       "      <td>The air ambulance en route to pick up a patien...</td>\n",
       "    </tr>\n",
       "    <tr>\n",
       "      <th>5241</th>\n",
       "      <td>January 14, 2019</td>\n",
       "      <td>0830</td>\n",
       "      <td>Karaj, Iran</td>\n",
       "      <td>Saha Air</td>\n",
       "      <td>?</td>\n",
       "      <td>Bishkek - Payam</td>\n",
       "      <td>Boeing 707-3J9C</td>\n",
       "      <td>EP-CPP</td>\n",
       "      <td>21128/917</td>\n",
       "      <td>16   (passengers:13  crew:3)</td>\n",
       "      <td>15   (passengers:13  crew:2)</td>\n",
       "      <td>0</td>\n",
       "      <td>The cargo plane was operated by the Iranian Ai...</td>\n",
       "    </tr>\n",
       "  </tbody>\n",
       "</table>\n",
       "</div>"
      ],
      "text/plain": [
       "                    date  time                   location  \\\n",
       "5237  September 28, 2018  1010          Chuuk, Micronesia   \n",
       "5238    October 29, 2018  0631     Off Jakarta, Indonesia   \n",
       "5239   November 06, 2018  0253         Georgetown, Guyana   \n",
       "5240   November 18, 2018  2300  Near Mandan, North Dakota   \n",
       "5241    January 14, 2019  0830                Karaj, Iran   \n",
       "\n",
       "                           operator flight_number                     route  \\\n",
       "5237                    Air Niugini             ?           Pohnpei - Chuuk   \n",
       "5238                       Lion Air           610  Jakarta - Pangkal Pinang   \n",
       "5239            Fly Jamaica Airways             ?      Georgetown - Toronto   \n",
       "5240  Metro Area Ambulance Services             ?   Bismark - Sloulin Field   \n",
       "5241                       Saha Air             ?           Bishkek - Payam   \n",
       "\n",
       "               aircraft_type registration       cn_ln  \\\n",
       "5237          Boeing 737-8BK       P2-PXE  33024/1688   \n",
       "5238        Boeing 737-MAX 8       PK-LQP  43000/7058   \n",
       "5239          Boeing 757-N23      N524AT    30233/895   \n",
       "5240  Cessna 441 Conquest II      N441CX     441-0305   \n",
       "5241         Boeing 707-3J9C       EP-CPP   21128/917   \n",
       "\n",
       "                              aboard                      fatalities ground  \\\n",
       "5237   47   (passengers:35  crew:12)      1   (passengers:1  crew:0)      0   \n",
       "5238  189   (passengers:181  crew:8)  189   (passengers:181  crew:8)      0   \n",
       "5239  128   (passengers:120  crew:8)      1   (passengers:1  crew:0)      0   \n",
       "5240      3   (passengers:2  crew:1)      3   (passengers:2  crew:1)      0   \n",
       "5241    16   (passengers:13  crew:3)    15   (passengers:13  crew:2)      0   \n",
       "\n",
       "                                                summary  \n",
       "5237  The aircraft was approaching for a landing at ...  \n",
       "5238  The airliner crashed into the Jakarta Sea, 13 ...  \n",
       "5239  After taking off and reaching FL200, the crew ...  \n",
       "5240  The air ambulance en route to pick up a patien...  \n",
       "5241  The cargo plane was operated by the Iranian Ai...  "
      ]
     },
     "execution_count": 4,
     "metadata": {},
     "output_type": "execute_result"
    }
   ],
   "source": [
    "df.tail()"
   ]
  },
  {
   "cell_type": "markdown",
   "metadata": {},
   "source": [
    "### Cleaning required.\n",
    "- all columns contains some extra escape characters in some of the observations\n",
    "- missing data is recorded as \"?\" in all data columns\n",
    "- convert date in to date format\n",
    "- related to time data:\n",
    "    - time data also contains the character 'c' in 322 observations.\n",
    "    - time data has missing semi-colons.\n",
    "    - many other unwanted characters.\n",
    "- location can be split into region and country columns.\n",
    "- Operator can again be split into private, passenger service and military. (will have to find the operations first ).\n",
    "- route: can be split into : source and destination locations\n",
    "- aboard can be further split into : total_aboard, passenger, crew\n",
    "- fatalities can be again further split into passenger and crew."
   ]
  },
  {
   "cell_type": "markdown",
   "metadata": {},
   "source": [
    "### Convert data into Date Format"
   ]
  },
  {
   "cell_type": "code",
   "execution_count": 10,
   "metadata": {},
   "outputs": [],
   "source": [
    "#using different functions\n",
    "def get_month(month_string):\n",
    "    month_string = month_string.lower()\n",
    "    return {\n",
    "        'january': \"1',\n",
    "        'february': '2',\n",
    "        'march':'3',\n",
    "        'april':'4',\n",
    "        'may':'5',\n",
    "        'june':'6',\n",
    "        'july':'7',\n",
    "        'august':'8',\n",
    "        'september':'9',\n",
    "        'october':'10',\n",
    "        'november':'11',\n",
    "        'december':'12'\n",
    "    }[month_string]"
   ]
  },
  {
   "cell_type": "code",
   "execution_count": 25,
   "metadata": {},
   "outputs": [],
   "source": [
    "def convert_date(date_string):\n",
    "    month_val = date_string.split(\" \")[0]\n",
    "    month_str = get_month(month_val)\n",
    "    \n",
    "    date_val = date_string.split(\" \")[1].split(\",\")[0]\n",
    "    year_val = date_string.split(\" \")[2]\n",
    "    \n",
    "    final_date = str(month_str)+\"-\"+str(date_val)+\"-\"+str(year_val)\n",
    "    \n",
    "    return final_date\n"
   ]
  },
  {
   "cell_type": "code",
   "execution_count": 31,
   "metadata": {},
   "outputs": [],
   "source": [
    "test_df['date_new'] = test_df['date'].apply(convert_date)"
   ]
  },
  {
   "cell_type": "code",
   "execution_count": 43,
   "metadata": {},
   "outputs": [
    {
     "name": "stdout",
     "output_type": "stream",
     "text": [
      "0   2017-01-03\n",
      "1   2016-02-04\n",
      "2   2017-03-02\n",
      "3   2015-04-03\n",
      "4   2016-04-03\n",
      "Name: date_col, dtype: datetime64[ns]\n"
     ]
    }
   ],
   "source": [
    "#https://discuss.analyticsvidhya.com/t/how-to-convert-string-to-date-in-pandas-dataframe-using-python/17674\n",
    "s=pd.Series([\"Jan.3,2017\", \"feb.4,2016\", \"mar.2,2017\", \"apr.3,2015\" , \"apr.3,2016\"])\n",
    "sf=pd.DataFrame(s, columns =[\"date_col\"])\n",
    "print (pd.to_datetime(sf.date_col, format=\"%b.%d,%Y\"))"
   ]
  },
  {
   "cell_type": "code",
   "execution_count": 48,
   "metadata": {},
   "outputs": [
    {
     "name": "stdout",
     "output_type": "stream",
     "text": [
      "0      1908-09-17\n",
      "1      1909-09-07\n",
      "2      1912-07-12\n",
      "3      1913-08-06\n",
      "4      1913-09-09\n",
      "5      1913-10-17\n",
      "6      1915-03-05\n",
      "7      1915-09-03\n",
      "8      1916-07-28\n",
      "9      1916-09-24\n",
      "10     1916-10-01\n",
      "11     1916-11-21\n",
      "12     1916-11-28\n",
      "13     1917-03-04\n",
      "14     1917-03-30\n",
      "15     1917-05-14\n",
      "16     1917-06-14\n",
      "17     1917-06-17\n",
      "18     1917-08-21\n",
      "19     1917-10-20\n",
      "20     1918-04-07\n",
      "21     1918-05-10\n",
      "22     1918-08-11\n",
      "23     1918-12-16\n",
      "24     1919-05-25\n",
      "25     1919-07-19\n",
      "26     1919-08-02\n",
      "27     1919-10-02\n",
      "28     1919-10-14\n",
      "29     1919-10-20\n",
      "          ...    \n",
      "5212   2017-05-05\n",
      "5213   2017-05-15\n",
      "5214   2017-05-27\n",
      "5215   2017-06-07\n",
      "5216   2017-06-28\n",
      "5217   2017-07-10\n",
      "5218   2017-10-14\n",
      "5219   2017-11-15\n",
      "5220   2017-12-13\n",
      "5221   2017-12-31\n",
      "5222   2018-01-29\n",
      "5223   2018-02-10\n",
      "5224   2018-02-11\n",
      "5225   2018-02-18\n",
      "5226   2018-03-06\n",
      "5227   2018-03-11\n",
      "5228   2018-03-12\n",
      "5229   2018-03-17\n",
      "5230   2018-04-11\n",
      "5231   2018-04-17\n",
      "5232   2018-05-02\n",
      "5233   2018-05-18\n",
      "5234   2018-06-05\n",
      "5235   2018-07-10\n",
      "5236   2018-08-04\n",
      "5237   2018-09-28\n",
      "5238   2018-10-29\n",
      "5239   2018-11-06\n",
      "5240   2018-11-18\n",
      "5241   2019-01-14\n",
      "Name: date, Length: 5242, dtype: datetime64[ns]\n"
     ]
    }
   ],
   "source": [
    "s = test_df['date']\n",
    "#sf = pd.DataFrame(s, columns = ['date_col'])\n",
    "#test_df[\"new_date1\"] = \n",
    "#print(pd.to_datetime(s,format = \"%B %d, %Y\"))"
   ]
  },
  {
   "cell_type": "code",
   "execution_count": 3,
   "metadata": {},
   "outputs": [],
   "source": [
    "# use this date conversion **********************************\n",
    "s = test_df['date']\n",
    "test_df['new_date'] = pd.to_datetime(s,format = \"%B %d, %Y\")"
   ]
  },
  {
   "cell_type": "code",
   "execution_count": 4,
   "metadata": {},
   "outputs": [
    {
     "name": "stdout",
     "output_type": "stream",
     "text": [
      "<class 'pandas.core.frame.DataFrame'>\n",
      "RangeIndex: 5242 entries, 0 to 5241\n",
      "Data columns (total 14 columns):\n",
      "date             5242 non-null object\n",
      "time             5242 non-null object\n",
      "location         5242 non-null object\n",
      "operator         5242 non-null object\n",
      "flight_number    5242 non-null object\n",
      "route            5242 non-null object\n",
      "aircraft_type    5242 non-null object\n",
      "registration     5242 non-null object\n",
      "cn_ln            5242 non-null object\n",
      "aboard           5242 non-null object\n",
      "fatalities       5242 non-null object\n",
      "ground           5242 non-null object\n",
      "summary          5242 non-null object\n",
      "new_date         5242 non-null datetime64[ns]\n",
      "dtypes: datetime64[ns](1), object(13)\n",
      "memory usage: 573.4+ KB\n"
     ]
    }
   ],
   "source": [
    "test_df.info()"
   ]
  },
  {
   "cell_type": "markdown",
   "metadata": {},
   "source": [
    "#### Creating a function to remove escape charaters and to replace \"?\" with \"-\""
   ]
  },
  {
   "cell_type": "code",
   "execution_count": 3,
   "metadata": {},
   "outputs": [],
   "source": [
    "# function to remove unwanted escape characters from the location string and to replace all \"?\" with \"-\"\n",
    "def remove_escape_characters(loc_string):\n",
    "    ignore_list_escape_characters = [\"\\n\",\"\\t\",\"\\r\",\"?\"]\n",
    "    \n",
    "    if loc_string == \"?\":\n",
    "        loc_string = '-'      \n",
    "    else:\n",
    "        for char in ignore_list_escape_characters:\n",
    "            loc_string = loc_string.replace(char, '')       \n",
    "    return loc_string"
   ]
  },
  {
   "cell_type": "markdown",
   "metadata": {},
   "source": [
    "## Cleaning time data column"
   ]
  },
  {
   "cell_type": "code",
   "execution_count": 3,
   "metadata": {},
   "outputs": [
    {
     "data": {
      "text/plain": [
       "1917"
      ]
     },
     "execution_count": 3,
     "metadata": {},
     "output_type": "execute_result"
    }
   ],
   "source": [
    "# count the number of observations with \"?\"\n",
    "df.query('time == \"?\"').shape[0]"
   ]
  },
  {
   "cell_type": "code",
   "execution_count": 26,
   "metadata": {},
   "outputs": [
    {
     "data": {
      "text/plain": [
       "0"
      ]
     },
     "execution_count": 26,
     "metadata": {},
     "output_type": "execute_result"
    }
   ],
   "source": [
    "# check the dataset\n",
    "df.query('time == \"?\"').shape[0]"
   ]
  },
  {
   "cell_type": "code",
   "execution_count": 5,
   "metadata": {},
   "outputs": [],
   "source": [
    "# function to check if the time values are of the format 00:00\n",
    "def check_pattern(time_val):\n",
    "    pattern = re.compile('^\\d{2}\\:\\d{2}$') \n",
    "    result = pattern.match(time_val)\n",
    "    return bool(result)"
   ]
  },
  {
   "cell_type": "code",
   "execution_count": 6,
   "metadata": {},
   "outputs": [],
   "source": [
    "# lets check if the time data has the pattern 00:00\n",
    "pattern_check = df['time'].apply(check_pattern)"
   ]
  },
  {
   "cell_type": "code",
   "execution_count": 7,
   "metadata": {},
   "outputs": [
    {
     "data": {
      "text/plain": [
       "2436"
      ]
     },
     "execution_count": 7,
     "metadata": {},
     "output_type": "execute_result"
    }
   ],
   "source": [
    "pattern_check[pattern_check == False].count()"
   ]
  },
  {
   "cell_type": "code",
   "execution_count": 7,
   "metadata": {},
   "outputs": [
    {
     "data": {
      "text/plain": [
       "322"
      ]
     },
     "execution_count": 7,
     "metadata": {},
     "output_type": "execute_result"
    }
   ],
   "source": [
    "# there are time values that contains character \"c\"\n",
    "df[df['time'].str.contains(\"c\")].shape[0]"
   ]
  },
  {
   "cell_type": "code",
   "execution_count": 8,
   "metadata": {},
   "outputs": [
    {
     "data": {
      "text/plain": [
       "2"
      ]
     },
     "execution_count": 8,
     "metadata": {},
     "output_type": "execute_result"
    }
   ],
   "source": [
    "# there are time values that contains character \"c: \"\n",
    "df[df['time'].str.contains(\"c: \")].shape[0]"
   ]
  },
  {
   "cell_type": "code",
   "execution_count": 9,
   "metadata": {},
   "outputs": [
    {
     "data": {
      "text/plain": [
       "47"
      ]
     },
     "execution_count": 9,
     "metadata": {},
     "output_type": "execute_result"
    }
   ],
   "source": [
    "# there are time values that contains character \"Z\"\n",
    "df[df['time'].str.contains(\"Z\")].shape[0]"
   ]
  },
  {
   "cell_type": "markdown",
   "metadata": {},
   "source": [
    "Lets create a function to clean up all the unwanted characters in the time data and add necessary values. "
   ]
  },
  {
   "cell_type": "code",
   "execution_count": 8,
   "metadata": {},
   "outputs": [],
   "source": [
    "# function to replace \"?\", remove \"c\" and to add \":\" for all the missing : in time data\n",
    "\n",
    "def clean_time(time_data):\n",
    "    time_data = time_data.strip()\n",
    "    \n",
    "    ignore_list = [\"c:\",\"c: \",\"c\",\"c \",\"z\",\"Z\",\" \"]\n",
    "    \n",
    "    if time_data == \"?\":\n",
    "        time_data = \"00:00\"\n",
    "        \n",
    "    if \":\" not in time_data:\n",
    "        time_data = time_data[:2] + ':' + time_data[2:]\n",
    "    \n",
    "    if len(time_data) < 5:\n",
    "        time_data = time_data.zfill(5)\n",
    "    \n",
    "    for tag in ignore_list:\n",
    "        if tag == 'z' or tag == 'Z':\n",
    "            time_data = time_data.replace(tag, '')\n",
    "        else:\n",
    "            time_data = time_data.replace(tag, '0')\n",
    "\n",
    "        \n",
    "    new_str = time_data[-5:]\n",
    "    return new_str"
   ]
  },
  {
   "cell_type": "code",
   "execution_count": 9,
   "metadata": {},
   "outputs": [],
   "source": [
    "# apply clean_time function to the time column\n",
    "df['time'] = df['time'].apply(clean_time)"
   ]
  },
  {
   "cell_type": "code",
   "execution_count": 10,
   "metadata": {},
   "outputs": [],
   "source": [
    "# check if the time values satisfies the 00:00 format\n",
    "test = df['time'].apply(check_pattern)"
   ]
  },
  {
   "cell_type": "code",
   "execution_count": 11,
   "metadata": {},
   "outputs": [
    {
     "data": {
      "text/plain": [
       "12"
      ]
     },
     "execution_count": 11,
     "metadata": {},
     "output_type": "execute_result"
    }
   ],
   "source": [
    "test[test == False].count()"
   ]
  },
  {
   "cell_type": "code",
   "execution_count": 12,
   "metadata": {},
   "outputs": [],
   "source": [
    "test_index = test[test == False].index"
   ]
  },
  {
   "cell_type": "code",
   "execution_count": 13,
   "metadata": {},
   "outputs": [
    {
     "data": {
      "text/plain": [
       "398     10;00\n",
       "549     13;00\n",
       "552     4:;10\n",
       "644     12;30\n",
       "841     6:;15\n",
       "905     3:;00\n",
       "974     2:;00\n",
       "1782    2:\"20\n",
       "2029    8:.40\n",
       "4706    6:;30\n",
       "4791    6:;30\n",
       "5039    0:900\n",
       "Name: time, dtype: object"
      ]
     },
     "execution_count": 13,
     "metadata": {},
     "output_type": "execute_result"
    }
   ],
   "source": [
    "df['time'].iloc[test_index]"
   ]
  },
  {
   "cell_type": "code",
   "execution_count": 14,
   "metadata": {},
   "outputs": [],
   "source": [
    "# function to remove additional extra unwanted characters\n",
    "def remove_extra_characters(time_data):\n",
    "\n",
    "    ignore_list = [\":;\",\":.\",\":\\\"\",\";\"]\n",
    "\n",
    "    for tag in ignore_list:\n",
    "        time_data = time_data.replace(tag, ':')\n",
    "\n",
    "    if len(time_data) < 5:\n",
    "        time_data = time_data.zfill(5)\n",
    "    \n",
    "    return time_data"
   ]
  },
  {
   "cell_type": "code",
   "execution_count": 15,
   "metadata": {},
   "outputs": [],
   "source": [
    "df['time'] = df['time'].apply(remove_extra_characters)"
   ]
  },
  {
   "cell_type": "code",
   "execution_count": 16,
   "metadata": {},
   "outputs": [],
   "source": [
    "test2 = df['time'].apply(check_pattern)"
   ]
  },
  {
   "cell_type": "code",
   "execution_count": 17,
   "metadata": {},
   "outputs": [],
   "source": [
    "t2_index = test2[test2 == False].index"
   ]
  },
  {
   "cell_type": "code",
   "execution_count": 20,
   "metadata": {},
   "outputs": [
    {
     "data": {
      "text/plain": [
       "5039    0:900\n",
       "Name: time, dtype: object"
      ]
     },
     "execution_count": 20,
     "metadata": {},
     "output_type": "execute_result"
    }
   ],
   "source": [
    "df['time'].iloc[t2_index]"
   ]
  },
  {
   "cell_type": "markdown",
   "metadata": {},
   "source": [
    "Now we can clean the data for the index 5039. And since there cannot be 90 minutes, it seems that the data has been input wrongly. So, I think it should be 09:00"
   ]
  },
  {
   "cell_type": "code",
   "execution_count": 18,
   "metadata": {},
   "outputs": [],
   "source": [
    "df.iloc[5039]['time'] = '09:00'"
   ]
  },
  {
   "cell_type": "code",
   "execution_count": 19,
   "metadata": {},
   "outputs": [
    {
     "data": {
      "text/plain": [
       "'09:00'"
      ]
     },
     "execution_count": 19,
     "metadata": {},
     "output_type": "execute_result"
    }
   ],
   "source": [
    "df.iloc[5039]['time']"
   ]
  },
  {
   "cell_type": "markdown",
   "metadata": {},
   "source": [
    "## Cleaning up Date data column"
   ]
  },
  {
   "cell_type": "code",
   "execution_count": 20,
   "metadata": {},
   "outputs": [
    {
     "data": {
      "text/plain": [
       "2528       April 17, 1972\n",
       "5145        July 07, 2014\n",
       "116     November 11, 1926\n",
       "4465       April 04, 2001\n",
       "70          July 26, 1922\n",
       "Name: date, dtype: object"
      ]
     },
     "execution_count": 20,
     "metadata": {},
     "output_type": "execute_result"
    }
   ],
   "source": [
    "df.date.sample(5)"
   ]
  },
  {
   "cell_type": "code",
   "execution_count": 55,
   "metadata": {},
   "outputs": [
    {
     "name": "stdout",
     "output_type": "stream",
     "text": [
      "True\n"
     ]
    }
   ],
   "source": [
    "#ignore this\n",
    "t12 = 'January 20, 1942'\n",
    "pattern_date = re.compile('^[a-zA-Z]{1,20}\\s\\d{2}\\,\\s\\d{4}$')\n",
    "#pattern_date = re.compile('[a-zA-Z]\\s') #('[a-zA-Z]{20}\\s\\d{2}\\,\\s\\d{4}') \n",
    "result = pattern_date.match(t12)\n",
    "print(bool(result))"
   ]
  },
  {
   "cell_type": "code",
   "execution_count": 21,
   "metadata": {},
   "outputs": [],
   "source": [
    "# check the date data are of the same pattern \n",
    "pattern_date = re.compile('^[a-zA-Z]{1,20}\\s\\d{2}\\,\\s\\d{4}$')\n",
    "date_format_check = df['date'].apply(lambda x: \"True\" if bool(pattern_date.match(x)) == True else \"False\")"
   ]
  },
  {
   "cell_type": "code",
   "execution_count": 22,
   "metadata": {},
   "outputs": [
    {
     "data": {
      "text/plain": [
       "array(['True'], dtype=object)"
      ]
     },
     "execution_count": 22,
     "metadata": {},
     "output_type": "execute_result"
    }
   ],
   "source": [
    "date_format_check.unique()"
   ]
  },
  {
   "cell_type": "markdown",
   "metadata": {},
   "source": [
    "All the date values are of the same format."
   ]
  },
  {
   "cell_type": "markdown",
   "metadata": {},
   "source": [
    "## Cleaning up location data column"
   ]
  },
  {
   "cell_type": "code",
   "execution_count": 23,
   "metadata": {},
   "outputs": [
    {
     "data": {
      "text/html": [
       "<div>\n",
       "<style scoped>\n",
       "    .dataframe tbody tr th:only-of-type {\n",
       "        vertical-align: middle;\n",
       "    }\n",
       "\n",
       "    .dataframe tbody tr th {\n",
       "        vertical-align: top;\n",
       "    }\n",
       "\n",
       "    .dataframe thead th {\n",
       "        text-align: right;\n",
       "    }\n",
       "</style>\n",
       "<table border=\"1\" class=\"dataframe\">\n",
       "  <thead>\n",
       "    <tr style=\"text-align: right;\">\n",
       "      <th></th>\n",
       "      <th>date</th>\n",
       "      <th>time</th>\n",
       "      <th>location</th>\n",
       "      <th>operator</th>\n",
       "      <th>flight_number</th>\n",
       "      <th>route</th>\n",
       "      <th>aircraft_type</th>\n",
       "      <th>registration</th>\n",
       "      <th>cn_ln</th>\n",
       "      <th>aboard</th>\n",
       "      <th>fatalities</th>\n",
       "      <th>ground</th>\n",
       "      <th>summary</th>\n",
       "    </tr>\n",
       "  </thead>\n",
       "  <tbody>\n",
       "    <tr>\n",
       "      <th>476</th>\n",
       "      <td>February 02, 1938</td>\n",
       "      <td>20:40</td>\n",
       "      <td>Off San Clemente Island, California</td>\n",
       "      <td>Military - U.S. Navy / Military - U.S. Navy</td>\n",
       "      <td>?</td>\n",
       "      <td>?</td>\n",
       "      <td>Consolidated PBY-2 / Consolidated PBY-2</td>\n",
       "      <td>04062 / 0463</td>\n",
       "      <td>?</td>\n",
       "      <td>14   (passengers:0  crew:14)</td>\n",
       "      <td>11   (passengers:0  crew:11)</td>\n",
       "      <td>0</td>\n",
       "      <td>The two aircraft crashed in mid-air in heavy r...</td>\n",
       "    </tr>\n",
       "    <tr>\n",
       "      <th>4357</th>\n",
       "      <td>September 01, 1999</td>\n",
       "      <td>10:26</td>\n",
       "      <td>Mount Meru, Tanzania</td>\n",
       "      <td>Northern Air (Tanzania)</td>\n",
       "      <td>?</td>\n",
       "      <td>Serener Airstrip - Kilimanjaro IAP</td>\n",
       "      <td>Cessna 404 Titan II</td>\n",
       "      <td>5HNAT</td>\n",
       "      <td>0805</td>\n",
       "      <td>12   (passengers:11  crew:1)</td>\n",
       "      <td>12   (passengers:11  crew:1)</td>\n",
       "      <td>0</td>\n",
       "      <td>A plane carrying American tourists on a sights...</td>\n",
       "    </tr>\n",
       "    <tr>\n",
       "      <th>969</th>\n",
       "      <td>May 25, 1948</td>\n",
       "      <td>00:00</td>\n",
       "      <td>Albacete, Spain</td>\n",
       "      <td>Alpha Airways</td>\n",
       "      <td>?</td>\n",
       "      <td>?</td>\n",
       "      <td>Handley Page Halifax C-8</td>\n",
       "      <td>G-AKBA</td>\n",
       "      <td>1303</td>\n",
       "      <td>4   (passengers:?  crew:?)</td>\n",
       "      <td>4   (passengers:?  crew:?)</td>\n",
       "      <td>1</td>\n",
       "      <td>Crashed on takeoff.</td>\n",
       "    </tr>\n",
       "    <tr>\n",
       "      <th>2772</th>\n",
       "      <td>November 03, 1975</td>\n",
       "      <td>13:02</td>\n",
       "      <td>Gulf of Mexico</td>\n",
       "      <td>Petroleum Helicopter</td>\n",
       "      <td>?</td>\n",
       "      <td>?</td>\n",
       "      <td>Bell 212</td>\n",
       "      <td>N90057</td>\n",
       "      <td>?</td>\n",
       "      <td>9   (passengers:8  crew:1)</td>\n",
       "      <td>9   (passengers:8  crew:1)</td>\n",
       "      <td>0</td>\n",
       "      <td>The helicopter crashed after the main rotor fa...</td>\n",
       "    </tr>\n",
       "    <tr>\n",
       "      <th>4327</th>\n",
       "      <td>April 07, 1999</td>\n",
       "      <td>00:33</td>\n",
       "      <td>Near Ceyhan, Turkey</td>\n",
       "      <td>Turkish Airlines (THY)</td>\n",
       "      <td>5904</td>\n",
       "      <td>Adana - Ciddah</td>\n",
       "      <td>Boeing 737-4Q8</td>\n",
       "      <td>TC-JEP</td>\n",
       "      <td>25378/2732</td>\n",
       "      <td>6   (passengers:0  crew:6)</td>\n",
       "      <td>6   (passengers:0  crew:6)</td>\n",
       "      <td>0</td>\n",
       "      <td>The aircraft departed Adana to pick up Turkish...</td>\n",
       "    </tr>\n",
       "  </tbody>\n",
       "</table>\n",
       "</div>"
      ],
      "text/plain": [
       "                    date   time                             location  \\\n",
       "476    February 02, 1938  20:40  Off San Clemente Island, California   \n",
       "4357  September 01, 1999  10:26                 Mount Meru, Tanzania   \n",
       "969         May 25, 1948  00:00                      Albacete, Spain   \n",
       "2772   November 03, 1975  13:02                       Gulf of Mexico   \n",
       "4327      April 07, 1999  00:33                  Near Ceyhan, Turkey   \n",
       "\n",
       "                                         operator flight_number  \\\n",
       "476   Military - U.S. Navy / Military - U.S. Navy             ?   \n",
       "4357                      Northern Air (Tanzania)             ?   \n",
       "969                                 Alpha Airways             ?   \n",
       "2772                         Petroleum Helicopter             ?   \n",
       "4327                       Turkish Airlines (THY)          5904   \n",
       "\n",
       "                                   route  \\\n",
       "476                                    ?   \n",
       "4357  Serener Airstrip - Kilimanjaro IAP   \n",
       "969                                    ?   \n",
       "2772                                   ?   \n",
       "4327                      Adana - Ciddah   \n",
       "\n",
       "                                aircraft_type  registration       cn_ln  \\\n",
       "476   Consolidated PBY-2 / Consolidated PBY-2  04062 / 0463           ?   \n",
       "4357                      Cessna 404 Titan II         5HNAT        0805   \n",
       "969                  Handley Page Halifax C-8        G-AKBA        1303   \n",
       "2772                                 Bell 212        N90057           ?   \n",
       "4327                           Boeing 737-4Q8        TC-JEP  25378/2732   \n",
       "\n",
       "                            aboard                    fatalities ground  \\\n",
       "476   14   (passengers:0  crew:14)  11   (passengers:0  crew:11)      0   \n",
       "4357  12   (passengers:11  crew:1)  12   (passengers:11  crew:1)      0   \n",
       "969     4   (passengers:?  crew:?)    4   (passengers:?  crew:?)      1   \n",
       "2772    9   (passengers:8  crew:1)    9   (passengers:8  crew:1)      0   \n",
       "4327    6   (passengers:0  crew:6)    6   (passengers:0  crew:6)      0   \n",
       "\n",
       "                                                summary  \n",
       "476   The two aircraft crashed in mid-air in heavy r...  \n",
       "4357  A plane carrying American tourists on a sights...  \n",
       "969                                 Crashed on takeoff.  \n",
       "2772  The helicopter crashed after the main rotor fa...  \n",
       "4327  The aircraft departed Adana to pick up Turkish...  "
      ]
     },
     "execution_count": 23,
     "metadata": {},
     "output_type": "execute_result"
    }
   ],
   "source": [
    "df.sample(5)"
   ]
  },
  {
   "cell_type": "code",
   "execution_count": 24,
   "metadata": {},
   "outputs": [
    {
     "data": {
      "text/plain": [
       "5"
      ]
     },
     "execution_count": 24,
     "metadata": {},
     "output_type": "execute_result"
    }
   ],
   "source": [
    "df[df['location'] == \"?\"].shape[0]"
   ]
  },
  {
   "cell_type": "markdown",
   "metadata": {},
   "source": [
    "#### Observations\n",
    "- missing location values are filled with \"?\".\n",
    "- contains unwanted escape characters.\n",
    "- split the location into region and country values."
   ]
  },
  {
   "cell_type": "code",
   "execution_count": 67,
   "metadata": {},
   "outputs": [],
   "source": [
    "# ignore this\n",
    "# function to remove unwanted escape characters from the location string\n",
    "def remove_escape_characters(loc_string):\n",
    "    ignore_list_escape_characters = [\"\\n\",\"\\t\",\"\\r\",\"?\"]\n",
    "\n",
    "    for char in ignore_list_escape_characters:\n",
    "        loc_string = loc_string.replace(char, '')\n",
    "        \n",
    "    return loc_string"
   ]
  },
  {
   "cell_type": "code",
   "execution_count": 25,
   "metadata": {},
   "outputs": [],
   "source": [
    "# remove escape characters from the location data\n",
    "df['location'] = df['location'].apply(remove_escape_characters)"
   ]
  },
  {
   "cell_type": "code",
   "execution_count": 421,
   "metadata": {},
   "outputs": [
    {
     "name": "stdout",
     "output_type": "stream",
     "text": [
      "<_sre.SRE_Match object; span=(0, 15), match='August 09, 2013'>\n"
     ]
    }
   ],
   "source": [
    "#ignore this\n",
    "t_Str = \"August 09, 2013\"\n",
    "pattern = re.compile('^[a-zA-Z]{1,20}\\s\\d{2}\\,\\s\\d{4}$')\n",
    "result = pattern.match(t_Str)\n",
    "print(result)"
   ]
  },
  {
   "cell_type": "code",
   "execution_count": 332,
   "metadata": {},
   "outputs": [
    {
     "name": "stdout",
     "output_type": "stream",
     "text": [
      "<_sre.SRE_Match object; span=(0, 23), match='Mt, Taylor, near Grants'>\n"
     ]
    }
   ],
   "source": [
    "#ignore this\n",
    "pattern = re.compile('^[a-zA-Z\\, \\.\\-]{1,50}, [a-zA-Z ]{1,50}$')\n",
    "result = pattern.match(\"Mt, Taylor, near Grants\")\n",
    "print(result)"
   ]
  },
  {
   "cell_type": "code",
   "execution_count": 26,
   "metadata": {},
   "outputs": [],
   "source": [
    "# function to split the location data into region and country data\n",
    "\n",
    "def split_region_country(location):\n",
    "    region = \"\"\n",
    "    country= \"\"\n",
    "    if location == \"?\":\n",
    "        region = \"-\"\n",
    "        country = \"-\"          \n",
    "    elif location.count(\",\") == 0:\n",
    "        region = location\n",
    "        country = \"-\"       \n",
    "    elif location.count(\",\") == 1:\n",
    "        region = location.split(\",\")[0]\n",
    "        country = location.split(\",\")[1]\n",
    "    elif location.count(\",\") >= 2:\n",
    "        n = location.count(\",\") \n",
    "        for i in range(n):\n",
    "            region = region + location.split(\",\")[i].strip()+ \" \"\n",
    "        country = location.split(\",\")[n].strip()\n",
    "    ret_val = pd.Series([region, country])\n",
    "\n",
    "    return ret_val\n",
    "\n",
    "# not able to return tuples : https://stackoverflow.com/questions/23690284/pandas-apply-function-that-returns-multiple-values-to-rows-in-pandas-dataframe"
   ]
  },
  {
   "cell_type": "code",
   "execution_count": 27,
   "metadata": {},
   "outputs": [],
   "source": [
    "# create new columns region and country\n",
    "df['region'], df['country'] = df['location'].apply(split_region_country)[0],df['location'].apply(split_region_country)[1]"
   ]
  },
  {
   "cell_type": "code",
   "execution_count": 28,
   "metadata": {},
   "outputs": [
    {
     "data": {
      "text/html": [
       "<div>\n",
       "<style scoped>\n",
       "    .dataframe tbody tr th:only-of-type {\n",
       "        vertical-align: middle;\n",
       "    }\n",
       "\n",
       "    .dataframe tbody tr th {\n",
       "        vertical-align: top;\n",
       "    }\n",
       "\n",
       "    .dataframe thead th {\n",
       "        text-align: right;\n",
       "    }\n",
       "</style>\n",
       "<table border=\"1\" class=\"dataframe\">\n",
       "  <thead>\n",
       "    <tr style=\"text-align: right;\">\n",
       "      <th></th>\n",
       "      <th>date</th>\n",
       "      <th>time</th>\n",
       "      <th>location</th>\n",
       "      <th>operator</th>\n",
       "      <th>flight_number</th>\n",
       "      <th>route</th>\n",
       "      <th>aircraft_type</th>\n",
       "      <th>registration</th>\n",
       "      <th>cn_ln</th>\n",
       "      <th>aboard</th>\n",
       "      <th>fatalities</th>\n",
       "      <th>ground</th>\n",
       "      <th>summary</th>\n",
       "      <th>region</th>\n",
       "      <th>country</th>\n",
       "    </tr>\n",
       "  </thead>\n",
       "  <tbody>\n",
       "    <tr>\n",
       "      <th>0</th>\n",
       "      <td>September 17, 1908</td>\n",
       "      <td>17:18</td>\n",
       "      <td>Fort Myer, Virginia</td>\n",
       "      <td>Military - U.S. Army</td>\n",
       "      <td>?</td>\n",
       "      <td>Demonstration</td>\n",
       "      <td>Wright Flyer III</td>\n",
       "      <td>?</td>\n",
       "      <td>1</td>\n",
       "      <td>2   (passengers:1  crew:1)</td>\n",
       "      <td>1   (passengers:1  crew:0)</td>\n",
       "      <td>0</td>\n",
       "      <td>During a demonstration flight, a U.S. Army fly...</td>\n",
       "      <td>Fort Myer</td>\n",
       "      <td>Virginia</td>\n",
       "    </tr>\n",
       "    <tr>\n",
       "      <th>1</th>\n",
       "      <td>September 07, 1909</td>\n",
       "      <td>00:00</td>\n",
       "      <td>Juvisy-sur-Orge, France</td>\n",
       "      <td>?</td>\n",
       "      <td>?</td>\n",
       "      <td>Air show</td>\n",
       "      <td>Wright Byplane</td>\n",
       "      <td>SC1</td>\n",
       "      <td>?</td>\n",
       "      <td>1   (passengers:0  crew:1)</td>\n",
       "      <td>1   (passengers:0  crew:0)</td>\n",
       "      <td>0</td>\n",
       "      <td>Eugene Lefebvre was the first pilot to ever be...</td>\n",
       "      <td>Juvisy-sur-Orge</td>\n",
       "      <td>France</td>\n",
       "    </tr>\n",
       "    <tr>\n",
       "      <th>2</th>\n",
       "      <td>July 12, 1912</td>\n",
       "      <td>06:30</td>\n",
       "      <td>Atlantic City, New Jersey</td>\n",
       "      <td>Military - U.S. Navy</td>\n",
       "      <td>?</td>\n",
       "      <td>Test flight</td>\n",
       "      <td>Dirigible</td>\n",
       "      <td>?</td>\n",
       "      <td>?</td>\n",
       "      <td>5   (passengers:0  crew:5)</td>\n",
       "      <td>5   (passengers:0  crew:5)</td>\n",
       "      <td>0</td>\n",
       "      <td>First U.S. dirigible Akron exploded just offsh...</td>\n",
       "      <td>Atlantic City</td>\n",
       "      <td>New Jersey</td>\n",
       "    </tr>\n",
       "    <tr>\n",
       "      <th>3</th>\n",
       "      <td>August 06, 1913</td>\n",
       "      <td>00:00</td>\n",
       "      <td>Victoria, British Columbia, Canada</td>\n",
       "      <td>Private</td>\n",
       "      <td>?</td>\n",
       "      <td>?</td>\n",
       "      <td>Curtiss seaplane</td>\n",
       "      <td>?</td>\n",
       "      <td>?</td>\n",
       "      <td>1   (passengers:0  crew:1)</td>\n",
       "      <td>1   (passengers:0  crew:1)</td>\n",
       "      <td>0</td>\n",
       "      <td>The first fatal airplane accident in Canada oc...</td>\n",
       "      <td>Victoria British Columbia</td>\n",
       "      <td>Canada</td>\n",
       "    </tr>\n",
       "    <tr>\n",
       "      <th>4</th>\n",
       "      <td>September 09, 1913</td>\n",
       "      <td>18:30</td>\n",
       "      <td>Over the North Sea</td>\n",
       "      <td>Military - German Navy</td>\n",
       "      <td>?</td>\n",
       "      <td>?</td>\n",
       "      <td>Zeppelin L-1 (airship)</td>\n",
       "      <td>?</td>\n",
       "      <td>?</td>\n",
       "      <td>20   (passengers:?  crew:?)</td>\n",
       "      <td>14   (passengers:?  crew:?)</td>\n",
       "      <td>0</td>\n",
       "      <td>The airship flew into a thunderstorm and encou...</td>\n",
       "      <td>Over the North Sea</td>\n",
       "      <td>-</td>\n",
       "    </tr>\n",
       "  </tbody>\n",
       "</table>\n",
       "</div>"
      ],
      "text/plain": [
       "                 date   time                            location  \\\n",
       "0  September 17, 1908  17:18                 Fort Myer, Virginia   \n",
       "1  September 07, 1909  00:00             Juvisy-sur-Orge, France   \n",
       "2       July 12, 1912  06:30           Atlantic City, New Jersey   \n",
       "3     August 06, 1913  00:00  Victoria, British Columbia, Canada   \n",
       "4  September 09, 1913  18:30                  Over the North Sea   \n",
       "\n",
       "                 operator flight_number          route  \\\n",
       "0    Military - U.S. Army             ?  Demonstration   \n",
       "1                       ?             ?       Air show   \n",
       "2    Military - U.S. Navy             ?    Test flight   \n",
       "3                 Private             ?              ?   \n",
       "4  Military - German Navy             ?              ?   \n",
       "\n",
       "            aircraft_type registration cn_ln                       aboard  \\\n",
       "0        Wright Flyer III            ?     1   2   (passengers:1  crew:1)   \n",
       "1          Wright Byplane          SC1     ?   1   (passengers:0  crew:1)   \n",
       "2               Dirigible            ?     ?   5   (passengers:0  crew:5)   \n",
       "3        Curtiss seaplane            ?     ?   1   (passengers:0  crew:1)   \n",
       "4  Zeppelin L-1 (airship)            ?     ?  20   (passengers:?  crew:?)   \n",
       "\n",
       "                    fatalities ground  \\\n",
       "0   1   (passengers:1  crew:0)      0   \n",
       "1   1   (passengers:0  crew:0)      0   \n",
       "2   5   (passengers:0  crew:5)      0   \n",
       "3   1   (passengers:0  crew:1)      0   \n",
       "4  14   (passengers:?  crew:?)      0   \n",
       "\n",
       "                                             summary  \\\n",
       "0  During a demonstration flight, a U.S. Army fly...   \n",
       "1  Eugene Lefebvre was the first pilot to ever be...   \n",
       "2  First U.S. dirigible Akron exploded just offsh...   \n",
       "3  The first fatal airplane accident in Canada oc...   \n",
       "4  The airship flew into a thunderstorm and encou...   \n",
       "\n",
       "                       region      country  \n",
       "0                   Fort Myer     Virginia  \n",
       "1             Juvisy-sur-Orge       France  \n",
       "2               Atlantic City   New Jersey  \n",
       "3  Victoria British Columbia        Canada  \n",
       "4          Over the North Sea            -  "
      ]
     },
     "execution_count": 28,
     "metadata": {},
     "output_type": "execute_result"
    }
   ],
   "source": [
    "df.head()"
   ]
  },
  {
   "cell_type": "code",
   "execution_count": 29,
   "metadata": {},
   "outputs": [
    {
     "data": {
      "text/html": [
       "<div>\n",
       "<style scoped>\n",
       "    .dataframe tbody tr th:only-of-type {\n",
       "        vertical-align: middle;\n",
       "    }\n",
       "\n",
       "    .dataframe tbody tr th {\n",
       "        vertical-align: top;\n",
       "    }\n",
       "\n",
       "    .dataframe thead th {\n",
       "        text-align: right;\n",
       "    }\n",
       "</style>\n",
       "<table border=\"1\" class=\"dataframe\">\n",
       "  <thead>\n",
       "    <tr style=\"text-align: right;\">\n",
       "      <th></th>\n",
       "      <th>date</th>\n",
       "      <th>time</th>\n",
       "      <th>location</th>\n",
       "      <th>operator</th>\n",
       "      <th>flight_number</th>\n",
       "      <th>route</th>\n",
       "      <th>aircraft_type</th>\n",
       "      <th>registration</th>\n",
       "      <th>cn_ln</th>\n",
       "      <th>aboard</th>\n",
       "      <th>fatalities</th>\n",
       "      <th>ground</th>\n",
       "      <th>summary</th>\n",
       "      <th>region</th>\n",
       "      <th>country</th>\n",
       "    </tr>\n",
       "  </thead>\n",
       "  <tbody>\n",
       "  </tbody>\n",
       "</table>\n",
       "</div>"
      ],
      "text/plain": [
       "Empty DataFrame\n",
       "Columns: [date, time, location, operator, flight_number, route, aircraft_type, registration, cn_ln, aboard, fatalities, ground, summary, region, country]\n",
       "Index: []"
      ]
     },
     "execution_count": 29,
     "metadata": {},
     "output_type": "execute_result"
    }
   ],
   "source": [
    "df.query('region == \"?\"')"
   ]
  },
  {
   "cell_type": "code",
   "execution_count": 30,
   "metadata": {},
   "outputs": [
    {
     "data": {
      "text/html": [
       "<div>\n",
       "<style scoped>\n",
       "    .dataframe tbody tr th:only-of-type {\n",
       "        vertical-align: middle;\n",
       "    }\n",
       "\n",
       "    .dataframe tbody tr th {\n",
       "        vertical-align: top;\n",
       "    }\n",
       "\n",
       "    .dataframe thead th {\n",
       "        text-align: right;\n",
       "    }\n",
       "</style>\n",
       "<table border=\"1\" class=\"dataframe\">\n",
       "  <thead>\n",
       "    <tr style=\"text-align: right;\">\n",
       "      <th></th>\n",
       "      <th>date</th>\n",
       "      <th>time</th>\n",
       "      <th>location</th>\n",
       "      <th>operator</th>\n",
       "      <th>flight_number</th>\n",
       "      <th>route</th>\n",
       "      <th>aircraft_type</th>\n",
       "      <th>registration</th>\n",
       "      <th>cn_ln</th>\n",
       "      <th>aboard</th>\n",
       "      <th>fatalities</th>\n",
       "      <th>ground</th>\n",
       "      <th>summary</th>\n",
       "      <th>region</th>\n",
       "      <th>country</th>\n",
       "    </tr>\n",
       "  </thead>\n",
       "  <tbody>\n",
       "  </tbody>\n",
       "</table>\n",
       "</div>"
      ],
      "text/plain": [
       "Empty DataFrame\n",
       "Columns: [date, time, location, operator, flight_number, route, aircraft_type, registration, cn_ln, aboard, fatalities, ground, summary, region, country]\n",
       "Index: []"
      ]
     },
     "execution_count": 30,
     "metadata": {},
     "output_type": "execute_result"
    }
   ],
   "source": [
    "df.query('country == \"?\"')"
   ]
  },
  {
   "cell_type": "code",
   "execution_count": 31,
   "metadata": {},
   "outputs": [
    {
     "data": {
      "text/plain": [
       "1243      Off Trapani\n",
       "2240        Minot AFB\n",
       "3801    Off Nuka Hiva\n",
       "3865            Saveh\n",
       "3810           Luanda\n",
       "Name: region, dtype: object"
      ]
     },
     "execution_count": 31,
     "metadata": {},
     "output_type": "execute_result"
    }
   ],
   "source": [
    "df.region.sample(5)"
   ]
  },
  {
   "cell_type": "code",
   "execution_count": 32,
   "metadata": {},
   "outputs": [
    {
     "data": {
      "text/plain": [
       "1994     Philippines\n",
       "3851         Bolivia\n",
       "841           France\n",
       "989           Norway\n",
       "1023           Italy\n",
       "Name: country, dtype: object"
      ]
     },
     "execution_count": 32,
     "metadata": {},
     "output_type": "execute_result"
    }
   ],
   "source": [
    "df.country.sample(5)"
   ]
  },
  {
   "cell_type": "markdown",
   "metadata": {},
   "source": [
    "- Operator contains some escape characters.\n",
    "- flight number: there are missing flight number informations represented by \"?\"\n",
    "- route: can be split into : source and destination locations\n",
    "- aboard can be further split into : total_aboard, passenger, crew\n",
    "- fatalities can be again further split into passenger and crew."
   ]
  },
  {
   "cell_type": "markdown",
   "metadata": {},
   "source": [
    "### Cleaning up Operator data columns."
   ]
  },
  {
   "cell_type": "code",
   "execution_count": 34,
   "metadata": {},
   "outputs": [
    {
     "data": {
      "text/plain": [
       "4123               Aero Tropical\n",
       "4511    Air Taxi - Air Taxi Inc.\n",
       "4661          Blue Bird Aviation\n",
       "3346            Pioneer Airlines\n",
       "4350                     Private\n",
       "Name: operator, dtype: object"
      ]
     },
     "execution_count": 34,
     "metadata": {},
     "output_type": "execute_result"
    }
   ],
   "source": [
    "df.operator.sample(5)"
   ]
  },
  {
   "cell_type": "markdown",
   "metadata": {},
   "source": [
    "#### Observations\n",
    "- Need to remove unwanted escape characters.\n",
    "- Can create a new additional column that states either \"Military\" or \"Commercial\" flight."
   ]
  },
  {
   "cell_type": "code",
   "execution_count": 35,
   "metadata": {},
   "outputs": [],
   "source": [
    "# remove escape characters from operator and replace \"?\" with \"-\"\n",
    "df['operator'] = df['operator'].apply(remove_escape_characters)"
   ]
  },
  {
   "cell_type": "markdown",
   "metadata": {},
   "source": [
    "### Create a new column to specify operator type: Military or Commercial"
   ]
  },
  {
   "cell_type": "code",
   "execution_count": 36,
   "metadata": {},
   "outputs": [],
   "source": [
    "# function to create if the aircraft is a military or a commercial type\n",
    "# this can be removed as it is done in the below line of code\n",
    "check_type = lambda x: \"Military\" if \"military\" in x.lower() else \"Commercial\""
   ]
  },
  {
   "cell_type": "code",
   "execution_count": 37,
   "metadata": {},
   "outputs": [],
   "source": [
    "#checking if military or commercial in for each values of the operator data\n",
    "type_check = map(lambda x: \"Military\" if \"military\" in x.lower() else \"Commercial\", df['operator'])"
   ]
  },
  {
   "cell_type": "code",
   "execution_count": 38,
   "metadata": {},
   "outputs": [],
   "source": [
    "# create the column operator_type stating \"Miliary\" or \"Commercial\"\n",
    "df['operator_type'] = pd.Series(list(type_check))"
   ]
  },
  {
   "cell_type": "code",
   "execution_count": 39,
   "metadata": {},
   "outputs": [
    {
     "data": {
      "text/html": [
       "<div>\n",
       "<style scoped>\n",
       "    .dataframe tbody tr th:only-of-type {\n",
       "        vertical-align: middle;\n",
       "    }\n",
       "\n",
       "    .dataframe tbody tr th {\n",
       "        vertical-align: top;\n",
       "    }\n",
       "\n",
       "    .dataframe thead th {\n",
       "        text-align: right;\n",
       "    }\n",
       "</style>\n",
       "<table border=\"1\" class=\"dataframe\">\n",
       "  <thead>\n",
       "    <tr style=\"text-align: right;\">\n",
       "      <th></th>\n",
       "      <th>operator</th>\n",
       "      <th>operator_type</th>\n",
       "    </tr>\n",
       "  </thead>\n",
       "  <tbody>\n",
       "    <tr>\n",
       "      <th>1080</th>\n",
       "      <td>SEMAF</td>\n",
       "      <td>Commercial</td>\n",
       "    </tr>\n",
       "    <tr>\n",
       "      <th>2385</th>\n",
       "      <td>Lineas Aéreas La Urraca</td>\n",
       "      <td>Commercial</td>\n",
       "    </tr>\n",
       "    <tr>\n",
       "      <th>3543</th>\n",
       "      <td>Military - U.S. Air Force</td>\n",
       "      <td>Military</td>\n",
       "    </tr>\n",
       "    <tr>\n",
       "      <th>108</th>\n",
       "      <td>Compagnie Internationale de Navigation Aérienne</td>\n",
       "      <td>Commercial</td>\n",
       "    </tr>\n",
       "    <tr>\n",
       "      <th>437</th>\n",
       "      <td>Northwest Orient Airlines</td>\n",
       "      <td>Commercial</td>\n",
       "    </tr>\n",
       "  </tbody>\n",
       "</table>\n",
       "</div>"
      ],
      "text/plain": [
       "                                             operator operator_type\n",
       "1080                                            SEMAF    Commercial\n",
       "2385                          Lineas Aéreas La Urraca    Commercial\n",
       "3543                        Military - U.S. Air Force      Military\n",
       "108   Compagnie Internationale de Navigation Aérienne    Commercial\n",
       "437                         Northwest Orient Airlines    Commercial"
      ]
     },
     "execution_count": 39,
     "metadata": {},
     "output_type": "execute_result"
    }
   ],
   "source": [
    "df[['operator','operator_type']].sample(5)"
   ]
  },
  {
   "cell_type": "markdown",
   "metadata": {},
   "source": [
    "### Cleaning flight_number data columns."
   ]
  },
  {
   "cell_type": "code",
   "execution_count": 40,
   "metadata": {},
   "outputs": [
    {
     "data": {
      "text/plain": [
       "?         4043\n",
       "-           63\n",
       "1           11\n",
       "4            7\n",
       "301          6\n",
       "101          6\n",
       "6            6\n",
       "21           6\n",
       "201          6\n",
       "601          5\n",
       "901          5\n",
       "202          5\n",
       "3            5\n",
       "701          5\n",
       "7            5\n",
       "706          5\n",
       "200          5\n",
       "902          4\n",
       "610          4\n",
       "703          4\n",
       "10           4\n",
       "542          4\n",
       "261          4\n",
       "11           4\n",
       "205          4\n",
       "8            4\n",
       "114          4\n",
       "191          4\n",
       "105          4\n",
       "214          4\n",
       "          ... \n",
       "053          1\n",
       "181          1\n",
       "3704         1\n",
       "1808         1\n",
       "4844-C       1\n",
       "SR316        1\n",
       "1030X        1\n",
       "386          1\n",
       "4272         1\n",
       "345          1\n",
       "909          1\n",
       "538          1\n",
       "1422         1\n",
       "476          1\n",
       "9981         1\n",
       "6560         1\n",
       "7831         1\n",
       "434          1\n",
       "1553         1\n",
       "268          1\n",
       "7775         1\n",
       "218          1\n",
       "74           1\n",
       "9035         1\n",
       "733          1\n",
       "983          1\n",
       "426          1\n",
       "67           1\n",
       "320          1\n",
       "837          1\n",
       "Name: flight_number, Length: 808, dtype: int64"
      ]
     },
     "execution_count": 40,
     "metadata": {},
     "output_type": "execute_result"
    }
   ],
   "source": [
    "df['flight_number'].value_counts()"
   ]
  },
  {
   "cell_type": "markdown",
   "metadata": {},
   "source": [
    "#### Observations\n",
    "- contains \"?\" for missing flight numbers."
   ]
  },
  {
   "cell_type": "code",
   "execution_count": 41,
   "metadata": {},
   "outputs": [],
   "source": [
    "df['flight_number'] = df['flight_number'].apply(remove_escape_characters)"
   ]
  },
  {
   "cell_type": "code",
   "execution_count": 84,
   "metadata": {},
   "outputs": [],
   "source": [
    "# ignore this\n",
    "# replace \"?\" with \"-\"\n",
    "df['flight_number'] = df['flight_number'].apply(lambda x: \"-\" if x ==\"?\" else x)"
   ]
  },
  {
   "cell_type": "code",
   "execution_count": 42,
   "metadata": {},
   "outputs": [
    {
     "data": {
      "text/plain": [
       "-         4106\n",
       "1           11\n",
       "4            7\n",
       "301          6\n",
       "201          6\n",
       "6            6\n",
       "21           6\n",
       "101          6\n",
       "202          5\n",
       "901          5\n",
       "3            5\n",
       "601          5\n",
       "701          5\n",
       "200          5\n",
       "706          5\n",
       "7            5\n",
       "10           4\n",
       "11           4\n",
       "8            4\n",
       "214          4\n",
       "304          4\n",
       "610          4\n",
       "261          4\n",
       "542          4\n",
       "703          4\n",
       "105          4\n",
       "205          4\n",
       "114          4\n",
       "191          4\n",
       "902          4\n",
       "          ... \n",
       "2553         1\n",
       "053          1\n",
       "181          1\n",
       "3704         1\n",
       "1808         1\n",
       "4844-C       1\n",
       "SR316        1\n",
       "1030X        1\n",
       "4272         1\n",
       "345          1\n",
       "909          1\n",
       "538          1\n",
       "1422         1\n",
       "476          1\n",
       "9981         1\n",
       "6560         1\n",
       "7831         1\n",
       "434          1\n",
       "1553         1\n",
       "268          1\n",
       "7775         1\n",
       "218          1\n",
       "74           1\n",
       "9035         1\n",
       "733          1\n",
       "983          1\n",
       "426          1\n",
       "67           1\n",
       "320          1\n",
       "837          1\n",
       "Name: flight_number, Length: 807, dtype: int64"
      ]
     },
     "execution_count": 42,
     "metadata": {},
     "output_type": "execute_result"
    }
   ],
   "source": [
    "# check if all \"?\" are replaced by \"-\"\n",
    "df['flight_number'].value_counts()"
   ]
  },
  {
   "cell_type": "markdown",
   "metadata": {},
   "source": [
    "### Cleaning the \"route\" data column."
   ]
  },
  {
   "cell_type": "code",
   "execution_count": 43,
   "metadata": {},
   "outputs": [
    {
     "data": {
      "text/plain": [
       "1635    San Borja - La Paz\n",
       "3135                     ?\n",
       "4188       Luanda - Lucapa\n",
       "2346                     ?\n",
       "1542                     ?\n",
       "Name: route, dtype: object"
      ]
     },
     "execution_count": 43,
     "metadata": {},
     "output_type": "execute_result"
    }
   ],
   "source": [
    "df['route'].sample(5)"
   ]
  },
  {
   "cell_type": "markdown",
   "metadata": {},
   "source": [
    "#### Observations:\n",
    "- contains unwanted escape characters\n",
    "- ? character for missing values\n",
    "- check index 3652"
   ]
  },
  {
   "cell_type": "code",
   "execution_count": 45,
   "metadata": {},
   "outputs": [],
   "source": [
    "# remove escape characters and replace \"?\" with \"-\"\n",
    "df['route'] = df['route'].apply(remove_escape_characters)"
   ]
  },
  {
   "cell_type": "code",
   "execution_count": 86,
   "metadata": {},
   "outputs": [],
   "source": [
    "# replace \"?\" for missing values with \"-\"\n",
    "df['route'] = df['route'].apply(lambda x: \"-\" if x ==\"?\" else x)"
   ]
  },
  {
   "cell_type": "code",
   "execution_count": 46,
   "metadata": {},
   "outputs": [
    {
     "data": {
      "text/plain": [
       "' - Tegucigalpa - Toncontin'"
      ]
     },
     "execution_count": 46,
     "metadata": {},
     "output_type": "execute_result"
    }
   ],
   "source": [
    "df.iloc[3652]['route']"
   ]
  },
  {
   "cell_type": "markdown",
   "metadata": {},
   "source": [
    "It seems the source region for the index 3652 is unknown, so lets remove the unwanted \" - \"."
   ]
  },
  {
   "cell_type": "code",
   "execution_count": 47,
   "metadata": {},
   "outputs": [],
   "source": [
    "df.iloc[3652]['route'] = 'Tegucigalpa - Toncontin'"
   ]
  },
  {
   "cell_type": "code",
   "execution_count": 48,
   "metadata": {},
   "outputs": [
    {
     "data": {
      "text/plain": [
       "'Tegucigalpa - Toncontin'"
      ]
     },
     "execution_count": 48,
     "metadata": {},
     "output_type": "execute_result"
    }
   ],
   "source": [
    "df.iloc[3652]['route']"
   ]
  },
  {
   "cell_type": "code",
   "execution_count": 49,
   "metadata": {},
   "outputs": [
    {
     "data": {
      "text/plain": [
       "-                                        1338\n",
       "Training                                   92\n",
       "Sightseeing                                42\n",
       "Test flight                                19\n",
       "Test                                        7\n",
       "Sao Paulo - Rio de Janeiro                  7\n",
       "Paris - London                              5\n",
       "Villavicencio - Mitu                        4\n",
       "Huambo - Luanda                             4\n",
       "Barranquilla - Bogota                       4\n",
       "Saigon - Paris                              4\n",
       "Agadir - Casablanca                         3\n",
       "Buenos Aires - Santiago                     3\n",
       "Bangkok - Hong Kong                         3\n",
       "Strasbourg - Paris                          3\n",
       "Barrow - Wainwright                         3\n",
       "Sao Paulo - Porto Alegre                    3\n",
       "Otis AFB                                    3\n",
       "Skydiving                                   3\n",
       "Villavicencio - Bogota                      3\n",
       "Lagos - Abuja                               3\n",
       "Paris - Croydon                             3\n",
       "Mexico City - Merida                        3\n",
       "Quito - Cuenca                              3\n",
       "Rio de Janeiro - Sao Paulo                  3\n",
       "Amsterdam - Paris                           3\n",
       "Santiago de Cuba - Havana                   3\n",
       "Bogota - Barranquilla                       3\n",
       "Berlin - Munich                             3\n",
       "London - Glasgow                            3\n",
       "                                         ... \n",
       "New York City - Bermuda                     1\n",
       "Moscow - Conakry                            1\n",
       "Port-Menier - Sept-Iles                     1\n",
       "Atlanta, GA - Martinsville, VA              1\n",
       "Cazid, Spain - Rome, Italy                  1\n",
       "Kobenhavn - Stockholm                       1\n",
       "Vestmannaeyar Island - Reykjavík            1\n",
       "Fort Lamy, Chad - Marseilles, France        1\n",
       "Buckley ANGB - Seattle NAS                  1\n",
       "Sharm el Sheikh, Egypt - Cairo, Egypt       1\n",
       "Karachi - Jeddah                            1\n",
       "Tabubil - Bimin                             1\n",
       "Rio - de Janerio - Paris                    1\n",
       "Juneau - Annette Island                     1\n",
       "Bacolod - Mactan                            1\n",
       "Sao Paulo - Trinidad                        1\n",
       "Jacksonville, FL - Gainsville, FL           1\n",
       "Mongasat - Keng Tung                        1\n",
       "Chicago - St. Louis                         1\n",
       "Ludwigsburg - Grafenwohr                    1\n",
       "N'Djamena, Chad - Brazzaville, Congo        1\n",
       "Malabo - Tripoli                            1\n",
       "Saint Louis - Dakar                         1\n",
       "Chico, CA - Billings, WY                    1\n",
       "Singapore - Kuala Lumpur                    1\n",
       "Zyryanka - Srednekymsk                      1\n",
       "Gizel - Khankala                            1\n",
       "Amsterdam - Cardiff                         1\n",
       "Kinshasa - Luluaburg                        1\n",
       "Detroit, MI - Louisville, KY                1\n",
       "Name: route, Length: 3527, dtype: int64"
      ]
     },
     "execution_count": 49,
     "metadata": {},
     "output_type": "execute_result"
    }
   ],
   "source": [
    "# check the data\n",
    "df.route.value_counts()"
   ]
  },
  {
   "cell_type": "markdown",
   "metadata": {},
   "source": [
    "### Cleaning \"aboard\" data column."
   ]
  },
  {
   "cell_type": "code",
   "execution_count": 50,
   "metadata": {},
   "outputs": [
    {
     "data": {
      "text/plain": [
       "322       8   (passengers:7  crew:1)\n",
       "2803    34   (passengers:31  crew:3)\n",
       "1128      7   (passengers:4  crew:3)\n",
       "4459    17   (passengers:15  crew:2)\n",
       "4560    18   (passengers:15  crew:3)\n",
       "Name: aboard, dtype: object"
      ]
     },
     "execution_count": 50,
     "metadata": {},
     "output_type": "execute_result"
    }
   ],
   "source": [
    "df['aboard'].sample(5)"
   ]
  },
  {
   "cell_type": "markdown",
   "metadata": {},
   "source": [
    "#### Observations\n",
    "- are of the format \"39   (passengers:33  crew:6)\n",
    "- can further split into 3 new columns - total_aboard, total_passengers_aboard and total_crew_aboard"
   ]
  },
  {
   "cell_type": "code",
   "execution_count": 51,
   "metadata": {},
   "outputs": [],
   "source": [
    "# check if the string \"passengers:\" is contained in all data values\n",
    "def check_passenger(test_str):\n",
    "    if \"passengers:\" in test_str:\n",
    "        return \"True\"\n",
    "    else:\n",
    "        return \"False\""
   ]
  },
  {
   "cell_type": "code",
   "execution_count": 52,
   "metadata": {},
   "outputs": [],
   "source": [
    "str_check = df['aboard'].apply(check_passenger)"
   ]
  },
  {
   "cell_type": "code",
   "execution_count": 53,
   "metadata": {},
   "outputs": [
    {
     "data": {
      "text/plain": [
       "array(['True'], dtype=object)"
      ]
     },
     "execution_count": 53,
     "metadata": {},
     "output_type": "execute_result"
    }
   ],
   "source": [
    "str_check.unique()"
   ]
  },
  {
   "cell_type": "code",
   "execution_count": 46,
   "metadata": {},
   "outputs": [
    {
     "data": {
      "text/plain": [
       "0"
      ]
     },
     "execution_count": 46,
     "metadata": {},
     "output_type": "execute_result"
    }
   ],
   "source": [
    "str_check[str_check == \"False\"].count()"
   ]
  },
  {
   "cell_type": "code",
   "execution_count": 54,
   "metadata": {},
   "outputs": [],
   "source": [
    "# Similarly check for string \"crew:\"\n",
    "def check_crew(test_str):\n",
    "    if \"crew:\" in test_str:\n",
    "        return \"True\"\n",
    "    else:\n",
    "        return \"False\""
   ]
  },
  {
   "cell_type": "code",
   "execution_count": 55,
   "metadata": {},
   "outputs": [
    {
     "data": {
      "text/plain": [
       "0"
      ]
     },
     "execution_count": 55,
     "metadata": {},
     "output_type": "execute_result"
    }
   ],
   "source": [
    "str_check = df['aboard'].apply(check_crew)\n",
    "str_check[str_check == \"False\"].count()"
   ]
  },
  {
   "cell_type": "code",
   "execution_count": 56,
   "metadata": {},
   "outputs": [],
   "source": [
    "# function to split the aboard data into three new values\n",
    "def aboard_check(total_aboard):\n",
    "    total_aboard_count = []\n",
    "    passengers_aboard = []\n",
    "    crew_aboard = []\n",
    "    total_aboard = total_aboard.strip()\n",
    "    total_count = total_aboard.split(\" \")[0]\n",
    "    passenger_count = total_aboard.split(\"passengers:\")[1].split(\" \")[0]\n",
    "    crew_count = total_aboard.split(\"crew:\")[1]   \n",
    "    crew_count = crew_count[:-1]\n",
    "    \n",
    "    total_count = total_count.strip()\n",
    "    passenger_count = passenger_count.strip()\n",
    "    crew_count = crew_count.strip()\n",
    "    \n",
    "    ret_val = pd.Series([total_count, passenger_count, crew_count])    \n",
    "    return ret_val\n",
    " "
   ]
  },
  {
   "cell_type": "code",
   "execution_count": 57,
   "metadata": {},
   "outputs": [],
   "source": [
    "board_counts = df['aboard'].apply(aboard_check)"
   ]
  },
  {
   "cell_type": "code",
   "execution_count": 58,
   "metadata": {},
   "outputs": [],
   "source": [
    "# replace all \"?\" with nan\n",
    "board_counts[0] = board_counts[0].replace('?', np.nan)\n",
    "board_counts[1] = board_counts[1].replace('?', np.nan)\n",
    "board_counts[2] = board_counts[2].replace('?', np.nan)"
   ]
  },
  {
   "cell_type": "code",
   "execution_count": 59,
   "metadata": {},
   "outputs": [],
   "source": [
    "# create the three new columns\n",
    "df['tot_boarded_count'] = board_counts[0]\n",
    "df['tot_passengers_boarded'] = board_counts[1]\n",
    "df['tot_crews_boarded'] = board_counts[2]"
   ]
  },
  {
   "cell_type": "code",
   "execution_count": 60,
   "metadata": {},
   "outputs": [],
   "source": [
    "# convert the new column types into float\n",
    "df['tot_boarded_count'] = df['tot_boarded_count'].astype(float)\n",
    "df['tot_passengers_boarded'] = df['tot_passengers_boarded'].astype(float)\n",
    "df['tot_crews_boarded'] = df['tot_crews_boarded'].astype(float)"
   ]
  },
  {
   "cell_type": "code",
   "execution_count": 61,
   "metadata": {},
   "outputs": [
    {
     "name": "stdout",
     "output_type": "stream",
     "text": [
      "<class 'pandas.core.frame.DataFrame'>\n",
      "RangeIndex: 5242 entries, 0 to 5241\n",
      "Data columns (total 19 columns):\n",
      "date                      5242 non-null object\n",
      "time                      5242 non-null object\n",
      "location                  5242 non-null object\n",
      "operator                  5242 non-null object\n",
      "flight_number             5242 non-null object\n",
      "route                     5242 non-null object\n",
      "aircraft_type             5242 non-null object\n",
      "registration              5242 non-null object\n",
      "cn_ln                     5242 non-null object\n",
      "aboard                    5242 non-null object\n",
      "fatalities                5242 non-null object\n",
      "ground                    5242 non-null object\n",
      "summary                   5242 non-null object\n",
      "region                    5242 non-null object\n",
      "country                   5242 non-null object\n",
      "operator_type             5242 non-null object\n",
      "tot_boarded_count         5205 non-null float64\n",
      "tot_passengers_boarded    4750 non-null float64\n",
      "tot_crews_boarded         4754 non-null float64\n",
      "dtypes: float64(3), object(16)\n",
      "memory usage: 778.2+ KB\n"
     ]
    }
   ],
   "source": [
    "# check the new columns\n",
    "df.info()"
   ]
  },
  {
   "cell_type": "code",
   "execution_count": 71,
   "metadata": {},
   "outputs": [
    {
     "data": {
      "text/html": [
       "<div>\n",
       "<style scoped>\n",
       "    .dataframe tbody tr th:only-of-type {\n",
       "        vertical-align: middle;\n",
       "    }\n",
       "\n",
       "    .dataframe tbody tr th {\n",
       "        vertical-align: top;\n",
       "    }\n",
       "\n",
       "    .dataframe thead th {\n",
       "        text-align: right;\n",
       "    }\n",
       "</style>\n",
       "<table border=\"1\" class=\"dataframe\">\n",
       "  <thead>\n",
       "    <tr style=\"text-align: right;\">\n",
       "      <th></th>\n",
       "      <th>date</th>\n",
       "      <th>time</th>\n",
       "      <th>location</th>\n",
       "      <th>operator</th>\n",
       "      <th>flight_number</th>\n",
       "      <th>route</th>\n",
       "      <th>aircraft_type</th>\n",
       "      <th>registration</th>\n",
       "      <th>cn_ln</th>\n",
       "      <th>aboard</th>\n",
       "      <th>fatalities</th>\n",
       "      <th>ground</th>\n",
       "      <th>summary</th>\n",
       "      <th>region</th>\n",
       "      <th>country</th>\n",
       "      <th>operator_type</th>\n",
       "      <th>tot_boarded_count</th>\n",
       "      <th>tot_passengers_boarded</th>\n",
       "      <th>tot_crews_boarded</th>\n",
       "    </tr>\n",
       "  </thead>\n",
       "  <tbody>\n",
       "    <tr>\n",
       "      <th>0</th>\n",
       "      <td>September 17, 1908</td>\n",
       "      <td>17:18</td>\n",
       "      <td>Fort Myer, Virginia</td>\n",
       "      <td>Military - U.S. Army</td>\n",
       "      <td>-</td>\n",
       "      <td>Demonstration</td>\n",
       "      <td>Wright Flyer III</td>\n",
       "      <td>?</td>\n",
       "      <td>1</td>\n",
       "      <td>2   (passengers:1  crew:1)</td>\n",
       "      <td>1   (passengers:1  crew:0)</td>\n",
       "      <td>0</td>\n",
       "      <td>During a demonstration flight, a U.S. Army fly...</td>\n",
       "      <td>Fort Myer</td>\n",
       "      <td>Virginia</td>\n",
       "      <td>Military</td>\n",
       "      <td>2.0</td>\n",
       "      <td>1.0</td>\n",
       "      <td>1.0</td>\n",
       "    </tr>\n",
       "    <tr>\n",
       "      <th>1</th>\n",
       "      <td>September 07, 1909</td>\n",
       "      <td>00:00</td>\n",
       "      <td>Juvisy-sur-Orge, France</td>\n",
       "      <td>-</td>\n",
       "      <td>-</td>\n",
       "      <td>Air show</td>\n",
       "      <td>Wright Byplane</td>\n",
       "      <td>SC1</td>\n",
       "      <td>?</td>\n",
       "      <td>1   (passengers:0  crew:1)</td>\n",
       "      <td>1   (passengers:0  crew:0)</td>\n",
       "      <td>0</td>\n",
       "      <td>Eugene Lefebvre was the first pilot to ever be...</td>\n",
       "      <td>Juvisy-sur-Orge</td>\n",
       "      <td>France</td>\n",
       "      <td>Commercial</td>\n",
       "      <td>1.0</td>\n",
       "      <td>0.0</td>\n",
       "      <td>1.0</td>\n",
       "    </tr>\n",
       "    <tr>\n",
       "      <th>2</th>\n",
       "      <td>July 12, 1912</td>\n",
       "      <td>06:30</td>\n",
       "      <td>Atlantic City, New Jersey</td>\n",
       "      <td>Military - U.S. Navy</td>\n",
       "      <td>-</td>\n",
       "      <td>Test flight</td>\n",
       "      <td>Dirigible</td>\n",
       "      <td>?</td>\n",
       "      <td>?</td>\n",
       "      <td>5   (passengers:0  crew:5)</td>\n",
       "      <td>5   (passengers:0  crew:5)</td>\n",
       "      <td>0</td>\n",
       "      <td>First U.S. dirigible Akron exploded just offsh...</td>\n",
       "      <td>Atlantic City</td>\n",
       "      <td>New Jersey</td>\n",
       "      <td>Military</td>\n",
       "      <td>5.0</td>\n",
       "      <td>0.0</td>\n",
       "      <td>5.0</td>\n",
       "    </tr>\n",
       "    <tr>\n",
       "      <th>3</th>\n",
       "      <td>August 06, 1913</td>\n",
       "      <td>00:00</td>\n",
       "      <td>Victoria, British Columbia, Canada</td>\n",
       "      <td>Private</td>\n",
       "      <td>-</td>\n",
       "      <td>-</td>\n",
       "      <td>Curtiss seaplane</td>\n",
       "      <td>?</td>\n",
       "      <td>?</td>\n",
       "      <td>1   (passengers:0  crew:1)</td>\n",
       "      <td>1   (passengers:0  crew:1)</td>\n",
       "      <td>0</td>\n",
       "      <td>The first fatal airplane accident in Canada oc...</td>\n",
       "      <td>Victoria British Columbia</td>\n",
       "      <td>Canada</td>\n",
       "      <td>Commercial</td>\n",
       "      <td>1.0</td>\n",
       "      <td>0.0</td>\n",
       "      <td>1.0</td>\n",
       "    </tr>\n",
       "    <tr>\n",
       "      <th>4</th>\n",
       "      <td>September 09, 1913</td>\n",
       "      <td>18:30</td>\n",
       "      <td>Over the North Sea</td>\n",
       "      <td>Military - German Navy</td>\n",
       "      <td>-</td>\n",
       "      <td>-</td>\n",
       "      <td>Zeppelin L-1 (airship)</td>\n",
       "      <td>?</td>\n",
       "      <td>?</td>\n",
       "      <td>20   (passengers:?  crew:?)</td>\n",
       "      <td>14   (passengers:?  crew:?)</td>\n",
       "      <td>0</td>\n",
       "      <td>The airship flew into a thunderstorm and encou...</td>\n",
       "      <td>Over the North Sea</td>\n",
       "      <td>-</td>\n",
       "      <td>Military</td>\n",
       "      <td>20.0</td>\n",
       "      <td>NaN</td>\n",
       "      <td>NaN</td>\n",
       "    </tr>\n",
       "  </tbody>\n",
       "</table>\n",
       "</div>"
      ],
      "text/plain": [
       "                 date   time                            location  \\\n",
       "0  September 17, 1908  17:18                 Fort Myer, Virginia   \n",
       "1  September 07, 1909  00:00             Juvisy-sur-Orge, France   \n",
       "2       July 12, 1912  06:30           Atlantic City, New Jersey   \n",
       "3     August 06, 1913  00:00  Victoria, British Columbia, Canada   \n",
       "4  September 09, 1913  18:30                  Over the North Sea   \n",
       "\n",
       "                 operator flight_number          route  \\\n",
       "0    Military - U.S. Army             -  Demonstration   \n",
       "1                       -             -       Air show   \n",
       "2    Military - U.S. Navy             -    Test flight   \n",
       "3                 Private             -              -   \n",
       "4  Military - German Navy             -              -   \n",
       "\n",
       "            aircraft_type registration cn_ln                       aboard  \\\n",
       "0        Wright Flyer III            ?     1   2   (passengers:1  crew:1)   \n",
       "1          Wright Byplane          SC1     ?   1   (passengers:0  crew:1)   \n",
       "2               Dirigible            ?     ?   5   (passengers:0  crew:5)   \n",
       "3        Curtiss seaplane            ?     ?   1   (passengers:0  crew:1)   \n",
       "4  Zeppelin L-1 (airship)            ?     ?  20   (passengers:?  crew:?)   \n",
       "\n",
       "                    fatalities ground  \\\n",
       "0   1   (passengers:1  crew:0)      0   \n",
       "1   1   (passengers:0  crew:0)      0   \n",
       "2   5   (passengers:0  crew:5)      0   \n",
       "3   1   (passengers:0  crew:1)      0   \n",
       "4  14   (passengers:?  crew:?)      0   \n",
       "\n",
       "                                             summary  \\\n",
       "0  During a demonstration flight, a U.S. Army fly...   \n",
       "1  Eugene Lefebvre was the first pilot to ever be...   \n",
       "2  First U.S. dirigible Akron exploded just offsh...   \n",
       "3  The first fatal airplane accident in Canada oc...   \n",
       "4  The airship flew into a thunderstorm and encou...   \n",
       "\n",
       "                       region      country operator_type  tot_boarded_count  \\\n",
       "0                   Fort Myer     Virginia      Military                2.0   \n",
       "1             Juvisy-sur-Orge       France    Commercial                1.0   \n",
       "2               Atlantic City   New Jersey      Military                5.0   \n",
       "3  Victoria British Columbia        Canada    Commercial                1.0   \n",
       "4          Over the North Sea            -      Military               20.0   \n",
       "\n",
       "   tot_passengers_boarded  tot_crews_boarded  \n",
       "0                     1.0                1.0  \n",
       "1                     0.0                1.0  \n",
       "2                     0.0                5.0  \n",
       "3                     0.0                1.0  \n",
       "4                     NaN                NaN  "
      ]
     },
     "execution_count": 71,
     "metadata": {},
     "output_type": "execute_result"
    }
   ],
   "source": [
    "df.head()"
   ]
  },
  {
   "cell_type": "markdown",
   "metadata": {},
   "source": [
    "### Cleaning up \"fatalities\" data column.\n",
    "\n",
    "\"fatalities\" data column format is similar to \"aboard\", so the same cleaning steps can be applied. Moreover, three new columns for fatalities can be further created for fatalities."
   ]
  },
  {
   "cell_type": "code",
   "execution_count": 62,
   "metadata": {},
   "outputs": [],
   "source": [
    "fatalities_count = df['fatalities'].apply(aboard_check)"
   ]
  },
  {
   "cell_type": "code",
   "execution_count": 63,
   "metadata": {},
   "outputs": [],
   "source": [
    "# replace missing values \"?\" with nan\n",
    "fatalities_count[0] = fatalities_count[0].replace('?', np.nan)\n",
    "fatalities_count[1] = fatalities_count[1].replace('?', np.nan)\n",
    "fatalities_count[2] = fatalities_count[2].replace('?', np.nan)"
   ]
  },
  {
   "cell_type": "code",
   "execution_count": 64,
   "metadata": {},
   "outputs": [],
   "source": [
    "# create new fatalities columns\n",
    "df['tot_fatalities_count'] = fatalities_count[0]\n",
    "df['passengers_fatalities'] = fatalities_count[1]\n",
    "df['tot_crews_fatalities'] = fatalities_count[2]"
   ]
  },
  {
   "cell_type": "code",
   "execution_count": 65,
   "metadata": {},
   "outputs": [],
   "source": [
    "# convert the datatype to \n",
    "df['tot_fatalities_count'] = df['tot_fatalities_count'].astype(float)\n",
    "df['passengers_fatalities'] = df['passengers_fatalities'].astype(float)\n",
    "df['tot_crews_fatalities'] = df['tot_crews_fatalities'].astype(float)"
   ]
  },
  {
   "cell_type": "code",
   "execution_count": 66,
   "metadata": {},
   "outputs": [
    {
     "name": "stdout",
     "output_type": "stream",
     "text": [
      "<class 'pandas.core.frame.DataFrame'>\n",
      "RangeIndex: 5242 entries, 0 to 5241\n",
      "Data columns (total 22 columns):\n",
      "date                      5242 non-null object\n",
      "time                      5242 non-null object\n",
      "location                  5242 non-null object\n",
      "operator                  5242 non-null object\n",
      "flight_number             5242 non-null object\n",
      "route                     5242 non-null object\n",
      "aircraft_type             5242 non-null object\n",
      "registration              5242 non-null object\n",
      "cn_ln                     5242 non-null object\n",
      "aboard                    5242 non-null object\n",
      "fatalities                5242 non-null object\n",
      "ground                    5242 non-null object\n",
      "summary                   5242 non-null object\n",
      "region                    5242 non-null object\n",
      "country                   5242 non-null object\n",
      "operator_type             5242 non-null object\n",
      "tot_boarded_count         5205 non-null float64\n",
      "tot_passengers_boarded    4750 non-null float64\n",
      "tot_crews_boarded         4754 non-null float64\n",
      "tot_fatalities_count      5231 non-null float64\n",
      "passengers_fatalities     4736 non-null float64\n",
      "tot_crews_fatalities      4738 non-null float64\n",
      "dtypes: float64(6), object(16)\n",
      "memory usage: 901.0+ KB\n"
     ]
    }
   ],
   "source": [
    "df.info()"
   ]
  },
  {
   "cell_type": "markdown",
   "metadata": {},
   "source": [
    "### Cleaning the aircraft_type data column"
   ]
  },
  {
   "cell_type": "code",
   "execution_count": 67,
   "metadata": {},
   "outputs": [
    {
     "data": {
      "text/plain": [
       "3623    Hawker Siddeley HS-121 Trident 2E\n",
       "4096                          Cessna 402B\n",
       "1674                    Noorduyn Norseman\n",
       "1005               Douglas C-54 Skymaster\n",
       "4557            Lockheed MC-130H Hercules\n",
       "Name: aircraft_type, dtype: object"
      ]
     },
     "execution_count": 67,
     "metadata": {},
     "output_type": "execute_result"
    }
   ],
   "source": [
    "df['aircraft_type'].sample(5)"
   ]
  },
  {
   "cell_type": "code",
   "execution_count": 68,
   "metadata": {},
   "outputs": [
    {
     "data": {
      "text/plain": [
       "24"
      ]
     },
     "execution_count": 68,
     "metadata": {},
     "output_type": "execute_result"
    }
   ],
   "source": [
    "# check for missing data with ?\n",
    "df.query('aircraft_type == \"?\"').shape[0]"
   ]
  },
  {
   "cell_type": "code",
   "execution_count": 69,
   "metadata": {},
   "outputs": [
    {
     "data": {
      "text/plain": [
       "Douglas DC-3                                310\n",
       "de Havilland Canada DHC-6 Twin Otter 300     76\n",
       "Douglas C-47A                                69\n",
       "Douglas C-47                                 59\n",
       "Douglas DC-4                                 41\n",
       "Junkers JU-52/3m                             32\n",
       "Yakovlev YAK-40                              32\n",
       "Cessna 208B Grand Caravan                    29\n",
       "Antonov AN-26                                29\n",
       "De Havilland DH-4                            27\n",
       "Douglas C-47B                                25\n",
       "Douglas DC-6B                                25\n",
       "?                                            24\n",
       "Curtiss C-46A                                21\n",
       "Breguet 14                                   21\n",
       "Douglas DC-6                                 21\n",
       "Douglas C-47-DL                              18\n",
       "Curtiss C-46                                 18\n",
       "McDonnell Douglas DC-9-32                    18\n",
       "Fokker F-27 Friendship 600                   17\n",
       "Antonov AN-12                                17\n",
       "Junkers F-13                                 17\n",
       "Tupolev TU-134A                              17\n",
       "Embraer 110P1 Bandeirante                    16\n",
       "de Havilland Canada DHC-6 Twin Otter 100     15\n",
       "Douglas DC-3C                                15\n",
       "Curtiss C-46F                                14\n",
       "Lockheed C-130H                              14\n",
       "Fokker F-27 Friendship 200                   14\n",
       "Antonov AN-24                                14\n",
       "                                           ... \n",
       "Eurocopter AS 350B2                           1\n",
       "Canadair CP-107 MK-2                          1\n",
       "Lockheed Vega 5B                              1\n",
       "Cessna 310H                                   1\n",
       "Bombardier CRJ200                             1\n",
       "Lockheed HC-130P Hercules                     1\n",
       "Zeppelin L-32 (airship)                       1\n",
       "de Havilland DH-34B                           1\n",
       "Lockheed Hercules KC-130R                     1\n",
       "Swearingen SA-226TC / Mooney M-20C            1\n",
       "Bae Jetstream 3201                            1\n",
       "urocopter AS350 B2                            1\n",
       "Douglas C47                                   1\n",
       "Piper PA-28R                                  1\n",
       "Vickers 804 Viscount                          1\n",
       "Short S-30 (flying boat)                      1\n",
       "M28 Skytruck                                  1\n",
       "Iluyshin Il-86                                1\n",
       "Britten Norman BN-2A-26                       1\n",
       "Helicopter?                                   1\n",
       "Lockheed L-18-56 Lodestar                     1\n",
       "Mil Mi-17 ( helicopter)                       1\n",
       "Ford 5-AT-D                                   1\n",
       "Sikorsky S61-L                                1\n",
       "Vickers Vanguard 952                          1\n",
       "Curtiss Carrier Pigeon                        1\n",
       "Boeing 737-286                                1\n",
       "British Aerospace BAe-125-800A                1\n",
       "Convair CV-240-12                             1\n",
       "CASA C-212 Aviocar 300DF                      1\n",
       "Name: aircraft_type, Length: 2557, dtype: int64"
      ]
     },
     "execution_count": 69,
     "metadata": {},
     "output_type": "execute_result"
    }
   ],
   "source": [
    "df.aircraft_type.value_counts()"
   ]
  },
  {
   "cell_type": "markdown",
   "metadata": {},
   "source": [
    "#### Observation\n",
    "- I think for aircraft_type, the only cleaning that is required is to replace the missing data \"?\"."
   ]
  },
  {
   "cell_type": "code",
   "execution_count": 70,
   "metadata": {},
   "outputs": [],
   "source": [
    "# clean up escape characters and replace \"?\" with \"-\"\n",
    "df['aircraft_type'] = df['aircraft_type'].apply(remove_escape_characters)"
   ]
  },
  {
   "cell_type": "code",
   "execution_count": 71,
   "metadata": {},
   "outputs": [
    {
     "data": {
      "text/plain": [
       "0"
      ]
     },
     "execution_count": 71,
     "metadata": {},
     "output_type": "execute_result"
    }
   ],
   "source": [
    "# check the data\n",
    "df.query('aircraft_type == \"?\"').shape[0]"
   ]
  },
  {
   "cell_type": "markdown",
   "metadata": {},
   "source": [
    "### Cleaning the \"registration\" data column"
   ]
  },
  {
   "cell_type": "code",
   "execution_count": 72,
   "metadata": {},
   "outputs": [
    {
     "data": {
      "text/plain": [
       "321"
      ]
     },
     "execution_count": 72,
     "metadata": {},
     "output_type": "execute_result"
    }
   ],
   "source": [
    "df.query('registration == \"?\"').shape[0]"
   ]
  },
  {
   "cell_type": "code",
   "execution_count": 73,
   "metadata": {},
   "outputs": [
    {
     "data": {
      "text/plain": [
       "1656     N68823\n",
       "3947    HL-7229\n",
       "5122     P2-SAH\n",
       "582           ?\n",
       "4758     C-GRXZ\n",
       "Name: registration, dtype: object"
      ]
     },
     "execution_count": 73,
     "metadata": {},
     "output_type": "execute_result"
    }
   ],
   "source": [
    "df['registration'].sample(5)"
   ]
  },
  {
   "cell_type": "code",
   "execution_count": 74,
   "metadata": {},
   "outputs": [],
   "source": [
    "# clean up escape characters and replace \"?\" with \"-\"\n",
    "df['registration'] = df['registration'].apply(remove_escape_characters)"
   ]
  },
  {
   "cell_type": "code",
   "execution_count": 75,
   "metadata": {},
   "outputs": [
    {
     "data": {
      "text/plain": [
       "0"
      ]
     },
     "execution_count": 75,
     "metadata": {},
     "output_type": "execute_result"
    }
   ],
   "source": [
    "# check data\n",
    "df.query('registration == \"?\"').shape[0]"
   ]
  },
  {
   "cell_type": "code",
   "execution_count": 76,
   "metadata": {},
   "outputs": [
    {
     "data": {
      "text/plain": [
       "3971    RDPL-34117\n",
       "2442    CCCP 11000\n",
       "2486        PP-CBV\n",
       "3969        C-GMOP\n",
       "2084        N708PA\n",
       "Name: registration, dtype: object"
      ]
     },
     "execution_count": 76,
     "metadata": {},
     "output_type": "execute_result"
    }
   ],
   "source": [
    "# check data\n",
    "df['registration'].sample(5)"
   ]
  },
  {
   "cell_type": "code",
   "execution_count": 80,
   "metadata": {},
   "outputs": [
    {
     "data": {
      "text/plain": [
       "-             321\n",
       "49              3\n",
       "NC10809         2\n",
       "SU-AFK          2\n",
       "65-0990         2\n",
       "TC-72           2\n",
       "58-0026         2\n",
       "N864JA          2\n",
       "FAE-068         2\n",
       "CF-TCL          2\n",
       "W4026           2\n",
       "N37741          2\n",
       "D-ALAK          2\n",
       "223             2\n",
       "CCCP-46724      2\n",
       "XA-GOT          2\n",
       "5-107           2\n",
       "32              2\n",
       "CCCP-11180      2\n",
       "G-AEUH          2\n",
       "CCCP-45012      2\n",
       "77              2\n",
       "204             2\n",
       "PT-EPH          2\n",
       "RF-76801        2\n",
       "101             2\n",
       "CCCP-74252      2\n",
       "012             2\n",
       "412             2\n",
       "F-AIUJ          2\n",
       "             ... \n",
       "N4723U          1\n",
       "EW-46465        1\n",
       "39067           1\n",
       "CCCP-46269      1\n",
       "N6936C          1\n",
       "52-5822         1\n",
       "CCCP-42411      1\n",
       "B-12256         1\n",
       "P2-ALX          1\n",
       "N550BP          1\n",
       "SU-ABI          1\n",
       "N28216          1\n",
       "44-77839        1\n",
       "N290            1\n",
       "N106US          1\n",
       "RP-C471         1\n",
       "PT-LJR          1\n",
       "X-ABAS          1\n",
       "ZK-POA          1\n",
       "9N-AEQ          1\n",
       "PK-PLV          1\n",
       "G-AGBB          1\n",
       "RP-C3010        1\n",
       "N1300N          1\n",
       "M-CCCC          1\n",
       "HK-172          1\n",
       "N22JA           1\n",
       "N153TW          1\n",
       "PK-VSE          1\n",
       "PI-C569         1\n",
       "Name: registration, Length: 4888, dtype: int64"
      ]
     },
     "execution_count": 80,
     "metadata": {},
     "output_type": "execute_result"
    }
   ],
   "source": [
    "df['registration'].value_counts()"
   ]
  },
  {
   "cell_type": "markdown",
   "metadata": {},
   "source": [
    "### Cleaning cn_ln data column"
   ]
  },
  {
   "cell_type": "code",
   "execution_count": 81,
   "metadata": {},
   "outputs": [
    {
     "data": {
      "text/plain": [
       "1025    16743/33491\n",
       "4122              ?\n",
       "1027          12162\n",
       "143             891\n",
       "4484           C033\n",
       "Name: cn_ln, dtype: object"
      ]
     },
     "execution_count": 81,
     "metadata": {},
     "output_type": "execute_result"
    }
   ],
   "source": [
    "df['cn_ln'].sample(5)"
   ]
  },
  {
   "cell_type": "markdown",
   "metadata": {},
   "source": [
    "#### Observations\n",
    "- the only cleaning required for this column is to replace \"?\" with \"-\" and then remove unwanted escape characters if any"
   ]
  },
  {
   "cell_type": "code",
   "execution_count": 82,
   "metadata": {},
   "outputs": [],
   "source": [
    "df['cn_ln'] = df['cn_ln'].apply(remove_escape_characters)"
   ]
  },
  {
   "cell_type": "code",
   "execution_count": 83,
   "metadata": {},
   "outputs": [
    {
     "data": {
      "text/plain": [
       "0"
      ]
     },
     "execution_count": 83,
     "metadata": {},
     "output_type": "execute_result"
    }
   ],
   "source": [
    "df[df['cn_ln'] == \"?\"].shape[0]"
   ]
  },
  {
   "cell_type": "markdown",
   "metadata": {},
   "source": [
    "### Cleaning \"ground\" data column"
   ]
  },
  {
   "cell_type": "code",
   "execution_count": 84,
   "metadata": {},
   "outputs": [
    {
     "data": {
      "text/plain": [
       "653     0\n",
       "3655    0\n",
       "4735    0\n",
       "2217    0\n",
       "578     0\n",
       "Name: ground, dtype: object"
      ]
     },
     "execution_count": 84,
     "metadata": {},
     "output_type": "execute_result"
    }
   ],
   "source": [
    "df['ground'].sample(5)"
   ]
  },
  {
   "cell_type": "code",
   "execution_count": 85,
   "metadata": {},
   "outputs": [
    {
     "data": {
      "text/plain": [
       "48"
      ]
     },
     "execution_count": 85,
     "metadata": {},
     "output_type": "execute_result"
    }
   ],
   "source": [
    "df[df['ground'] == \"?\"].shape[0]"
   ]
  },
  {
   "cell_type": "code",
   "execution_count": 86,
   "metadata": {},
   "outputs": [
    {
     "data": {
      "text/plain": [
       "0       4964\n",
       "1         58\n",
       "?         48\n",
       "2         27\n",
       "3         18\n",
       "4         17\n",
       "5         11\n",
       "8         10\n",
       "7         10\n",
       "10         6\n",
       "6          5\n",
       "13         4\n",
       "11         4\n",
       "44         4\n",
       "14         4\n",
       "22         3\n",
       "12         3\n",
       "20         3\n",
       "2750       2\n",
       "25         2\n",
       "30         2\n",
       "19         2\n",
       "24         2\n",
       "15         2\n",
       "17         2\n",
       "35         2\n",
       "23         2\n",
       "78         1\n",
       "37         1\n",
       "225        1\n",
       "33         1\n",
       "9          1\n",
       "32         1\n",
       "50         1\n",
       "52         1\n",
       "87         1\n",
       "125        1\n",
       "40         1\n",
       "29         1\n",
       "53         1\n",
       "36         1\n",
       "85         1\n",
       "67         1\n",
       "18         1\n",
       "47         1\n",
       "58         1\n",
       "39         1\n",
       "16         1\n",
       "49         1\n",
       "71         1\n",
       "63         1\n",
       "45         1\n",
       "Name: ground, dtype: int64"
      ]
     },
     "execution_count": 86,
     "metadata": {},
     "output_type": "execute_result"
    }
   ],
   "source": [
    "df['ground'].value_counts()"
   ]
  },
  {
   "cell_type": "markdown",
   "metadata": {},
   "source": [
    "#### Observations\n",
    "- the only cleaning required for this column is to replace \"?\" with \"-\""
   ]
  },
  {
   "cell_type": "code",
   "execution_count": 87,
   "metadata": {},
   "outputs": [],
   "source": [
    "# replace \"?\" with \"-\"\n",
    "df['ground'] = df['ground'].apply(remove_escape_characters)"
   ]
  },
  {
   "cell_type": "code",
   "execution_count": 88,
   "metadata": {},
   "outputs": [
    {
     "data": {
      "text/plain": [
       "0"
      ]
     },
     "execution_count": 88,
     "metadata": {},
     "output_type": "execute_result"
    }
   ],
   "source": [
    "# check data\n",
    "df[df['ground'] == \"?\"].shape[0]"
   ]
  },
  {
   "cell_type": "markdown",
   "metadata": {},
   "source": [
    "### Cleaning up summary data column"
   ]
  },
  {
   "cell_type": "code",
   "execution_count": 89,
   "metadata": {},
   "outputs": [
    {
     "name": "stdout",
     "output_type": "stream",
     "text": [
      "3588                                                    ?\n",
      "3734    The propeller of the No. 3 engine separated wh...\n",
      "1162    Hit a mountain in fog. Pilot's decision to fly...\n",
      "3301    While attempting to land at Madrid, the crew i...\n",
      "2544    While practicing touch and go landing the airc...\n",
      "Name: summary, dtype: object\n"
     ]
    }
   ],
   "source": [
    "print(df['summary'].sample(5))"
   ]
  },
  {
   "cell_type": "code",
   "execution_count": 90,
   "metadata": {},
   "outputs": [
    {
     "data": {
      "text/plain": [
       "210"
      ]
     },
     "execution_count": 90,
     "metadata": {},
     "output_type": "execute_result"
    }
   ],
   "source": [
    "df[df['summary'] == \"?\"].shape[0]"
   ]
  },
  {
   "cell_type": "markdown",
   "metadata": {},
   "source": [
    "#### Observations\n",
    "- missing data as \"?\"\n",
    "- manipulate the summary findings and can create a column that summarize the reason of the crash"
   ]
  },
  {
   "cell_type": "code",
   "execution_count": 91,
   "metadata": {},
   "outputs": [],
   "source": [
    "df['summary'] = df['summary'].apply(remove_escape_characters)"
   ]
  },
  {
   "cell_type": "markdown",
   "metadata": {},
   "source": [
    "### creating a new column that list the probable cause of the crash"
   ]
  },
  {
   "cell_type": "code",
   "execution_count": 108,
   "metadata": {},
   "outputs": [],
   "source": [
    "# just for testing and validation \n",
    "# ignore all the test1 related manipulations\n",
    "test1 = df.copy()"
   ]
  },
  {
   "cell_type": "code",
   "execution_count": 165,
   "metadata": {},
   "outputs": [
    {
     "name": "stdout",
     "output_type": "stream",
     "text": [
      "<class 'pandas.core.frame.DataFrame'>\n",
      "RangeIndex: 5242 entries, 0 to 5241\n",
      "Data columns (total 22 columns):\n",
      "date                      5242 non-null object\n",
      "time                      5242 non-null object\n",
      "location                  5242 non-null object\n",
      "operator                  5242 non-null object\n",
      "flight_number             5242 non-null object\n",
      "route                     5242 non-null object\n",
      "aircraft_type             5242 non-null object\n",
      "registration              5242 non-null object\n",
      "cn_ln                     5242 non-null object\n",
      "aboard                    5242 non-null object\n",
      "fatalities                5242 non-null object\n",
      "ground                    5242 non-null object\n",
      "summary                   5242 non-null object\n",
      "region                    5242 non-null object\n",
      "country                   5242 non-null object\n",
      "operator_type             5242 non-null object\n",
      "tot_boarded_count         5205 non-null float64\n",
      "tot_passengers_boarded    4750 non-null float64\n",
      "tot_crews_boarded         4754 non-null float64\n",
      "tot_fatalities_count      5231 non-null float64\n",
      "passengers_fatalities     4736 non-null float64\n",
      "tot_crews_fatalities      4738 non-null float64\n",
      "dtypes: float64(6), object(16)\n",
      "memory usage: 901.0+ KB\n"
     ]
    }
   ],
   "source": [
    "test.info()"
   ]
  },
  {
   "cell_type": "code",
   "execution_count": null,
   "metadata": {},
   "outputs": [],
   "source": [
    "#ignore this ****************************\n",
    "def remove_escape_characters(loc_string):\n",
    "    ignore_list_escape_characters = [\"\\n\",\"\\t\",\"\\r\",\"?\"]\n",
    "\n",
    "    for char in ignore_list_escape_characters:\n",
    "        loc_string = loc_string.replace(char, '')\n",
    "        \n",
    "    return loc_string"
   ]
  },
  {
   "cell_type": "code",
   "execution_count": 146,
   "metadata": {},
   "outputs": [],
   "source": [
    "# create a function to determine the probable cause from the summary\n",
    "def find_reason(string):\n",
    "    \n",
    "    shot_down = ['shot','shot down']\n",
    "    caught_fire = ['engine fire','engine caught fire','engine on fire']\n",
    "    faulty_design = ['faulty design']\n",
    "    IFR = ['IFR']\n",
    "    engine_failure = ['engine', 'failure', 'structural', 'engine failure', 'engine fail', 'malfunction', 'malfunctioning', 'broke']  \n",
    "    weather = ['fog', 'foggy', 'weather', 'storm', 'bad weather', 'poor weather', 'snow', 'lightning', 'atmoshphere']\n",
    "    low_altitude = ['low altitude','lower altitude']\n",
    "    pilot_error = ['pilot error','pilot misjudged','pilot was not qualified','pilot not qualified']\n",
    "    overweight = ['weight']\n",
    "    poor_visibility = ['visibility' , 'poor visibility']\n",
    "    lost_control = ['out of control', 'lost control'] \n",
    "    landing_taking_off = ['landing', 'to land', 'takoff', 'take off', 'taking off'] \n",
    "    \n",
    "    if any(substring in string for substring in shot_down):\n",
    "        reason = \"shot down - military\"\n",
    "    elif any(substring in string for substring in faulty_design):\n",
    "        reason = \"faulty design\"\n",
    "    elif any(substring in string for substring in IFR):\n",
    "        reason = \"IFR\"\n",
    "    elif any(substring in string for substring in weather):\n",
    "        reason = \"weather\"\n",
    "    elif any(substring in string for substring in caught_fire):\n",
    "        reason = \"caught fire\"  \n",
    "    elif any(substring in string for substring in pilot_error):\n",
    "        reason = \"pilot error\" \n",
    "    elif any(substring in string for substring in low_altitude):\n",
    "        reason = \"low altitude\"\n",
    "    elif any(substring in string for substring in overweight):\n",
    "        reason = \"overweight\"\n",
    "    elif any(substring in string for substring in poor_visibility):\n",
    "        reason = \"poor visibility\"\n",
    "    elif any(substring in string for substring in engine_failure):\n",
    "        reason = \"engine failure\"\n",
    "    elif any(substring in string for substring in landing_taking_off):\n",
    "        reason = \"landing or taking off\"\n",
    "    elif any(substring in string for substring in lost_control):\n",
    "        reason = \"lost control\"\n",
    "    else:\n",
    "        reason = \"unknown\"\n",
    "    \n",
    "    return reason     \n",
    "    \n",
    "    "
   ]
  },
  {
   "cell_type": "code",
   "execution_count": 110,
   "metadata": {},
   "outputs": [],
   "source": [
    "test1['reason'] = test1['summary'].apply(find_reason)"
   ]
  },
  {
   "cell_type": "code",
   "execution_count": 95,
   "metadata": {},
   "outputs": [
    {
     "data": {
      "text/plain": [
       "unknown                  2028\n",
       "engine failure           1254\n",
       "weather                   924\n",
       "landing or taking off     757\n",
       "shot down - military       95\n",
       "poor visibility            62\n",
       "lost control               51\n",
       "low altitude               32\n",
       "caught fire                20\n",
       "overweight                 17\n",
       "faulty design               2\n",
       "Name: reason, dtype: int64"
      ]
     },
     "execution_count": 95,
     "metadata": {},
     "output_type": "execute_result"
    }
   ],
   "source": [
    "test['reason'].value_counts()"
   ]
  },
  {
   "cell_type": "markdown",
   "metadata": {},
   "source": [
    "3063 - should be pilot error\n",
    "2630 - IFR\n"
   ]
  },
  {
   "cell_type": "code",
   "execution_count": 144,
   "metadata": {},
   "outputs": [
    {
     "data": {
      "text/plain": [
       "'Plunged to the ground thirty minutes after leaving Fort Worth. Tried to return to Dallas airport due to inclement weather.'"
      ]
     },
     "execution_count": 144,
     "metadata": {},
     "output_type": "execute_result"
    }
   ],
   "source": [
    "test1.iloc[389]['summary']"
   ]
  },
  {
   "cell_type": "code",
   "execution_count": 145,
   "metadata": {},
   "outputs": [
    {
     "data": {
      "text/plain": [
       "'weather'"
      ]
     },
     "execution_count": 145,
     "metadata": {},
     "output_type": "execute_result"
    }
   ],
   "source": [
    "test1.iloc[389]['reason']"
   ]
  },
  {
   "cell_type": "code",
   "execution_count": 134,
   "metadata": {},
   "outputs": [
    {
     "data": {
      "text/html": [
       "<div>\n",
       "<style scoped>\n",
       "    .dataframe tbody tr th:only-of-type {\n",
       "        vertical-align: middle;\n",
       "    }\n",
       "\n",
       "    .dataframe tbody tr th {\n",
       "        vertical-align: top;\n",
       "    }\n",
       "\n",
       "    .dataframe thead th {\n",
       "        text-align: right;\n",
       "    }\n",
       "</style>\n",
       "<table border=\"1\" class=\"dataframe\">\n",
       "  <thead>\n",
       "    <tr style=\"text-align: right;\">\n",
       "      <th></th>\n",
       "      <th>summary</th>\n",
       "      <th>reason</th>\n",
       "    </tr>\n",
       "  </thead>\n",
       "  <tbody>\n",
       "    <tr>\n",
       "      <th>580</th>\n",
       "      <td>Crashed near the Equator after the crew had lo...</td>\n",
       "      <td>engine failure</td>\n",
       "    </tr>\n",
       "    <tr>\n",
       "      <th>3506</th>\n",
       "      <td>The plane crashed in the jungle while returnin...</td>\n",
       "      <td>engine failure</td>\n",
       "    </tr>\n",
       "    <tr>\n",
       "      <th>2546</th>\n",
       "      <td>In flight engine fire caused left wing to sepa...</td>\n",
       "      <td>engine failure</td>\n",
       "    </tr>\n",
       "    <tr>\n",
       "      <th>5049</th>\n",
       "      <td>The plane failed to climb after takeoff and cr...</td>\n",
       "      <td>landing or taking off</td>\n",
       "    </tr>\n",
       "    <tr>\n",
       "      <th>389</th>\n",
       "      <td>Plunged to the ground thirty minutes after lea...</td>\n",
       "      <td>weather</td>\n",
       "    </tr>\n",
       "  </tbody>\n",
       "</table>\n",
       "</div>"
      ],
      "text/plain": [
       "                                                summary                 reason\n",
       "580   Crashed near the Equator after the crew had lo...         engine failure\n",
       "3506  The plane crashed in the jungle while returnin...         engine failure\n",
       "2546  In flight engine fire caused left wing to sepa...         engine failure\n",
       "5049  The plane failed to climb after takeoff and cr...  landing or taking off\n",
       "389   Plunged to the ground thirty minutes after lea...                weather"
      ]
     },
     "execution_count": 134,
     "metadata": {},
     "output_type": "execute_result"
    }
   ],
   "source": [
    "test1[['summary','reason']].sample(5)"
   ]
  },
  {
   "cell_type": "code",
   "execution_count": 147,
   "metadata": {},
   "outputs": [],
   "source": [
    "df['reason'] = df['summary'].apply(find_reason)"
   ]
  },
  {
   "cell_type": "code",
   "execution_count": 148,
   "metadata": {},
   "outputs": [
    {
     "data": {
      "text/html": [
       "<div>\n",
       "<style scoped>\n",
       "    .dataframe tbody tr th:only-of-type {\n",
       "        vertical-align: middle;\n",
       "    }\n",
       "\n",
       "    .dataframe tbody tr th {\n",
       "        vertical-align: top;\n",
       "    }\n",
       "\n",
       "    .dataframe thead th {\n",
       "        text-align: right;\n",
       "    }\n",
       "</style>\n",
       "<table border=\"1\" class=\"dataframe\">\n",
       "  <thead>\n",
       "    <tr style=\"text-align: right;\">\n",
       "      <th></th>\n",
       "      <th>summary</th>\n",
       "      <th>reason</th>\n",
       "    </tr>\n",
       "  </thead>\n",
       "  <tbody>\n",
       "    <tr>\n",
       "      <th>4806</th>\n",
       "      <td>The cargo plane crashed in fog while attemptin...</td>\n",
       "      <td>weather</td>\n",
       "    </tr>\n",
       "    <tr>\n",
       "      <th>56</th>\n",
       "      <td>The aircraft crashed in a field, short of the ...</td>\n",
       "      <td>weather</td>\n",
       "    </tr>\n",
       "    <tr>\n",
       "      <th>3359</th>\n",
       "      <td>Struck a tower while on approach in fog.  Weat...</td>\n",
       "      <td>weather</td>\n",
       "    </tr>\n",
       "    <tr>\n",
       "      <th>1</th>\n",
       "      <td>Eugene Lefebvre was the first pilot to ever be...</td>\n",
       "      <td>unknown</td>\n",
       "    </tr>\n",
       "    <tr>\n",
       "      <th>4867</th>\n",
       "      <td>Less than half minute after the taking-off fro...</td>\n",
       "      <td>low altitude</td>\n",
       "    </tr>\n",
       "    <tr>\n",
       "      <th>3454</th>\n",
       "      <td>The jet fighter crashed into a school shortly ...</td>\n",
       "      <td>engine failure</td>\n",
       "    </tr>\n",
       "    <tr>\n",
       "      <th>4480</th>\n",
       "      <td>After an engine failed the crew declared an em...</td>\n",
       "      <td>engine failure</td>\n",
       "    </tr>\n",
       "    <tr>\n",
       "      <th>1232</th>\n",
       "      <td>Crashed shortly after taking off.</td>\n",
       "      <td>landing or taking off</td>\n",
       "    </tr>\n",
       "    <tr>\n",
       "      <th>3782</th>\n",
       "      <td>Crashed into the side of Mt. Paso Macunaa at 5...</td>\n",
       "      <td>weather</td>\n",
       "    </tr>\n",
       "    <tr>\n",
       "      <th>2267</th>\n",
       "      <td>A mid-air collision occurred between the two h...</td>\n",
       "      <td>unknown</td>\n",
       "    </tr>\n",
       "  </tbody>\n",
       "</table>\n",
       "</div>"
      ],
      "text/plain": [
       "                                                summary                 reason\n",
       "4806  The cargo plane crashed in fog while attemptin...                weather\n",
       "56    The aircraft crashed in a field, short of the ...                weather\n",
       "3359  Struck a tower while on approach in fog.  Weat...                weather\n",
       "1     Eugene Lefebvre was the first pilot to ever be...                unknown\n",
       "4867  Less than half minute after the taking-off fro...           low altitude\n",
       "3454  The jet fighter crashed into a school shortly ...         engine failure\n",
       "4480  After an engine failed the crew declared an em...         engine failure\n",
       "1232                  Crashed shortly after taking off.  landing or taking off\n",
       "3782  Crashed into the side of Mt. Paso Macunaa at 5...                weather\n",
       "2267  A mid-air collision occurred between the two h...                unknown"
      ]
     },
     "execution_count": 148,
     "metadata": {},
     "output_type": "execute_result"
    }
   ],
   "source": [
    "# check data randomly\n",
    "df[['summary','reason']].sample(10)"
   ]
  },
  {
   "cell_type": "code",
   "execution_count": 149,
   "metadata": {},
   "outputs": [
    {
     "data": {
      "text/plain": [
       "unknown                  1987\n",
       "weather                  1084\n",
       "engine failure            961\n",
       "landing or taking off     759\n",
       "IFR                       107\n",
       "shot down - military       95\n",
       "poor visibility            76\n",
       "caught fire                56\n",
       "low altitude               45\n",
       "lost control               34\n",
       "overweight                 32\n",
       "pilot error                 4\n",
       "faulty design               2\n",
       "Name: reason, dtype: int64"
      ]
     },
     "execution_count": 149,
     "metadata": {},
     "output_type": "execute_result"
    }
   ],
   "source": [
    "df['reason'].value_counts()"
   ]
  },
  {
   "cell_type": "markdown",
   "metadata": {},
   "source": [
    "### Removing redundant data columns\n",
    "Now the data columns \"location\",\"aboard\" and \"fatalities\" can be removed. "
   ]
  },
  {
   "cell_type": "code",
   "execution_count": 150,
   "metadata": {},
   "outputs": [],
   "source": [
    "col = ['location','aboard','fatalities']\n",
    "df.drop(col, axis=1, inplace=True)"
   ]
  },
  {
   "cell_type": "code",
   "execution_count": 151,
   "metadata": {},
   "outputs": [
    {
     "name": "stdout",
     "output_type": "stream",
     "text": [
      "<class 'pandas.core.frame.DataFrame'>\n",
      "RangeIndex: 5242 entries, 0 to 5241\n",
      "Data columns (total 20 columns):\n",
      "date                      5242 non-null object\n",
      "time                      5242 non-null object\n",
      "operator                  5242 non-null object\n",
      "flight_number             5242 non-null object\n",
      "route                     5242 non-null object\n",
      "aircraft_type             5242 non-null object\n",
      "registration              5242 non-null object\n",
      "cn_ln                     5242 non-null object\n",
      "ground                    5242 non-null object\n",
      "summary                   5242 non-null object\n",
      "region                    5242 non-null object\n",
      "country                   5242 non-null object\n",
      "operator_type             5242 non-null object\n",
      "tot_boarded_count         5205 non-null float64\n",
      "tot_passengers_boarded    4750 non-null float64\n",
      "tot_crews_boarded         4754 non-null float64\n",
      "tot_fatalities_count      5231 non-null float64\n",
      "passengers_fatalities     4736 non-null float64\n",
      "tot_crews_fatalities      4738 non-null float64\n",
      "reason                    5242 non-null object\n",
      "dtypes: float64(6), object(14)\n",
      "memory usage: 819.1+ KB\n"
     ]
    }
   ],
   "source": [
    "df.info()"
   ]
  },
  {
   "cell_type": "code",
   "execution_count": 152,
   "metadata": {},
   "outputs": [],
   "source": [
    "# lets save the cleaned data set\n",
    "df.to_csv(\"plane_crash_cleaned_data.csv\", index = False)"
   ]
  }
 ],
 "metadata": {
  "kernelspec": {
   "display_name": "Python [default]",
   "language": "python",
   "name": "python3"
  },
  "language_info": {
   "codemirror_mode": {
    "name": "ipython",
    "version": 3
   },
   "file_extension": ".py",
   "mimetype": "text/x-python",
   "name": "python",
   "nbconvert_exporter": "python",
   "pygments_lexer": "ipython3",
   "version": "3.6.5"
  }
 },
 "nbformat": 4,
 "nbformat_minor": 2
}
